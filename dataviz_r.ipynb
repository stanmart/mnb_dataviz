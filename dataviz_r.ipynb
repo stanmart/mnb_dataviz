{
 "cells": [
  {
   "cell_type": "markdown",
   "metadata": {
    "slideshow": {
     "slide_type": "slide"
    }
   },
   "source": [
    "# Behavioral Finance 2020\n",
    "## Tutorial 1 — R Essentials\n",
    "\n",
    "*Martin Stancsics* (martin.stancsics@econ.uzh.ch)"
   ]
  },
  {
   "cell_type": "markdown",
   "metadata": {
    "slideshow": {
     "slide_type": "slide"
    }
   },
   "source": [
    "# Basics"
   ]
  },
  {
   "cell_type": "markdown",
   "metadata": {
    "slideshow": {
     "slide_type": "fragment"
    }
   },
   "source": [
    "R is an\n",
    "\n",
    " - interpreted\n",
    " - dyamically typed\n",
    " - multi-paradigm\n",
    "\n",
    "programming language."
   ]
  },
  {
   "cell_type": "markdown",
   "metadata": {
    "slideshow": {
     "slide_type": "fragment"
    }
   },
   "source": [
    "Altough it can be considered to be multi-paradigm (like Python) as it supports a variety of coding styles, it is *at heart a functional* language."
   ]
  },
  {
   "cell_type": "markdown",
   "metadata": {
    "slideshow": {
     "slide_type": "fragment"
    }
   },
   "source": [
    "If you did not understand much of the above, it is perfectly alright – you can still easily use R for data manipulation, data visualization, running regressions, and a whole lot more. However, if you have more programming experience, these attributes might help you find R's place in the taxonomy of programming languages."
   ]
  },
  {
   "cell_type": "markdown",
   "metadata": {
    "slideshow": {
     "slide_type": "slide"
    }
   },
   "source": [
    "## Vectors"
   ]
  },
  {
   "cell_type": "markdown",
   "metadata": {
    "slideshow": {
     "slide_type": "subslide"
    }
   },
   "source": [
    "In R, there is no difference between a scalar and a (one-element) vector."
   ]
  },
  {
   "cell_type": "code",
   "execution_count": 1,
   "metadata": {
    "slideshow": {
     "slide_type": "fragment"
    }
   },
   "outputs": [],
   "source": [
    "vec0 <- 0\n",
    "vec1 <- c(1, 2, 3)\n",
    "vec2 <- c(4, 5, 6)"
   ]
  },
  {
   "cell_type": "markdown",
   "metadata": {
    "slideshow": {
     "slide_type": "subslide"
    }
   },
   "source": [
    "Many functions and operators in R are vectorized"
   ]
  },
  {
   "cell_type": "code",
   "execution_count": 2,
   "metadata": {
    "slideshow": {
     "slide_type": "fragment"
    }
   },
   "outputs": [
    {
     "data": {
      "text/html": [
       "<ol class=list-inline>\n",
       "\t<li>5</li>\n",
       "\t<li>7</li>\n",
       "\t<li>9</li>\n",
       "</ol>\n"
      ],
      "text/latex": [
       "\\begin{enumerate*}\n",
       "\\item 5\n",
       "\\item 7\n",
       "\\item 9\n",
       "\\end{enumerate*}\n"
      ],
      "text/markdown": [
       "1. 5\n",
       "2. 7\n",
       "3. 9\n",
       "\n",
       "\n"
      ],
      "text/plain": [
       "[1] 5 7 9"
      ]
     },
     "metadata": {},
     "output_type": "display_data"
    }
   ],
   "source": [
    "vec1 + vec2"
   ]
  },
  {
   "cell_type": "code",
   "execution_count": 3,
   "metadata": {
    "slideshow": {
     "slide_type": "fragment"
    }
   },
   "outputs": [
    {
     "data": {
      "text/html": [
       "<ol class=list-inline>\n",
       "\t<li>1</li>\n",
       "\t<li>1.4142135623731</li>\n",
       "\t<li>1.73205080756888</li>\n",
       "</ol>\n"
      ],
      "text/latex": [
       "\\begin{enumerate*}\n",
       "\\item 1\n",
       "\\item 1.4142135623731\n",
       "\\item 1.73205080756888\n",
       "\\end{enumerate*}\n"
      ],
      "text/markdown": [
       "1. 1\n",
       "2. 1.4142135623731\n",
       "3. 1.73205080756888\n",
       "\n",
       "\n"
      ],
      "text/plain": [
       "[1] 1.000000 1.414214 1.732051"
      ]
     },
     "metadata": {},
     "output_type": "display_data"
    }
   ],
   "source": [
    "sqrt(vec1)"
   ]
  },
  {
   "cell_type": "code",
   "execution_count": 4,
   "metadata": {
    "slideshow": {
     "slide_type": "fragment"
    }
   },
   "outputs": [
    {
     "data": {
      "text/html": [
       "<ol class=list-inline>\n",
       "\t<li>1</li>\n",
       "\t<li>2</li>\n",
       "\t<li>6</li>\n",
       "</ol>\n"
      ],
      "text/latex": [
       "\\begin{enumerate*}\n",
       "\\item 1\n",
       "\\item 2\n",
       "\\item 6\n",
       "\\end{enumerate*}\n"
      ],
      "text/markdown": [
       "1. 1\n",
       "2. 2\n",
       "3. 6\n",
       "\n",
       "\n"
      ],
      "text/plain": [
       "[1] 1 2 6"
      ]
     },
     "metadata": {},
     "output_type": "display_data"
    }
   ],
   "source": [
    "ifelse(vec1 <= 2, vec1, vec2)"
   ]
  },
  {
   "cell_type": "markdown",
   "metadata": {
    "slideshow": {
     "slide_type": "subslide"
    }
   },
   "source": [
    "One of the most important operation on vectors is concatenation"
   ]
  },
  {
   "cell_type": "code",
   "execution_count": 5,
   "metadata": {
    "slideshow": {
     "slide_type": "fragment"
    }
   },
   "outputs": [
    {
     "data": {
      "text/html": [
       "<ol class=list-inline>\n",
       "\t<li>0</li>\n",
       "\t<li>1</li>\n",
       "\t<li>2</li>\n",
       "\t<li>3</li>\n",
       "\t<li>4</li>\n",
       "\t<li>5</li>\n",
       "\t<li>6</li>\n",
       "</ol>\n"
      ],
      "text/latex": [
       "\\begin{enumerate*}\n",
       "\\item 0\n",
       "\\item 1\n",
       "\\item 2\n",
       "\\item 3\n",
       "\\item 4\n",
       "\\item 5\n",
       "\\item 6\n",
       "\\end{enumerate*}\n"
      ],
      "text/markdown": [
       "1. 0\n",
       "2. 1\n",
       "3. 2\n",
       "4. 3\n",
       "5. 4\n",
       "6. 5\n",
       "7. 6\n",
       "\n",
       "\n"
      ],
      "text/plain": [
       "[1] 0 1 2 3 4 5 6"
      ]
     },
     "metadata": {},
     "output_type": "display_data"
    }
   ],
   "source": [
    "c(vec0, vec1, vec2)"
   ]
  },
  {
   "cell_type": "markdown",
   "metadata": {
    "slideshow": {
     "slide_type": "subslide"
    }
   },
   "source": [
    "Vectors have *types*"
   ]
  },
  {
   "cell_type": "code",
   "execution_count": 6,
   "metadata": {
    "slideshow": {
     "slide_type": "fragment"
    }
   },
   "outputs": [
    {
     "data": {
      "text/html": [
       "'logical'"
      ],
      "text/latex": [
       "'logical'"
      ],
      "text/markdown": [
       "'logical'"
      ],
      "text/plain": [
       "[1] \"logical\""
      ]
     },
     "metadata": {},
     "output_type": "display_data"
    },
    {
     "data": {
      "text/html": [
       "'integer'"
      ],
      "text/latex": [
       "'integer'"
      ],
      "text/markdown": [
       "'integer'"
      ],
      "text/plain": [
       "[1] \"integer\""
      ]
     },
     "metadata": {},
     "output_type": "display_data"
    },
    {
     "data": {
      "text/html": [
       "'double'"
      ],
      "text/latex": [
       "'double'"
      ],
      "text/markdown": [
       "'double'"
      ],
      "text/plain": [
       "[1] \"double\""
      ]
     },
     "metadata": {},
     "output_type": "display_data"
    },
    {
     "data": {
      "text/html": [
       "'character'"
      ],
      "text/latex": [
       "'character'"
      ],
      "text/markdown": [
       "'character'"
      ],
      "text/plain": [
       "[1] \"character\""
      ]
     },
     "metadata": {},
     "output_type": "display_data"
    }
   ],
   "source": [
    "typeof(c(TRUE, FALSE))\n",
    "typeof(c(1L, 2L, 3L))\n",
    "typeof(c(1.0, 2.5, pi))\n",
    "typeof(c(\"a\", \"b\", \"c\"))"
   ]
  },
  {
   "cell_type": "markdown",
   "metadata": {
    "slideshow": {
     "slide_type": "subslide"
    }
   },
   "source": [
    "Each element of a vector must be of the same type, but implicit casting occurs in some cases"
   ]
  },
  {
   "cell_type": "code",
   "execution_count": 7,
   "metadata": {
    "slideshow": {
     "slide_type": "fragment"
    }
   },
   "outputs": [
    {
     "data": {
      "text/html": [
       "<ol class=list-inline>\n",
       "\t<li>'1'</li>\n",
       "\t<li>'2'</li>\n",
       "\t<li>'3'</li>\n",
       "\t<li>'a'</li>\n",
       "\t<li>'b'</li>\n",
       "\t<li>'c'</li>\n",
       "</ol>\n"
      ],
      "text/latex": [
       "\\begin{enumerate*}\n",
       "\\item '1'\n",
       "\\item '2'\n",
       "\\item '3'\n",
       "\\item 'a'\n",
       "\\item 'b'\n",
       "\\item 'c'\n",
       "\\end{enumerate*}\n"
      ],
      "text/markdown": [
       "1. '1'\n",
       "2. '2'\n",
       "3. '3'\n",
       "4. 'a'\n",
       "5. 'b'\n",
       "6. 'c'\n",
       "\n",
       "\n"
      ],
      "text/plain": [
       "[1] \"1\" \"2\" \"3\" \"a\" \"b\" \"c\""
      ]
     },
     "metadata": {},
     "output_type": "display_data"
    }
   ],
   "source": [
    "vec_char <- c(\"a\", \"b\", \"c\")\n",
    "c(vec1, vec_char)"
   ]
  },
  {
   "cell_type": "markdown",
   "metadata": {
    "slideshow": {
     "slide_type": "fragment"
    }
   },
   "source": [
    "Not in others, though"
   ]
  },
  {
   "cell_type": "code",
   "execution_count": 8,
   "metadata": {
    "jupyter": {
     "source_hidden": true
    },
    "slideshow": {
     "slide_type": "fragment"
    }
   },
   "outputs": [
    {
     "ename": "ERROR",
     "evalue": "Error in vec1 + vec_char: non-numeric argument to binary operator\n",
     "output_type": "error",
     "traceback": [
      "Error in vec1 + vec_char: non-numeric argument to binary operator\nTraceback:\n"
     ]
    }
   ],
   "source": [
    "vec1 + vec_char"
   ]
  },
  {
   "cell_type": "markdown",
   "metadata": {
    "slideshow": {
     "slide_type": "slide"
    }
   },
   "source": [
    "## Lists"
   ]
  },
  {
   "cell_type": "markdown",
   "metadata": {
    "jupyter": {
     "source_hidden": true
    }
   },
   "source": [
    "Lists are more flexible.\n",
    " - can have heterogeneous elements\n",
    " - can be recursive (can have lists as elements)\n",
    " - can have vectors as elements"
   ]
  },
  {
   "cell_type": "code",
   "execution_count": 10,
   "metadata": {
    "slideshow": {
     "slide_type": "subslide"
    }
   },
   "outputs": [
    {
     "data": {
      "text/html": [
       "<ol>\n",
       "\t<li>1</li>\n",
       "\t<li>2</li>\n",
       "\t<li>3</li>\n",
       "</ol>\n"
      ],
      "text/latex": [
       "\\begin{enumerate}\n",
       "\\item 1\n",
       "\\item 2\n",
       "\\item 3\n",
       "\\end{enumerate}\n"
      ],
      "text/markdown": [
       "1. 1\n",
       "2. 2\n",
       "3. 3\n",
       "\n",
       "\n"
      ],
      "text/plain": [
       "[[1]]\n",
       "[1] 1\n",
       "\n",
       "[[2]]\n",
       "[1] 2\n",
       "\n",
       "[[3]]\n",
       "[1] 3\n"
      ]
     },
     "metadata": {},
     "output_type": "display_data"
    }
   ],
   "source": [
    "lst1 <- list(1, 2, 3)\n",
    "lst1"
   ]
  },
  {
   "cell_type": "code",
   "execution_count": 11,
   "metadata": {
    "slideshow": {
     "slide_type": "fragment"
    }
   },
   "outputs": [
    {
     "data": {
      "text/html": [
       "<ol>\n",
       "\t<li><ol class=list-inline>\n",
       "\t<li>1</li>\n",
       "\t<li>2</li>\n",
       "\t<li>3</li>\n",
       "</ol>\n",
       "</li>\n",
       "\t<li><ol class=list-inline>\n",
       "\t<li>4</li>\n",
       "\t<li>5</li>\n",
       "\t<li>6</li>\n",
       "</ol>\n",
       "</li>\n",
       "</ol>\n"
      ],
      "text/latex": [
       "\\begin{enumerate}\n",
       "\\item \\begin{enumerate*}\n",
       "\\item 1\n",
       "\\item 2\n",
       "\\item 3\n",
       "\\end{enumerate*}\n",
       "\n",
       "\\item \\begin{enumerate*}\n",
       "\\item 4\n",
       "\\item 5\n",
       "\\item 6\n",
       "\\end{enumerate*}\n",
       "\n",
       "\\end{enumerate}\n"
      ],
      "text/markdown": [
       "1. 1. 1\n",
       "2. 2\n",
       "3. 3\n",
       "\n",
       "\n",
       "\n",
       "2. 1. 4\n",
       "2. 5\n",
       "3. 6\n",
       "\n",
       "\n",
       "\n",
       "\n",
       "\n"
      ],
      "text/plain": [
       "[[1]]\n",
       "[1] 1 2 3\n",
       "\n",
       "[[2]]\n",
       "[1] 4 5 6\n"
      ]
     },
     "metadata": {},
     "output_type": "display_data"
    }
   ],
   "source": [
    "lst2 <- list(\n",
    "    c(1, 2, 3),\n",
    "    c(4, 5, 6)\n",
    ")\n",
    "lst2"
   ]
  },
  {
   "cell_type": "code",
   "execution_count": 12,
   "metadata": {
    "slideshow": {
     "slide_type": "subslide"
    }
   },
   "outputs": [
    {
     "data": {
      "text/html": [
       "<ol>\n",
       "\t<li>1</li>\n",
       "\t<li>2</li>\n",
       "\t<li>3</li>\n",
       "\t<li><ol class=list-inline>\n",
       "\t<li>1</li>\n",
       "\t<li>2</li>\n",
       "\t<li>3</li>\n",
       "</ol>\n",
       "</li>\n",
       "\t<li><ol class=list-inline>\n",
       "\t<li>4</li>\n",
       "\t<li>5</li>\n",
       "\t<li>6</li>\n",
       "</ol>\n",
       "</li>\n",
       "</ol>\n"
      ],
      "text/latex": [
       "\\begin{enumerate}\n",
       "\\item 1\n",
       "\\item 2\n",
       "\\item 3\n",
       "\\item \\begin{enumerate*}\n",
       "\\item 1\n",
       "\\item 2\n",
       "\\item 3\n",
       "\\end{enumerate*}\n",
       "\n",
       "\\item \\begin{enumerate*}\n",
       "\\item 4\n",
       "\\item 5\n",
       "\\item 6\n",
       "\\end{enumerate*}\n",
       "\n",
       "\\end{enumerate}\n"
      ],
      "text/markdown": [
       "1. 1\n",
       "2. 2\n",
       "3. 3\n",
       "4. 1. 1\n",
       "2. 2\n",
       "3. 3\n",
       "\n",
       "\n",
       "\n",
       "5. 1. 4\n",
       "2. 5\n",
       "3. 6\n",
       "\n",
       "\n",
       "\n",
       "\n",
       "\n"
      ],
      "text/plain": [
       "[[1]]\n",
       "[1] 1\n",
       "\n",
       "[[2]]\n",
       "[1] 2\n",
       "\n",
       "[[3]]\n",
       "[1] 3\n",
       "\n",
       "[[4]]\n",
       "[1] 1 2 3\n",
       "\n",
       "[[5]]\n",
       "[1] 4 5 6\n"
      ]
     },
     "metadata": {},
     "output_type": "display_data"
    }
   ],
   "source": [
    "c(lst1, lst2)"
   ]
  },
  {
   "cell_type": "code",
   "execution_count": 13,
   "metadata": {
    "slideshow": {
     "slide_type": "subslide"
    }
   },
   "outputs": [
    {
     "data": {
      "text/html": [
       "<ol>\n",
       "\t<li>1</li>\n",
       "\t<li>2</li>\n",
       "\t<li>3</li>\n",
       "\t<li><ol>\n",
       "\t<li><ol class=list-inline>\n",
       "\t<li>1</li>\n",
       "\t<li>2</li>\n",
       "\t<li>3</li>\n",
       "</ol>\n",
       "</li>\n",
       "\t<li><ol class=list-inline>\n",
       "\t<li>4</li>\n",
       "\t<li>5</li>\n",
       "\t<li>6</li>\n",
       "</ol>\n",
       "</li>\n",
       "</ol>\n",
       "</li>\n",
       "</ol>\n"
      ],
      "text/latex": [
       "\\begin{enumerate}\n",
       "\\item 1\n",
       "\\item 2\n",
       "\\item 3\n",
       "\\item \\begin{enumerate}\n",
       "\\item \\begin{enumerate*}\n",
       "\\item 1\n",
       "\\item 2\n",
       "\\item 3\n",
       "\\end{enumerate*}\n",
       "\n",
       "\\item \\begin{enumerate*}\n",
       "\\item 4\n",
       "\\item 5\n",
       "\\item 6\n",
       "\\end{enumerate*}\n",
       "\n",
       "\\end{enumerate}\n",
       "\n",
       "\\end{enumerate}\n"
      ],
      "text/markdown": [
       "1. 1\n",
       "2. 2\n",
       "3. 3\n",
       "4. 1. 1. 1\n",
       "2. 2\n",
       "3. 3\n",
       "\n",
       "\n",
       "\n",
       "2. 1. 4\n",
       "2. 5\n",
       "3. 6\n",
       "\n",
       "\n",
       "\n",
       "\n",
       "\n",
       "\n",
       "\n",
       "\n"
      ],
      "text/plain": [
       "[[1]]\n",
       "[1] 1\n",
       "\n",
       "[[2]]\n",
       "[1] 2\n",
       "\n",
       "[[3]]\n",
       "[1] 3\n",
       "\n",
       "[[4]]\n",
       "[[4]][[1]]\n",
       "[1] 1 2 3\n",
       "\n",
       "[[4]][[2]]\n",
       "[1] 4 5 6\n",
       "\n"
      ]
     },
     "metadata": {},
     "output_type": "display_data"
    }
   ],
   "source": [
    "lst1[[4]] <- lst2\n",
    "lst1"
   ]
  },
  {
   "cell_type": "markdown",
   "metadata": {
    "slideshow": {
     "slide_type": "subslide"
    }
   },
   "source": [
    "`[]` always returns a sublist, while `[[]]` always return an element"
   ]
  },
  {
   "cell_type": "code",
   "execution_count": 14,
   "metadata": {
    "slideshow": {
     "slide_type": "fragment"
    }
   },
   "outputs": [
    {
     "data": {
      "text/html": [
       "<ol>\n",
       "\t<li>1</li>\n",
       "</ol>\n"
      ],
      "text/latex": [
       "\\begin{enumerate}\n",
       "\\item 1\n",
       "\\end{enumerate}\n"
      ],
      "text/markdown": [
       "1. 1\n",
       "\n",
       "\n"
      ],
      "text/plain": [
       "[[1]]\n",
       "[1] 1\n"
      ]
     },
     "metadata": {},
     "output_type": "display_data"
    }
   ],
   "source": [
    "lst1[1]"
   ]
  },
  {
   "cell_type": "code",
   "execution_count": 15,
   "metadata": {
    "slideshow": {
     "slide_type": "fragment"
    }
   },
   "outputs": [
    {
     "data": {
      "text/html": [
       "1"
      ],
      "text/latex": [
       "1"
      ],
      "text/markdown": [
       "1"
      ],
      "text/plain": [
       "[1] 1"
      ]
     },
     "metadata": {},
     "output_type": "display_data"
    }
   ],
   "source": [
    "lst1[[1]]"
   ]
  },
  {
   "cell_type": "code",
   "execution_count": 16,
   "metadata": {
    "slideshow": {
     "slide_type": "fragment"
    }
   },
   "outputs": [
    {
     "data": {
      "text/html": [
       "<ol>\n",
       "\t<li>1</li>\n",
       "\t<li>2</li>\n",
       "</ol>\n"
      ],
      "text/latex": [
       "\\begin{enumerate}\n",
       "\\item 1\n",
       "\\item 2\n",
       "\\end{enumerate}\n"
      ],
      "text/markdown": [
       "1. 1\n",
       "2. 2\n",
       "\n",
       "\n"
      ],
      "text/plain": [
       "[[1]]\n",
       "[1] 1\n",
       "\n",
       "[[2]]\n",
       "[1] 2\n"
      ]
     },
     "metadata": {},
     "output_type": "display_data"
    }
   ],
   "source": [
    "lst1[1:2]"
   ]
  },
  {
   "cell_type": "code",
   "execution_count": 17,
   "metadata": {
    "slideshow": {
     "slide_type": "fragment"
    }
   },
   "outputs": [
    {
     "ename": "ERROR",
     "evalue": "Error in lst1[[1:2]]: subscript out of bounds\n",
     "output_type": "error",
     "traceback": [
      "Error in lst1[[1:2]]: subscript out of bounds\nTraceback:\n"
     ]
    }
   ],
   "source": [
    "lst1[[1:2]]"
   ]
  },
  {
   "cell_type": "markdown",
   "metadata": {
    "slideshow": {
     "slide_type": "slide"
    }
   },
   "source": [
    "## Functions"
   ]
  },
  {
   "cell_type": "markdown",
   "metadata": {
    "slideshow": {
     "slide_type": "fragment"
    }
   },
   "source": [
    "Defining functions in R is really simple. Do so often!"
   ]
  },
  {
   "cell_type": "code",
   "execution_count": 18,
   "metadata": {},
   "outputs": [
    {
     "data": {
      "text/html": [
       "5"
      ],
      "text/latex": [
       "5"
      ],
      "text/markdown": [
       "5"
      ],
      "text/plain": [
       "[1] 5"
      ]
     },
     "metadata": {},
     "output_type": "display_data"
    }
   ],
   "source": [
    "fun1 <- function(a, b) {\n",
    "    return(a + b)\n",
    "}\n",
    "fun1(2, 3)"
   ]
  },
  {
   "cell_type": "markdown",
   "metadata": {
    "slideshow": {
     "slide_type": "subslide"
    }
   },
   "source": [
    "If there is no return statement (function), the result of the last expression is returned implicitly"
   ]
  },
  {
   "cell_type": "code",
   "execution_count": 19,
   "metadata": {},
   "outputs": [
    {
     "data": {
      "text/html": [
       "-1"
      ],
      "text/latex": [
       "-1"
      ],
      "text/markdown": [
       "-1"
      ],
      "text/plain": [
       "[1] -1"
      ]
     },
     "metadata": {},
     "output_type": "display_data"
    }
   ],
   "source": [
    "fun2 <- function(a, b) {\n",
    "    a - b\n",
    "}\n",
    "fun2(2, 3)"
   ]
  },
  {
   "cell_type": "markdown",
   "metadata": {
    "slideshow": {
     "slide_type": "fragment"
    }
   },
   "source": [
    "Function arguments can also be specified by name instead of position"
   ]
  },
  {
   "cell_type": "code",
   "execution_count": 20,
   "metadata": {
    "jupyter": {
     "source_hidden": true
    }
   },
   "outputs": [
    {
     "data": {
      "text/html": [
       "1"
      ],
      "text/latex": [
       "1"
      ],
      "text/markdown": [
       "1"
      ],
      "text/plain": [
       "[1] 1"
      ]
     },
     "metadata": {},
     "output_type": "display_data"
    }
   ],
   "source": [
    "fun2(b = 2, a = 3)"
   ]
  },
  {
   "cell_type": "markdown",
   "metadata": {
    "slideshow": {
     "slide_type": "subslide"
    }
   },
   "source": [
    "And functions can do a whole lot of things in R:\n",
    " - take functions as arguments\n",
    " - return functions\n",
    " - delay the evaluation of their arguments\n",
    " - and much more...\n",
    "\n",
    "However, their most important use cases are *eliminating code repetition* and *code structuring*. When you find yourself repeating or copy pasting the same section of code (with possibly minor differences), it is a sign of bad code (code smell), and you are most often better of refactoring the repeated code section into a function and calling it multiple times."
   ]
  },
  {
   "cell_type": "markdown",
   "metadata": {
    "slideshow": {
     "slide_type": "slide"
    }
   },
   "source": [
    "## Control flow"
   ]
  },
  {
   "cell_type": "markdown",
   "metadata": {},
   "source": [
    "R has the usual set of control flow tools"
   ]
  },
  {
   "cell_type": "code",
   "execution_count": 21,
   "metadata": {
    "slideshow": {
     "slide_type": "subslide"
    }
   },
   "outputs": [
    {
     "name": "stdout",
     "output_type": "stream",
     "text": [
      "[1] \"a is pretty large\"\n"
     ]
    }
   ],
   "source": [
    "a <- 3\n",
    "if (a < 2) {\n",
    "    print(\"a is small\")\n",
    "} else if (a < 4) {\n",
    "    print(\"a is pretty large\")\n",
    "} else {\n",
    "    print(\"Whoah, a is humongous\")\n",
    "}"
   ]
  },
  {
   "cell_type": "code",
   "execution_count": 22,
   "metadata": {
    "slideshow": {
     "slide_type": "subslide"
    }
   },
   "outputs": [
    {
     "name": "stdout",
     "output_type": "stream",
     "text": [
      "[1] 1\n",
      "[1] 2\n",
      "[1] 3\n"
     ]
    }
   ],
   "source": [
    "for (i in 1:3) {\n",
    "    print(i)\n",
    "}"
   ]
  },
  {
   "cell_type": "code",
   "execution_count": 23,
   "metadata": {
    "slideshow": {
     "slide_type": "fragment"
    }
   },
   "outputs": [
    {
     "name": "stdout",
     "output_type": "stream",
     "text": [
      "[1] 1\n",
      "[1] 2\n"
     ]
    }
   ],
   "source": [
    "n <- 1\n",
    "while (n < 3) {\n",
    "    print(n)\n",
    "    n <- n + 1\n",
    "}"
   ]
  },
  {
   "cell_type": "markdown",
   "metadata": {
    "slideshow": {
     "slide_type": "subslide"
    }
   },
   "source": [
    "They can of course be nested"
   ]
  },
  {
   "cell_type": "code",
   "execution_count": 24,
   "metadata": {
    "scrolled": true
   },
   "outputs": [
    {
     "name": "stdout",
     "output_type": "stream",
     "text": [
      "[1] 1\n",
      "[1] \"fizz\"\n",
      "[1] \"buzz\"\n",
      "[1] \"fizz\"\n",
      "[1] 5\n",
      "[1] \"fizzbuzz\"\n",
      "[1] 7\n",
      "[1] \"fizz\"\n",
      "[1] \"buzz\"\n",
      "[1] \"fizz\"\n"
     ]
    }
   ],
   "source": [
    "for (i in 1:10) {\n",
    "    if (i %% 6 == 0) {\n",
    "        print(\"fizzbuzz\")\n",
    "    } else if (i %% 2 == 0) {\n",
    "        print(\"fizz\")\n",
    "    } else if (i %% 3 == 0) {\n",
    "        print(\"buzz\")\n",
    "    } else {\n",
    "        print(i)\n",
    "    }\n",
    "}"
   ]
  },
  {
   "cell_type": "markdown",
   "metadata": {
    "slideshow": {
     "slide_type": "slide"
    }
   },
   "source": [
    "## Distributions"
   ]
  },
  {
   "cell_type": "markdown",
   "metadata": {
    "slideshow": {
     "slide_type": "subslide"
    }
   },
   "source": [
    "It is often useful to generate random vectors in R"
   ]
  },
  {
   "cell_type": "code",
   "execution_count": 141,
   "metadata": {
    "scrolled": true
   },
   "outputs": [
    {
     "data": {
      "text/html": [
       "<ol class=list-inline>\n",
       "\t<li>0.41932527651079</li>\n",
       "\t<li>0.568837324157357</li>\n",
       "\t<li>0.137638816609979</li>\n",
       "</ol>\n"
      ],
      "text/latex": [
       "\\begin{enumerate*}\n",
       "\\item 0.41932527651079\n",
       "\\item 0.568837324157357\n",
       "\\item 0.137638816609979\n",
       "\\end{enumerate*}\n"
      ],
      "text/markdown": [
       "1. 0.41932527651079\n",
       "2. 0.568837324157357\n",
       "3. 0.137638816609979\n",
       "\n",
       "\n"
      ],
      "text/plain": [
       "[1] 0.4193253 0.5688373 0.1376388"
      ]
     },
     "metadata": {},
     "output_type": "display_data"
    },
    {
     "data": {
      "text/html": [
       "<ol class=list-inline>\n",
       "\t<li>-1.37458096726628</li>\n",
       "\t<li>0.693058005696174</li>\n",
       "\t<li>3.16741662193653</li>\n",
       "</ol>\n"
      ],
      "text/latex": [
       "\\begin{enumerate*}\n",
       "\\item -1.37458096726628\n",
       "\\item 0.693058005696174\n",
       "\\item 3.16741662193653\n",
       "\\end{enumerate*}\n"
      ],
      "text/markdown": [
       "1. -1.37458096726628\n",
       "2. 0.693058005696174\n",
       "3. 3.16741662193653\n",
       "\n",
       "\n"
      ],
      "text/plain": [
       "[1] -1.374581  0.693058  3.167417"
      ]
     },
     "metadata": {},
     "output_type": "display_data"
    },
    {
     "data": {
      "text/html": [
       "<ol class=list-inline>\n",
       "\t<li>TRUE</li>\n",
       "\t<li>FALSE</li>\n",
       "\t<li>FALSE</li>\n",
       "</ol>\n"
      ],
      "text/latex": [
       "\\begin{enumerate*}\n",
       "\\item TRUE\n",
       "\\item FALSE\n",
       "\\item FALSE\n",
       "\\end{enumerate*}\n"
      ],
      "text/markdown": [
       "1. TRUE\n",
       "2. FALSE\n",
       "3. FALSE\n",
       "\n",
       "\n"
      ],
      "text/plain": [
       "[1]  TRUE FALSE FALSE"
      ]
     },
     "metadata": {},
     "output_type": "display_data"
    }
   ],
   "source": [
    "runif(3)\n",
    "rnorm(3, mean = 1, sd = 2)\n",
    "rbernoulli(3)"
   ]
  },
  {
   "cell_type": "markdown",
   "metadata": {
    "slideshow": {
     "slide_type": "fragment"
    }
   },
   "source": [
    "And there are a whole lot of other `r______` functions as you would expect"
   ]
  },
  {
   "cell_type": "markdown",
   "metadata": {
    "slideshow": {
     "slide_type": "subslide"
    }
   },
   "source": [
    "Similarly, probability density functions (PDFs), cumulative density functions (CDFs), and inverse CDFs / quantile functions can be easily calculated in R with the `d______`, `p______`, `q______` functions respectively"
   ]
  },
  {
   "cell_type": "code",
   "execution_count": 26,
   "metadata": {},
   "outputs": [
    {
     "data": {
      "text/html": [
       "0.398942280401433"
      ],
      "text/latex": [
       "0.398942280401433"
      ],
      "text/markdown": [
       "0.398942280401433"
      ],
      "text/plain": [
       "[1] 0.3989423"
      ]
     },
     "metadata": {},
     "output_type": "display_data"
    },
    {
     "data": {
      "text/html": [
       "0.0249978951482204"
      ],
      "text/latex": [
       "0.0249978951482204"
      ],
      "text/markdown": [
       "0.0249978951482204"
      ],
      "text/plain": [
       "[1] 0.0249979"
      ]
     },
     "metadata": {},
     "output_type": "display_data"
    },
    {
     "data": {
      "text/html": [
       "1.95996398454005"
      ],
      "text/latex": [
       "1.95996398454005"
      ],
      "text/markdown": [
       "1.95996398454005"
      ],
      "text/plain": [
       "[1] 1.959964"
      ]
     },
     "metadata": {},
     "output_type": "display_data"
    }
   ],
   "source": [
    "dnorm(0)\n",
    "pnorm(-1.96)\n",
    "qnorm(0.975)"
   ]
  },
  {
   "cell_type": "markdown",
   "metadata": {
    "slideshow": {
     "slide_type": "subslide"
    }
   },
   "source": [
    "Finally, these functions are also vectorized in a very flexible way"
   ]
  },
  {
   "cell_type": "code",
   "execution_count": 27,
   "metadata": {},
   "outputs": [
    {
     "data": {
      "text/html": [
       "<ol class=list-inline>\n",
       "\t<li>1.2815515655446</li>\n",
       "\t<li>1.64485362695147</li>\n",
       "\t<li>1.95996398454005</li>\n",
       "\t<li>2.32634787404084</li>\n",
       "</ol>\n"
      ],
      "text/latex": [
       "\\begin{enumerate*}\n",
       "\\item 1.2815515655446\n",
       "\\item 1.64485362695147\n",
       "\\item 1.95996398454005\n",
       "\\item 2.32634787404084\n",
       "\\end{enumerate*}\n"
      ],
      "text/markdown": [
       "1. 1.2815515655446\n",
       "2. 1.64485362695147\n",
       "3. 1.95996398454005\n",
       "4. 2.32634787404084\n",
       "\n",
       "\n"
      ],
      "text/plain": [
       "[1] 1.281552 1.644854 1.959964 2.326348"
      ]
     },
     "metadata": {},
     "output_type": "display_data"
    },
    {
     "data": {
      "text/html": [
       "<ol class=list-inline>\n",
       "\t<li>1</li>\n",
       "\t<li>0.5</li>\n",
       "\t<li>0.333333333333333</li>\n",
       "\t<li>0.25</li>\n",
       "\t<li>0.2</li>\n",
       "</ol>\n"
      ],
      "text/latex": [
       "\\begin{enumerate*}\n",
       "\\item 1\n",
       "\\item 0.5\n",
       "\\item 0.333333333333333\n",
       "\\item 0.25\n",
       "\\item 0.2\n",
       "\\end{enumerate*}\n"
      ],
      "text/markdown": [
       "1. 1\n",
       "2. 0.5\n",
       "3. 0.333333333333333\n",
       "4. 0.25\n",
       "5. 0.2\n",
       "\n",
       "\n"
      ],
      "text/plain": [
       "[1] 1.0000000 0.5000000 0.3333333 0.2500000 0.2000000"
      ]
     },
     "metadata": {},
     "output_type": "display_data"
    }
   ],
   "source": [
    "qnorm(c(0.9, 0.95, 0.975, 0.99))\n",
    "punif(1, min = 0, max = c(1, 2, 3, 4, 5))"
   ]
  },
  {
   "cell_type": "markdown",
   "metadata": {
    "slideshow": {
     "slide_type": "slide"
    }
   },
   "source": [
    "# Working with data"
   ]
  },
  {
   "cell_type": "markdown",
   "metadata": {
    "slideshow": {
     "slide_type": "subslide"
    }
   },
   "source": [
    "There are multiple packages for working with data:\n",
    "\n",
    " - Base R:\n",
    "   - (+) Available by default\n",
    "   - (-) Sometimes questionable and idiosyncratic behavior behavior\n",
    "   - (-) Not very intuitive/readable\n",
    "   - (/) Suitable for small-medium data (<1-2 GiB)\n",
    "\n",
    "\n",
    " - data.table:\n",
    "   - (+) Very concise syntax\n",
    "   - (+) Suitable for small-large(ish) data (tens of GiB depending on available memory)\n",
    "   - (+) Lightning fast filtering and joins\n",
    "   - (-) Too concise syntax (not very readable)\n",
    "   - (-) Not so easy to learn\n",
    "\n",
    "\n",
    " - Tidyverse:\n",
    "   - (+) Very readable syntax\n",
    "   - (+) Relatively easy to learn\n",
    "   - (-) Verbose syntax\n",
    "   - (/) Suitable for small-medium data (<1-2 GiB)"
   ]
  },
  {
   "cell_type": "markdown",
   "metadata": {
    "slideshow": {
     "slide_type": "subslide"
    }
   },
   "source": [
    "In this tutorial I will focus on the Tidyverse solutions. The others are in the tutorial notes mainly as a reference."
   ]
  },
  {
   "cell_type": "markdown",
   "metadata": {},
   "source": [
    "For R beginners, I would suggest using doing things the Tidyverse way. It is more than adaquate for this course, and is easier to learn and much more readable than the others. However, if for any reason, you would prefer to use the other approaches in the problem sets, feel free to do so."
   ]
  },
  {
   "cell_type": "markdown",
   "metadata": {
    "slideshow": {
     "slide_type": "slide"
    }
   },
   "source": [
    "## Reading data"
   ]
  },
  {
   "cell_type": "markdown",
   "metadata": {
    "slideshow": {
     "slide_type": "subslide"
    }
   },
   "source": [
    "### Base R"
   ]
  },
  {
   "cell_type": "code",
   "execution_count": 28,
   "metadata": {
    "slideshow": {
     "slide_type": "fragment"
    }
   },
   "outputs": [],
   "source": [
    "cars_df <- read.csv(\"cars.csv\")"
   ]
  },
  {
   "cell_type": "code",
   "execution_count": 29,
   "metadata": {
    "slideshow": {
     "slide_type": "subslide"
    }
   },
   "outputs": [
    {
     "data": {
      "text/html": [
       "<table>\n",
       "<thead><tr><th scope=col>Acceleration</th><th scope=col>Cylinders</th><th scope=col>Displacement</th><th scope=col>Horsepower</th><th scope=col>Miles_per_Gallon</th><th scope=col>Name</th><th scope=col>Origin</th><th scope=col>Weight_in_lbs</th><th scope=col>Year</th></tr></thead>\n",
       "<tbody>\n",
       "\t<tr><td>12.0                     </td><td>8                        </td><td>307                      </td><td>130                      </td><td>18                       </td><td>chevrolet chevelle malibu</td><td>USA                      </td><td>3504                     </td><td>1970-01-01               </td></tr>\n",
       "\t<tr><td>11.5                     </td><td>8                        </td><td>350                      </td><td>165                      </td><td>15                       </td><td>buick skylark 320        </td><td>USA                      </td><td>3693                     </td><td>1970-01-01               </td></tr>\n",
       "\t<tr><td>11.0                     </td><td>8                        </td><td>318                      </td><td>150                      </td><td>18                       </td><td>plymouth satellite       </td><td>USA                      </td><td>3436                     </td><td>1970-01-01               </td></tr>\n",
       "\t<tr><td>12.0                     </td><td>8                        </td><td>304                      </td><td>150                      </td><td>16                       </td><td>amc rebel sst            </td><td>USA                      </td><td>3433                     </td><td>1970-01-01               </td></tr>\n",
       "\t<tr><td>10.5                     </td><td>8                        </td><td>302                      </td><td>140                      </td><td>17                       </td><td>ford torino              </td><td>USA                      </td><td>3449                     </td><td>1970-01-01               </td></tr>\n",
       "\t<tr><td>10.0                     </td><td>8                        </td><td>429                      </td><td>198                      </td><td>15                       </td><td>ford galaxie 500         </td><td>USA                      </td><td>4341                     </td><td>1970-01-01               </td></tr>\n",
       "</tbody>\n",
       "</table>\n"
      ],
      "text/latex": [
       "\\begin{tabular}{r|lllllllll}\n",
       " Acceleration & Cylinders & Displacement & Horsepower & Miles\\_per\\_Gallon & Name & Origin & Weight\\_in\\_lbs & Year\\\\\n",
       "\\hline\n",
       "\t 12.0                      & 8                         & 307                       & 130                       & 18                        & chevrolet chevelle malibu & USA                       & 3504                      & 1970-01-01               \\\\\n",
       "\t 11.5                      & 8                         & 350                       & 165                       & 15                        & buick skylark 320         & USA                       & 3693                      & 1970-01-01               \\\\\n",
       "\t 11.0                      & 8                         & 318                       & 150                       & 18                        & plymouth satellite        & USA                       & 3436                      & 1970-01-01               \\\\\n",
       "\t 12.0                      & 8                         & 304                       & 150                       & 16                        & amc rebel sst             & USA                       & 3433                      & 1970-01-01               \\\\\n",
       "\t 10.5                      & 8                         & 302                       & 140                       & 17                        & ford torino               & USA                       & 3449                      & 1970-01-01               \\\\\n",
       "\t 10.0                      & 8                         & 429                       & 198                       & 15                        & ford galaxie 500          & USA                       & 4341                      & 1970-01-01               \\\\\n",
       "\\end{tabular}\n"
      ],
      "text/markdown": [
       "\n",
       "Acceleration | Cylinders | Displacement | Horsepower | Miles_per_Gallon | Name | Origin | Weight_in_lbs | Year | \n",
       "|---|---|---|---|---|---|\n",
       "| 12.0                      | 8                         | 307                       | 130                       | 18                        | chevrolet chevelle malibu | USA                       | 3504                      | 1970-01-01                | \n",
       "| 11.5                      | 8                         | 350                       | 165                       | 15                        | buick skylark 320         | USA                       | 3693                      | 1970-01-01                | \n",
       "| 11.0                      | 8                         | 318                       | 150                       | 18                        | plymouth satellite        | USA                       | 3436                      | 1970-01-01                | \n",
       "| 12.0                      | 8                         | 304                       | 150                       | 16                        | amc rebel sst             | USA                       | 3433                      | 1970-01-01                | \n",
       "| 10.5                      | 8                         | 302                       | 140                       | 17                        | ford torino               | USA                       | 3449                      | 1970-01-01                | \n",
       "| 10.0                      | 8                         | 429                       | 198                       | 15                        | ford galaxie 500          | USA                       | 4341                      | 1970-01-01                | \n",
       "\n",
       "\n"
      ],
      "text/plain": [
       "  Acceleration Cylinders Displacement Horsepower Miles_per_Gallon\n",
       "1 12.0         8         307          130        18              \n",
       "2 11.5         8         350          165        15              \n",
       "3 11.0         8         318          150        18              \n",
       "4 12.0         8         304          150        16              \n",
       "5 10.5         8         302          140        17              \n",
       "6 10.0         8         429          198        15              \n",
       "  Name                      Origin Weight_in_lbs Year      \n",
       "1 chevrolet chevelle malibu USA    3504          1970-01-01\n",
       "2 buick skylark 320         USA    3693          1970-01-01\n",
       "3 plymouth satellite        USA    3436          1970-01-01\n",
       "4 amc rebel sst             USA    3433          1970-01-01\n",
       "5 ford torino               USA    3449          1970-01-01\n",
       "6 ford galaxie 500          USA    4341          1970-01-01"
      ]
     },
     "metadata": {},
     "output_type": "display_data"
    }
   ],
   "source": [
    "head(cars_df)"
   ]
  },
  {
   "cell_type": "code",
   "execution_count": 30,
   "metadata": {
    "slideshow": {
     "slide_type": "fragment"
    }
   },
   "outputs": [
    {
     "data": {
      "text/html": [
       "<dl class=dl-horizontal>\n",
       "\t<dt>Acceleration</dt>\n",
       "\t\t<dd>'numeric'</dd>\n",
       "\t<dt>Cylinders</dt>\n",
       "\t\t<dd>'integer'</dd>\n",
       "\t<dt>Displacement</dt>\n",
       "\t\t<dd>'numeric'</dd>\n",
       "\t<dt>Horsepower</dt>\n",
       "\t\t<dd>'numeric'</dd>\n",
       "\t<dt>Miles_per_Gallon</dt>\n",
       "\t\t<dd>'numeric'</dd>\n",
       "\t<dt>Name</dt>\n",
       "\t\t<dd>'factor'</dd>\n",
       "\t<dt>Origin</dt>\n",
       "\t\t<dd>'factor'</dd>\n",
       "\t<dt>Weight_in_lbs</dt>\n",
       "\t\t<dd>'integer'</dd>\n",
       "\t<dt>Year</dt>\n",
       "\t\t<dd>'factor'</dd>\n",
       "</dl>\n"
      ],
      "text/latex": [
       "\\begin{description*}\n",
       "\\item[Acceleration] 'numeric'\n",
       "\\item[Cylinders] 'integer'\n",
       "\\item[Displacement] 'numeric'\n",
       "\\item[Horsepower] 'numeric'\n",
       "\\item[Miles\\textbackslash{}\\_per\\textbackslash{}\\_Gallon] 'numeric'\n",
       "\\item[Name] 'factor'\n",
       "\\item[Origin] 'factor'\n",
       "\\item[Weight\\textbackslash{}\\_in\\textbackslash{}\\_lbs] 'integer'\n",
       "\\item[Year] 'factor'\n",
       "\\end{description*}\n"
      ],
      "text/markdown": [
       "Acceleration\n",
       ":   'numeric'Cylinders\n",
       ":   'integer'Displacement\n",
       ":   'numeric'Horsepower\n",
       ":   'numeric'Miles_per_Gallon\n",
       ":   'numeric'Name\n",
       ":   'factor'Origin\n",
       ":   'factor'Weight_in_lbs\n",
       ":   'integer'Year\n",
       ":   'factor'\n",
       "\n"
      ],
      "text/plain": [
       "    Acceleration        Cylinders     Displacement       Horsepower \n",
       "       \"numeric\"        \"integer\"        \"numeric\"        \"numeric\" \n",
       "Miles_per_Gallon             Name           Origin    Weight_in_lbs \n",
       "       \"numeric\"         \"factor\"         \"factor\"        \"integer\" \n",
       "            Year \n",
       "        \"factor\" "
      ]
     },
     "metadata": {},
     "output_type": "display_data"
    }
   ],
   "source": [
    "sapply(cars_df, class)"
   ]
  },
  {
   "cell_type": "markdown",
   "metadata": {
    "slideshow": {
     "slide_type": "subslide"
    }
   },
   "source": [
    "### data.table"
   ]
  },
  {
   "cell_type": "markdown",
   "metadata": {
    "slideshow": {
     "slide_type": "fragment"
    }
   },
   "source": [
    "You have to run `install.packages(\"data.table\")` if you are doing this for the first time"
   ]
  },
  {
   "cell_type": "code",
   "execution_count": 31,
   "metadata": {
    "slideshow": {
     "slide_type": "-"
    }
   },
   "outputs": [],
   "source": [
    "library(data.table)"
   ]
  },
  {
   "cell_type": "code",
   "execution_count": 32,
   "metadata": {
    "slideshow": {
     "slide_type": "fragment"
    }
   },
   "outputs": [],
   "source": [
    "cars_dt <- fread(\"cars.csv\")"
   ]
  },
  {
   "cell_type": "code",
   "execution_count": 33,
   "metadata": {
    "slideshow": {
     "slide_type": "subslide"
    }
   },
   "outputs": [
    {
     "data": {
      "text/html": [
       "<table>\n",
       "<thead><tr><th scope=col>Acceleration</th><th scope=col>Cylinders</th><th scope=col>Displacement</th><th scope=col>Horsepower</th><th scope=col>Miles_per_Gallon</th><th scope=col>Name</th><th scope=col>Origin</th><th scope=col>Weight_in_lbs</th><th scope=col>Year</th></tr></thead>\n",
       "<tbody>\n",
       "\t<tr><td>12.0                     </td><td>8                        </td><td>307                      </td><td>130                      </td><td>18                       </td><td>chevrolet chevelle malibu</td><td>USA                      </td><td>3504                     </td><td>1970-01-01               </td></tr>\n",
       "\t<tr><td>11.5                     </td><td>8                        </td><td>350                      </td><td>165                      </td><td>15                       </td><td>buick skylark 320        </td><td>USA                      </td><td>3693                     </td><td>1970-01-01               </td></tr>\n",
       "\t<tr><td>11.0                     </td><td>8                        </td><td>318                      </td><td>150                      </td><td>18                       </td><td>plymouth satellite       </td><td>USA                      </td><td>3436                     </td><td>1970-01-01               </td></tr>\n",
       "\t<tr><td>12.0                     </td><td>8                        </td><td>304                      </td><td>150                      </td><td>16                       </td><td>amc rebel sst            </td><td>USA                      </td><td>3433                     </td><td>1970-01-01               </td></tr>\n",
       "\t<tr><td>10.5                     </td><td>8                        </td><td>302                      </td><td>140                      </td><td>17                       </td><td>ford torino              </td><td>USA                      </td><td>3449                     </td><td>1970-01-01               </td></tr>\n",
       "\t<tr><td>10.0                     </td><td>8                        </td><td>429                      </td><td>198                      </td><td>15                       </td><td>ford galaxie 500         </td><td>USA                      </td><td>4341                     </td><td>1970-01-01               </td></tr>\n",
       "</tbody>\n",
       "</table>\n"
      ],
      "text/latex": [
       "\\begin{tabular}{r|lllllllll}\n",
       " Acceleration & Cylinders & Displacement & Horsepower & Miles\\_per\\_Gallon & Name & Origin & Weight\\_in\\_lbs & Year\\\\\n",
       "\\hline\n",
       "\t 12.0                      & 8                         & 307                       & 130                       & 18                        & chevrolet chevelle malibu & USA                       & 3504                      & 1970-01-01               \\\\\n",
       "\t 11.5                      & 8                         & 350                       & 165                       & 15                        & buick skylark 320         & USA                       & 3693                      & 1970-01-01               \\\\\n",
       "\t 11.0                      & 8                         & 318                       & 150                       & 18                        & plymouth satellite        & USA                       & 3436                      & 1970-01-01               \\\\\n",
       "\t 12.0                      & 8                         & 304                       & 150                       & 16                        & amc rebel sst             & USA                       & 3433                      & 1970-01-01               \\\\\n",
       "\t 10.5                      & 8                         & 302                       & 140                       & 17                        & ford torino               & USA                       & 3449                      & 1970-01-01               \\\\\n",
       "\t 10.0                      & 8                         & 429                       & 198                       & 15                        & ford galaxie 500          & USA                       & 4341                      & 1970-01-01               \\\\\n",
       "\\end{tabular}\n"
      ],
      "text/markdown": [
       "\n",
       "Acceleration | Cylinders | Displacement | Horsepower | Miles_per_Gallon | Name | Origin | Weight_in_lbs | Year | \n",
       "|---|---|---|---|---|---|\n",
       "| 12.0                      | 8                         | 307                       | 130                       | 18                        | chevrolet chevelle malibu | USA                       | 3504                      | 1970-01-01                | \n",
       "| 11.5                      | 8                         | 350                       | 165                       | 15                        | buick skylark 320         | USA                       | 3693                      | 1970-01-01                | \n",
       "| 11.0                      | 8                         | 318                       | 150                       | 18                        | plymouth satellite        | USA                       | 3436                      | 1970-01-01                | \n",
       "| 12.0                      | 8                         | 304                       | 150                       | 16                        | amc rebel sst             | USA                       | 3433                      | 1970-01-01                | \n",
       "| 10.5                      | 8                         | 302                       | 140                       | 17                        | ford torino               | USA                       | 3449                      | 1970-01-01                | \n",
       "| 10.0                      | 8                         | 429                       | 198                       | 15                        | ford galaxie 500          | USA                       | 4341                      | 1970-01-01                | \n",
       "\n",
       "\n"
      ],
      "text/plain": [
       "  Acceleration Cylinders Displacement Horsepower Miles_per_Gallon\n",
       "1 12.0         8         307          130        18              \n",
       "2 11.5         8         350          165        15              \n",
       "3 11.0         8         318          150        18              \n",
       "4 12.0         8         304          150        16              \n",
       "5 10.5         8         302          140        17              \n",
       "6 10.0         8         429          198        15              \n",
       "  Name                      Origin Weight_in_lbs Year      \n",
       "1 chevrolet chevelle malibu USA    3504          1970-01-01\n",
       "2 buick skylark 320         USA    3693          1970-01-01\n",
       "3 plymouth satellite        USA    3436          1970-01-01\n",
       "4 amc rebel sst             USA    3433          1970-01-01\n",
       "5 ford torino               USA    3449          1970-01-01\n",
       "6 ford galaxie 500          USA    4341          1970-01-01"
      ]
     },
     "metadata": {},
     "output_type": "display_data"
    }
   ],
   "source": [
    "head(cars_dt)"
   ]
  },
  {
   "cell_type": "code",
   "execution_count": 34,
   "metadata": {
    "slideshow": {
     "slide_type": "fragment"
    }
   },
   "outputs": [
    {
     "data": {
      "text/html": [
       "<dl class=dl-horizontal>\n",
       "\t<dt>Acceleration</dt>\n",
       "\t\t<dd>'numeric'</dd>\n",
       "\t<dt>Cylinders</dt>\n",
       "\t\t<dd>'integer'</dd>\n",
       "\t<dt>Displacement</dt>\n",
       "\t\t<dd>'numeric'</dd>\n",
       "\t<dt>Horsepower</dt>\n",
       "\t\t<dd>'numeric'</dd>\n",
       "\t<dt>Miles_per_Gallon</dt>\n",
       "\t\t<dd>'numeric'</dd>\n",
       "\t<dt>Name</dt>\n",
       "\t\t<dd>'character'</dd>\n",
       "\t<dt>Origin</dt>\n",
       "\t\t<dd>'character'</dd>\n",
       "\t<dt>Weight_in_lbs</dt>\n",
       "\t\t<dd>'integer'</dd>\n",
       "\t<dt>Year</dt>\n",
       "\t\t<dd>'character'</dd>\n",
       "</dl>\n"
      ],
      "text/latex": [
       "\\begin{description*}\n",
       "\\item[Acceleration] 'numeric'\n",
       "\\item[Cylinders] 'integer'\n",
       "\\item[Displacement] 'numeric'\n",
       "\\item[Horsepower] 'numeric'\n",
       "\\item[Miles\\textbackslash{}\\_per\\textbackslash{}\\_Gallon] 'numeric'\n",
       "\\item[Name] 'character'\n",
       "\\item[Origin] 'character'\n",
       "\\item[Weight\\textbackslash{}\\_in\\textbackslash{}\\_lbs] 'integer'\n",
       "\\item[Year] 'character'\n",
       "\\end{description*}\n"
      ],
      "text/markdown": [
       "Acceleration\n",
       ":   'numeric'Cylinders\n",
       ":   'integer'Displacement\n",
       ":   'numeric'Horsepower\n",
       ":   'numeric'Miles_per_Gallon\n",
       ":   'numeric'Name\n",
       ":   'character'Origin\n",
       ":   'character'Weight_in_lbs\n",
       ":   'integer'Year\n",
       ":   'character'\n",
       "\n"
      ],
      "text/plain": [
       "    Acceleration        Cylinders     Displacement       Horsepower \n",
       "       \"numeric\"        \"integer\"        \"numeric\"        \"numeric\" \n",
       "Miles_per_Gallon             Name           Origin    Weight_in_lbs \n",
       "       \"numeric\"      \"character\"      \"character\"        \"integer\" \n",
       "            Year \n",
       "     \"character\" "
      ]
     },
     "metadata": {},
     "output_type": "display_data"
    }
   ],
   "source": [
    "sapply(cars_dt, class)"
   ]
  },
  {
   "cell_type": "markdown",
   "metadata": {
    "slideshow": {
     "slide_type": "subslide"
    }
   },
   "source": [
    "### Tidyverse"
   ]
  },
  {
   "cell_type": "markdown",
   "metadata": {},
   "source": [
    "You have to run `install.packages(\"tidyverse\")` if you are doing this for the first time"
   ]
  },
  {
   "cell_type": "code",
   "execution_count": 35,
   "metadata": {
    "slideshow": {
     "slide_type": "fragment"
    }
   },
   "outputs": [
    {
     "name": "stderr",
     "output_type": "stream",
     "text": [
      "-- Attaching packages --------------------------------------- tidyverse 1.2.1 --\n",
      "v ggplot2 3.1.1       v purrr   0.3.2  \n",
      "v tibble  2.1.1       v dplyr   0.8.0.1\n",
      "v tidyr   0.8.3       v stringr 1.3.1  \n",
      "v readr   1.3.1       v forcats 0.4.0  \n",
      "-- Conflicts ------------------------------------------ tidyverse_conflicts() --\n",
      "x dplyr::between()   masks data.table::between()\n",
      "x dplyr::filter()    masks stats::filter()\n",
      "x dplyr::first()     masks data.table::first()\n",
      "x dplyr::lag()       masks stats::lag()\n",
      "x dplyr::last()      masks data.table::last()\n",
      "x purrr::transpose() masks data.table::transpose()\n"
     ]
    }
   ],
   "source": [
    "library(tidyverse)"
   ]
  },
  {
   "cell_type": "code",
   "execution_count": 36,
   "metadata": {
    "slideshow": {
     "slide_type": "fragment"
    }
   },
   "outputs": [
    {
     "name": "stderr",
     "output_type": "stream",
     "text": [
      "Parsed with column specification:\n",
      "cols(\n",
      "  Acceleration = col_double(),\n",
      "  Cylinders = col_double(),\n",
      "  Displacement = col_double(),\n",
      "  Horsepower = col_double(),\n",
      "  Miles_per_Gallon = col_double(),\n",
      "  Name = col_character(),\n",
      "  Origin = col_character(),\n",
      "  Weight_in_lbs = col_double(),\n",
      "  Year = col_date(format = \"\")\n",
      ")\n"
     ]
    }
   ],
   "source": [
    "cars_tbl <- read_csv(\"cars.csv\")"
   ]
  },
  {
   "cell_type": "code",
   "execution_count": 37,
   "metadata": {
    "slideshow": {
     "slide_type": "subslide"
    }
   },
   "outputs": [
    {
     "data": {
      "text/html": [
       "<table>\n",
       "<thead><tr><th scope=col>Acceleration</th><th scope=col>Cylinders</th><th scope=col>Displacement</th><th scope=col>Horsepower</th><th scope=col>Miles_per_Gallon</th><th scope=col>Name</th><th scope=col>Origin</th><th scope=col>Weight_in_lbs</th><th scope=col>Year</th></tr></thead>\n",
       "<tbody>\n",
       "\t<tr><td>12.0                     </td><td>8                        </td><td>307                      </td><td>130                      </td><td>18                       </td><td>chevrolet chevelle malibu</td><td>USA                      </td><td>3504                     </td><td>1970-01-01               </td></tr>\n",
       "\t<tr><td>11.5                     </td><td>8                        </td><td>350                      </td><td>165                      </td><td>15                       </td><td>buick skylark 320        </td><td>USA                      </td><td>3693                     </td><td>1970-01-01               </td></tr>\n",
       "\t<tr><td>11.0                     </td><td>8                        </td><td>318                      </td><td>150                      </td><td>18                       </td><td>plymouth satellite       </td><td>USA                      </td><td>3436                     </td><td>1970-01-01               </td></tr>\n",
       "\t<tr><td>12.0                     </td><td>8                        </td><td>304                      </td><td>150                      </td><td>16                       </td><td>amc rebel sst            </td><td>USA                      </td><td>3433                     </td><td>1970-01-01               </td></tr>\n",
       "\t<tr><td>10.5                     </td><td>8                        </td><td>302                      </td><td>140                      </td><td>17                       </td><td>ford torino              </td><td>USA                      </td><td>3449                     </td><td>1970-01-01               </td></tr>\n",
       "\t<tr><td>10.0                     </td><td>8                        </td><td>429                      </td><td>198                      </td><td>15                       </td><td>ford galaxie 500         </td><td>USA                      </td><td>4341                     </td><td>1970-01-01               </td></tr>\n",
       "</tbody>\n",
       "</table>\n"
      ],
      "text/latex": [
       "\\begin{tabular}{r|lllllllll}\n",
       " Acceleration & Cylinders & Displacement & Horsepower & Miles\\_per\\_Gallon & Name & Origin & Weight\\_in\\_lbs & Year\\\\\n",
       "\\hline\n",
       "\t 12.0                      & 8                         & 307                       & 130                       & 18                        & chevrolet chevelle malibu & USA                       & 3504                      & 1970-01-01               \\\\\n",
       "\t 11.5                      & 8                         & 350                       & 165                       & 15                        & buick skylark 320         & USA                       & 3693                      & 1970-01-01               \\\\\n",
       "\t 11.0                      & 8                         & 318                       & 150                       & 18                        & plymouth satellite        & USA                       & 3436                      & 1970-01-01               \\\\\n",
       "\t 12.0                      & 8                         & 304                       & 150                       & 16                        & amc rebel sst             & USA                       & 3433                      & 1970-01-01               \\\\\n",
       "\t 10.5                      & 8                         & 302                       & 140                       & 17                        & ford torino               & USA                       & 3449                      & 1970-01-01               \\\\\n",
       "\t 10.0                      & 8                         & 429                       & 198                       & 15                        & ford galaxie 500          & USA                       & 4341                      & 1970-01-01               \\\\\n",
       "\\end{tabular}\n"
      ],
      "text/markdown": [
       "\n",
       "Acceleration | Cylinders | Displacement | Horsepower | Miles_per_Gallon | Name | Origin | Weight_in_lbs | Year | \n",
       "|---|---|---|---|---|---|\n",
       "| 12.0                      | 8                         | 307                       | 130                       | 18                        | chevrolet chevelle malibu | USA                       | 3504                      | 1970-01-01                | \n",
       "| 11.5                      | 8                         | 350                       | 165                       | 15                        | buick skylark 320         | USA                       | 3693                      | 1970-01-01                | \n",
       "| 11.0                      | 8                         | 318                       | 150                       | 18                        | plymouth satellite        | USA                       | 3436                      | 1970-01-01                | \n",
       "| 12.0                      | 8                         | 304                       | 150                       | 16                        | amc rebel sst             | USA                       | 3433                      | 1970-01-01                | \n",
       "| 10.5                      | 8                         | 302                       | 140                       | 17                        | ford torino               | USA                       | 3449                      | 1970-01-01                | \n",
       "| 10.0                      | 8                         | 429                       | 198                       | 15                        | ford galaxie 500          | USA                       | 4341                      | 1970-01-01                | \n",
       "\n",
       "\n"
      ],
      "text/plain": [
       "  Acceleration Cylinders Displacement Horsepower Miles_per_Gallon\n",
       "1 12.0         8         307          130        18              \n",
       "2 11.5         8         350          165        15              \n",
       "3 11.0         8         318          150        18              \n",
       "4 12.0         8         304          150        16              \n",
       "5 10.5         8         302          140        17              \n",
       "6 10.0         8         429          198        15              \n",
       "  Name                      Origin Weight_in_lbs Year      \n",
       "1 chevrolet chevelle malibu USA    3504          1970-01-01\n",
       "2 buick skylark 320         USA    3693          1970-01-01\n",
       "3 plymouth satellite        USA    3436          1970-01-01\n",
       "4 amc rebel sst             USA    3433          1970-01-01\n",
       "5 ford torino               USA    3449          1970-01-01\n",
       "6 ford galaxie 500          USA    4341          1970-01-01"
      ]
     },
     "metadata": {},
     "output_type": "display_data"
    }
   ],
   "source": [
    "head(cars_tbl)"
   ]
  },
  {
   "cell_type": "code",
   "execution_count": 38,
   "metadata": {
    "slideshow": {
     "slide_type": "fragment"
    }
   },
   "outputs": [
    {
     "data": {
      "text/html": [
       "<dl class=dl-horizontal>\n",
       "\t<dt>Acceleration</dt>\n",
       "\t\t<dd>'numeric'</dd>\n",
       "\t<dt>Cylinders</dt>\n",
       "\t\t<dd>'numeric'</dd>\n",
       "\t<dt>Displacement</dt>\n",
       "\t\t<dd>'numeric'</dd>\n",
       "\t<dt>Horsepower</dt>\n",
       "\t\t<dd>'numeric'</dd>\n",
       "\t<dt>Miles_per_Gallon</dt>\n",
       "\t\t<dd>'numeric'</dd>\n",
       "\t<dt>Name</dt>\n",
       "\t\t<dd>'character'</dd>\n",
       "\t<dt>Origin</dt>\n",
       "\t\t<dd>'character'</dd>\n",
       "\t<dt>Weight_in_lbs</dt>\n",
       "\t\t<dd>'numeric'</dd>\n",
       "\t<dt>Year</dt>\n",
       "\t\t<dd>'Date'</dd>\n",
       "</dl>\n"
      ],
      "text/latex": [
       "\\begin{description*}\n",
       "\\item[Acceleration] 'numeric'\n",
       "\\item[Cylinders] 'numeric'\n",
       "\\item[Displacement] 'numeric'\n",
       "\\item[Horsepower] 'numeric'\n",
       "\\item[Miles\\textbackslash{}\\_per\\textbackslash{}\\_Gallon] 'numeric'\n",
       "\\item[Name] 'character'\n",
       "\\item[Origin] 'character'\n",
       "\\item[Weight\\textbackslash{}\\_in\\textbackslash{}\\_lbs] 'numeric'\n",
       "\\item[Year] 'Date'\n",
       "\\end{description*}\n"
      ],
      "text/markdown": [
       "Acceleration\n",
       ":   'numeric'Cylinders\n",
       ":   'numeric'Displacement\n",
       ":   'numeric'Horsepower\n",
       ":   'numeric'Miles_per_Gallon\n",
       ":   'numeric'Name\n",
       ":   'character'Origin\n",
       ":   'character'Weight_in_lbs\n",
       ":   'numeric'Year\n",
       ":   'Date'\n",
       "\n"
      ],
      "text/plain": [
       "    Acceleration        Cylinders     Displacement       Horsepower \n",
       "       \"numeric\"        \"numeric\"        \"numeric\"        \"numeric\" \n",
       "Miles_per_Gallon             Name           Origin    Weight_in_lbs \n",
       "       \"numeric\"      \"character\"      \"character\"        \"numeric\" \n",
       "            Year \n",
       "          \"Date\" "
      ]
     },
     "metadata": {},
     "output_type": "display_data"
    }
   ],
   "source": [
    "sapply(cars_tbl, class)"
   ]
  },
  {
   "cell_type": "markdown",
   "metadata": {
    "slideshow": {
     "slide_type": "slide"
    }
   },
   "source": [
    "## Manipulating data"
   ]
  },
  {
   "cell_type": "markdown",
   "metadata": {
    "slideshow": {
     "slide_type": "subslide"
    }
   },
   "source": [
    "### Slicing and filtering"
   ]
  },
  {
   "cell_type": "markdown",
   "metadata": {
    "slideshow": {
     "slide_type": "fragment"
    }
   },
   "source": [
    "Single column as a vector:"
   ]
  },
  {
   "cell_type": "code",
   "execution_count": 121,
   "metadata": {
    "slideshow": {
     "slide_type": "skip"
    }
   },
   "outputs": [
    {
     "data": {
      "text/html": [
       "<ol class=list-inline>\n",
       "\t<li>25.4</li>\n",
       "\t<li>16.5</li>\n",
       "\t<li>17</li>\n",
       "\t<li>16.2</li>\n",
       "\t<li>30</li>\n",
       "</ol>\n"
      ],
      "text/latex": [
       "\\begin{enumerate*}\n",
       "\\item 25.4\n",
       "\\item 16.5\n",
       "\\item 17\n",
       "\\item 16.2\n",
       "\\item 30\n",
       "\\end{enumerate*}\n"
      ],
      "text/markdown": [
       "1. 25.4\n",
       "2. 16.5\n",
       "3. 17\n",
       "4. 16.2\n",
       "5. 30\n",
       "\n",
       "\n"
      ],
      "text/plain": [
       "[1] 25.4 16.5 17.0 16.2 30.0"
      ]
     },
     "metadata": {},
     "output_type": "display_data"
    }
   ],
   "source": [
    "cars_df[, \"Miles_per_Gallon\"]                           [1:5]"
   ]
  },
  {
   "cell_type": "code",
   "execution_count": 122,
   "metadata": {
    "slideshow": {
     "slide_type": "skip"
    }
   },
   "outputs": [
    {
     "data": {
      "text/html": [
       "<ol class=list-inline>\n",
       "\t<li>25.4</li>\n",
       "\t<li>16.5</li>\n",
       "\t<li>17</li>\n",
       "\t<li>16.2</li>\n",
       "\t<li>30</li>\n",
       "</ol>\n"
      ],
      "text/latex": [
       "\\begin{enumerate*}\n",
       "\\item 25.4\n",
       "\\item 16.5\n",
       "\\item 17\n",
       "\\item 16.2\n",
       "\\item 30\n",
       "\\end{enumerate*}\n"
      ],
      "text/markdown": [
       "1. 25.4\n",
       "2. 16.5\n",
       "3. 17\n",
       "4. 16.2\n",
       "5. 30\n",
       "\n",
       "\n"
      ],
      "text/plain": [
       "[1] 25.4 16.5 17.0 16.2 30.0"
      ]
     },
     "metadata": {},
     "output_type": "display_data"
    }
   ],
   "source": [
    "cars_dt[, Miles_per_Gallon]                           [1:5]"
   ]
  },
  {
   "cell_type": "code",
   "execution_count": 123,
   "metadata": {
    "scrolled": true,
    "slideshow": {
     "slide_type": "-"
    }
   },
   "outputs": [
    {
     "data": {
      "text/html": [
       "<ol class=list-inline>\n",
       "\t<li>25.4</li>\n",
       "\t<li>16.5</li>\n",
       "\t<li>17</li>\n",
       "\t<li>16.2</li>\n",
       "\t<li>30</li>\n",
       "</ol>\n"
      ],
      "text/latex": [
       "\\begin{enumerate*}\n",
       "\\item 25.4\n",
       "\\item 16.5\n",
       "\\item 17\n",
       "\\item 16.2\n",
       "\\item 30\n",
       "\\end{enumerate*}\n"
      ],
      "text/markdown": [
       "1. 25.4\n",
       "2. 16.5\n",
       "3. 17\n",
       "4. 16.2\n",
       "5. 30\n",
       "\n",
       "\n"
      ],
      "text/plain": [
       "[1] 25.4 16.5 17.0 16.2 30.0"
      ]
     },
     "metadata": {},
     "output_type": "display_data"
    }
   ],
   "source": [
    "pull(cars_tbl, Miles_per_Gallon)                           [1:5]"
   ]
  },
  {
   "cell_type": "markdown",
   "metadata": {
    "slideshow": {
     "slide_type": "fragment"
    }
   },
   "source": [
    "Single column as a data.frame / data.table / tibble"
   ]
  },
  {
   "cell_type": "code",
   "execution_count": 42,
   "metadata": {
    "slideshow": {
     "slide_type": "skip"
    }
   },
   "outputs": [
    {
     "data": {
      "text/html": [
       "<table>\n",
       "<thead><tr><th scope=col>Miles_per_Gallon</th></tr></thead>\n",
       "<tbody>\n",
       "\t<tr><td>18</td></tr>\n",
       "\t<tr><td>15</td></tr>\n",
       "\t<tr><td>18</td></tr>\n",
       "</tbody>\n",
       "</table>\n"
      ],
      "text/latex": [
       "\\begin{tabular}{r|l}\n",
       " Miles\\_per\\_Gallon\\\\\n",
       "\\hline\n",
       "\t 18\\\\\n",
       "\t 15\\\\\n",
       "\t 18\\\\\n",
       "\\end{tabular}\n"
      ],
      "text/markdown": [
       "\n",
       "Miles_per_Gallon | \n",
       "|---|---|---|\n",
       "| 18 | \n",
       "| 15 | \n",
       "| 18 | \n",
       "\n",
       "\n"
      ],
      "text/plain": [
       "  Miles_per_Gallon\n",
       "1 18              \n",
       "2 15              \n",
       "3 18              "
      ]
     },
     "metadata": {},
     "output_type": "display_data"
    }
   ],
   "source": [
    "cars_df[, \"Miles_per_Gallon\", drop = FALSE]                       %>% head(5)"
   ]
  },
  {
   "cell_type": "code",
   "execution_count": 43,
   "metadata": {
    "slideshow": {
     "slide_type": "skip"
    }
   },
   "outputs": [
    {
     "data": {
      "text/html": [
       "<table>\n",
       "<thead><tr><th scope=col>Miles_per_Gallon</th></tr></thead>\n",
       "<tbody>\n",
       "\t<tr><td>18</td></tr>\n",
       "\t<tr><td>15</td></tr>\n",
       "\t<tr><td>18</td></tr>\n",
       "</tbody>\n",
       "</table>\n"
      ],
      "text/latex": [
       "\\begin{tabular}{r|l}\n",
       " Miles\\_per\\_Gallon\\\\\n",
       "\\hline\n",
       "\t 18\\\\\n",
       "\t 15\\\\\n",
       "\t 18\\\\\n",
       "\\end{tabular}\n"
      ],
      "text/markdown": [
       "\n",
       "Miles_per_Gallon | \n",
       "|---|---|---|\n",
       "| 18 | \n",
       "| 15 | \n",
       "| 18 | \n",
       "\n",
       "\n"
      ],
      "text/plain": [
       "  Miles_per_Gallon\n",
       "1 18              \n",
       "2 15              \n",
       "3 18              "
      ]
     },
     "metadata": {},
     "output_type": "display_data"
    }
   ],
   "source": [
    "cars_dt[, .(Miles_per_Gallon)]                       %>% head(5)"
   ]
  },
  {
   "cell_type": "code",
   "execution_count": 44,
   "metadata": {
    "slideshow": {
     "slide_type": "-"
    }
   },
   "outputs": [
    {
     "data": {
      "text/html": [
       "<table>\n",
       "<thead><tr><th scope=col>Miles_per_Gallon</th></tr></thead>\n",
       "<tbody>\n",
       "\t<tr><td>18</td></tr>\n",
       "\t<tr><td>15</td></tr>\n",
       "\t<tr><td>18</td></tr>\n",
       "</tbody>\n",
       "</table>\n"
      ],
      "text/latex": [
       "\\begin{tabular}{r|l}\n",
       " Miles\\_per\\_Gallon\\\\\n",
       "\\hline\n",
       "\t 18\\\\\n",
       "\t 15\\\\\n",
       "\t 18\\\\\n",
       "\\end{tabular}\n"
      ],
      "text/markdown": [
       "\n",
       "Miles_per_Gallon | \n",
       "|---|---|---|\n",
       "| 18 | \n",
       "| 15 | \n",
       "| 18 | \n",
       "\n",
       "\n"
      ],
      "text/plain": [
       "  Miles_per_Gallon\n",
       "1 18              \n",
       "2 15              \n",
       "3 18              "
      ]
     },
     "metadata": {},
     "output_type": "display_data"
    }
   ],
   "source": [
    "select(cars_tbl, Miles_per_Gallon)                       %>% head(5)"
   ]
  },
  {
   "cell_type": "markdown",
   "metadata": {
    "slideshow": {
     "slide_type": "subslide"
    }
   },
   "source": [
    "Rows:"
   ]
  },
  {
   "cell_type": "code",
   "execution_count": 45,
   "metadata": {
    "slideshow": {
     "slide_type": "skip"
    }
   },
   "outputs": [
    {
     "data": {
      "text/html": [
       "<table>\n",
       "<thead><tr><th></th><th scope=col>Acceleration</th><th scope=col>Cylinders</th><th scope=col>Displacement</th><th scope=col>Horsepower</th><th scope=col>Miles_per_Gallon</th><th scope=col>Name</th><th scope=col>Origin</th><th scope=col>Weight_in_lbs</th><th scope=col>Year</th></tr></thead>\n",
       "<tbody>\n",
       "\t<tr><th scope=row>3</th><td>11.0              </td><td>8                 </td><td>318               </td><td>150               </td><td>18                </td><td>plymouth satellite</td><td>USA               </td><td>3436              </td><td>1970-01-01        </td></tr>\n",
       "\t<tr><th scope=row>4</th><td>12.0              </td><td>8                 </td><td>304               </td><td>150               </td><td>16                </td><td>amc rebel sst     </td><td>USA               </td><td>3433              </td><td>1970-01-01        </td></tr>\n",
       "\t<tr><th scope=row>5</th><td>10.5              </td><td>8                 </td><td>302               </td><td>140               </td><td>17                </td><td>ford torino       </td><td>USA               </td><td>3449              </td><td>1970-01-01        </td></tr>\n",
       "\t<tr><th scope=row>6</th><td>10.0              </td><td>8                 </td><td>429               </td><td>198               </td><td>15                </td><td>ford galaxie 500  </td><td>USA               </td><td>4341              </td><td>1970-01-01        </td></tr>\n",
       "</tbody>\n",
       "</table>\n"
      ],
      "text/latex": [
       "\\begin{tabular}{r|lllllllll}\n",
       "  & Acceleration & Cylinders & Displacement & Horsepower & Miles\\_per\\_Gallon & Name & Origin & Weight\\_in\\_lbs & Year\\\\\n",
       "\\hline\n",
       "\t3 & 11.0               & 8                  & 318                & 150                & 18                 & plymouth satellite & USA                & 3436               & 1970-01-01        \\\\\n",
       "\t4 & 12.0               & 8                  & 304                & 150                & 16                 & amc rebel sst      & USA                & 3433               & 1970-01-01        \\\\\n",
       "\t5 & 10.5               & 8                  & 302                & 140                & 17                 & ford torino        & USA                & 3449               & 1970-01-01        \\\\\n",
       "\t6 & 10.0               & 8                  & 429                & 198                & 15                 & ford galaxie 500   & USA                & 4341               & 1970-01-01        \\\\\n",
       "\\end{tabular}\n"
      ],
      "text/markdown": [
       "\n",
       "| <!--/--> | Acceleration | Cylinders | Displacement | Horsepower | Miles_per_Gallon | Name | Origin | Weight_in_lbs | Year | \n",
       "|---|---|---|---|\n",
       "| 3 | 11.0               | 8                  | 318                | 150                | 18                 | plymouth satellite | USA                | 3436               | 1970-01-01         | \n",
       "| 4 | 12.0               | 8                  | 304                | 150                | 16                 | amc rebel sst      | USA                | 3433               | 1970-01-01         | \n",
       "| 5 | 10.5               | 8                  | 302                | 140                | 17                 | ford torino        | USA                | 3449               | 1970-01-01         | \n",
       "| 6 | 10.0               | 8                  | 429                | 198                | 15                 | ford galaxie 500   | USA                | 4341               | 1970-01-01         | \n",
       "\n",
       "\n"
      ],
      "text/plain": [
       "  Acceleration Cylinders Displacement Horsepower Miles_per_Gallon\n",
       "3 11.0         8         318          150        18              \n",
       "4 12.0         8         304          150        16              \n",
       "5 10.5         8         302          140        17              \n",
       "6 10.0         8         429          198        15              \n",
       "  Name               Origin Weight_in_lbs Year      \n",
       "3 plymouth satellite USA    3436          1970-01-01\n",
       "4 amc rebel sst      USA    3433          1970-01-01\n",
       "5 ford torino        USA    3449          1970-01-01\n",
       "6 ford galaxie 500   USA    4341          1970-01-01"
      ]
     },
     "metadata": {},
     "output_type": "display_data"
    }
   ],
   "source": [
    "cars_df[3:6, ]  # The empty second argument is very important"
   ]
  },
  {
   "cell_type": "code",
   "execution_count": 46,
   "metadata": {
    "slideshow": {
     "slide_type": "skip"
    }
   },
   "outputs": [
    {
     "data": {
      "text/html": [
       "<table>\n",
       "<thead><tr><th scope=col>Acceleration</th><th scope=col>Cylinders</th><th scope=col>Displacement</th><th scope=col>Horsepower</th><th scope=col>Miles_per_Gallon</th><th scope=col>Name</th><th scope=col>Origin</th><th scope=col>Weight_in_lbs</th><th scope=col>Year</th></tr></thead>\n",
       "<tbody>\n",
       "\t<tr><td>11.0              </td><td>8                 </td><td>318               </td><td>150               </td><td>18                </td><td>plymouth satellite</td><td>USA               </td><td>3436              </td><td>1970-01-01        </td></tr>\n",
       "\t<tr><td>12.0              </td><td>8                 </td><td>304               </td><td>150               </td><td>16                </td><td>amc rebel sst     </td><td>USA               </td><td>3433              </td><td>1970-01-01        </td></tr>\n",
       "\t<tr><td>10.5              </td><td>8                 </td><td>302               </td><td>140               </td><td>17                </td><td>ford torino       </td><td>USA               </td><td>3449              </td><td>1970-01-01        </td></tr>\n",
       "\t<tr><td>10.0              </td><td>8                 </td><td>429               </td><td>198               </td><td>15                </td><td>ford galaxie 500  </td><td>USA               </td><td>4341              </td><td>1970-01-01        </td></tr>\n",
       "</tbody>\n",
       "</table>\n"
      ],
      "text/latex": [
       "\\begin{tabular}{r|lllllllll}\n",
       " Acceleration & Cylinders & Displacement & Horsepower & Miles\\_per\\_Gallon & Name & Origin & Weight\\_in\\_lbs & Year\\\\\n",
       "\\hline\n",
       "\t 11.0               & 8                  & 318                & 150                & 18                 & plymouth satellite & USA                & 3436               & 1970-01-01        \\\\\n",
       "\t 12.0               & 8                  & 304                & 150                & 16                 & amc rebel sst      & USA                & 3433               & 1970-01-01        \\\\\n",
       "\t 10.5               & 8                  & 302                & 140                & 17                 & ford torino        & USA                & 3449               & 1970-01-01        \\\\\n",
       "\t 10.0               & 8                  & 429                & 198                & 15                 & ford galaxie 500   & USA                & 4341               & 1970-01-01        \\\\\n",
       "\\end{tabular}\n"
      ],
      "text/markdown": [
       "\n",
       "Acceleration | Cylinders | Displacement | Horsepower | Miles_per_Gallon | Name | Origin | Weight_in_lbs | Year | \n",
       "|---|---|---|---|\n",
       "| 11.0               | 8                  | 318                | 150                | 18                 | plymouth satellite | USA                | 3436               | 1970-01-01         | \n",
       "| 12.0               | 8                  | 304                | 150                | 16                 | amc rebel sst      | USA                | 3433               | 1970-01-01         | \n",
       "| 10.5               | 8                  | 302                | 140                | 17                 | ford torino        | USA                | 3449               | 1970-01-01         | \n",
       "| 10.0               | 8                  | 429                | 198                | 15                 | ford galaxie 500   | USA                | 4341               | 1970-01-01         | \n",
       "\n",
       "\n"
      ],
      "text/plain": [
       "  Acceleration Cylinders Displacement Horsepower Miles_per_Gallon\n",
       "1 11.0         8         318          150        18              \n",
       "2 12.0         8         304          150        16              \n",
       "3 10.5         8         302          140        17              \n",
       "4 10.0         8         429          198        15              \n",
       "  Name               Origin Weight_in_lbs Year      \n",
       "1 plymouth satellite USA    3436          1970-01-01\n",
       "2 amc rebel sst      USA    3433          1970-01-01\n",
       "3 ford torino        USA    3449          1970-01-01\n",
       "4 ford galaxie 500   USA    4341          1970-01-01"
      ]
     },
     "metadata": {},
     "output_type": "display_data"
    }
   ],
   "source": [
    "cars_dt[3:6]  # No need for a second argument"
   ]
  },
  {
   "cell_type": "code",
   "execution_count": 47,
   "metadata": {
    "slideshow": {
     "slide_type": "-"
    }
   },
   "outputs": [
    {
     "data": {
      "text/html": [
       "<table>\n",
       "<thead><tr><th scope=col>Acceleration</th><th scope=col>Cylinders</th><th scope=col>Displacement</th><th scope=col>Horsepower</th><th scope=col>Miles_per_Gallon</th><th scope=col>Name</th><th scope=col>Origin</th><th scope=col>Weight_in_lbs</th><th scope=col>Year</th></tr></thead>\n",
       "<tbody>\n",
       "\t<tr><td>11.0              </td><td>8                 </td><td>318               </td><td>150               </td><td>18                </td><td>plymouth satellite</td><td>USA               </td><td>3436              </td><td>1970-01-01        </td></tr>\n",
       "\t<tr><td>12.0              </td><td>8                 </td><td>304               </td><td>150               </td><td>16                </td><td>amc rebel sst     </td><td>USA               </td><td>3433              </td><td>1970-01-01        </td></tr>\n",
       "\t<tr><td>10.5              </td><td>8                 </td><td>302               </td><td>140               </td><td>17                </td><td>ford torino       </td><td>USA               </td><td>3449              </td><td>1970-01-01        </td></tr>\n",
       "\t<tr><td>10.0              </td><td>8                 </td><td>429               </td><td>198               </td><td>15                </td><td>ford galaxie 500  </td><td>USA               </td><td>4341              </td><td>1970-01-01        </td></tr>\n",
       "</tbody>\n",
       "</table>\n"
      ],
      "text/latex": [
       "\\begin{tabular}{r|lllllllll}\n",
       " Acceleration & Cylinders & Displacement & Horsepower & Miles\\_per\\_Gallon & Name & Origin & Weight\\_in\\_lbs & Year\\\\\n",
       "\\hline\n",
       "\t 11.0               & 8                  & 318                & 150                & 18                 & plymouth satellite & USA                & 3436               & 1970-01-01        \\\\\n",
       "\t 12.0               & 8                  & 304                & 150                & 16                 & amc rebel sst      & USA                & 3433               & 1970-01-01        \\\\\n",
       "\t 10.5               & 8                  & 302                & 140                & 17                 & ford torino        & USA                & 3449               & 1970-01-01        \\\\\n",
       "\t 10.0               & 8                  & 429                & 198                & 15                 & ford galaxie 500   & USA                & 4341               & 1970-01-01        \\\\\n",
       "\\end{tabular}\n"
      ],
      "text/markdown": [
       "\n",
       "Acceleration | Cylinders | Displacement | Horsepower | Miles_per_Gallon | Name | Origin | Weight_in_lbs | Year | \n",
       "|---|---|---|---|\n",
       "| 11.0               | 8                  | 318                | 150                | 18                 | plymouth satellite | USA                | 3436               | 1970-01-01         | \n",
       "| 12.0               | 8                  | 304                | 150                | 16                 | amc rebel sst      | USA                | 3433               | 1970-01-01         | \n",
       "| 10.5               | 8                  | 302                | 140                | 17                 | ford torino        | USA                | 3449               | 1970-01-01         | \n",
       "| 10.0               | 8                  | 429                | 198                | 15                 | ford galaxie 500   | USA                | 4341               | 1970-01-01         | \n",
       "\n",
       "\n"
      ],
      "text/plain": [
       "  Acceleration Cylinders Displacement Horsepower Miles_per_Gallon\n",
       "1 11.0         8         318          150        18              \n",
       "2 12.0         8         304          150        16              \n",
       "3 10.5         8         302          140        17              \n",
       "4 10.0         8         429          198        15              \n",
       "  Name               Origin Weight_in_lbs Year      \n",
       "1 plymouth satellite USA    3436          1970-01-01\n",
       "2 amc rebel sst      USA    3433          1970-01-01\n",
       "3 ford torino        USA    3449          1970-01-01\n",
       "4 ford galaxie 500   USA    4341          1970-01-01"
      ]
     },
     "metadata": {},
     "output_type": "display_data"
    }
   ],
   "source": [
    "slice(cars_tbl, 3:6)  # The base R solution also works on tibbles"
   ]
  },
  {
   "cell_type": "markdown",
   "metadata": {
    "slideshow": {
     "slide_type": "fragment"
    }
   },
   "source": [
    "Columns by position:"
   ]
  },
  {
   "cell_type": "code",
   "execution_count": 48,
   "metadata": {
    "slideshow": {
     "slide_type": "skip"
    }
   },
   "outputs": [
    {
     "data": {
      "text/html": [
       "<table>\n",
       "<thead><tr><th scope=col>Acceleration</th><th scope=col>Cylinders</th></tr></thead>\n",
       "<tbody>\n",
       "\t<tr><td>12.0</td><td>8   </td></tr>\n",
       "\t<tr><td>11.5</td><td>8   </td></tr>\n",
       "\t<tr><td>11.0</td><td>8   </td></tr>\n",
       "\t<tr><td>12.0</td><td>8   </td></tr>\n",
       "\t<tr><td>10.5</td><td>8   </td></tr>\n",
       "\t<tr><td>10.0</td><td>8   </td></tr>\n",
       "</tbody>\n",
       "</table>\n"
      ],
      "text/latex": [
       "\\begin{tabular}{r|ll}\n",
       " Acceleration & Cylinders\\\\\n",
       "\\hline\n",
       "\t 12.0 & 8   \\\\\n",
       "\t 11.5 & 8   \\\\\n",
       "\t 11.0 & 8   \\\\\n",
       "\t 12.0 & 8   \\\\\n",
       "\t 10.5 & 8   \\\\\n",
       "\t 10.0 & 8   \\\\\n",
       "\\end{tabular}\n"
      ],
      "text/markdown": [
       "\n",
       "Acceleration | Cylinders | \n",
       "|---|---|---|---|---|---|\n",
       "| 12.0 | 8    | \n",
       "| 11.5 | 8    | \n",
       "| 11.0 | 8    | \n",
       "| 12.0 | 8    | \n",
       "| 10.5 | 8    | \n",
       "| 10.0 | 8    | \n",
       "\n",
       "\n"
      ],
      "text/plain": [
       "  Acceleration Cylinders\n",
       "1 12.0         8        \n",
       "2 11.5         8        \n",
       "3 11.0         8        \n",
       "4 12.0         8        \n",
       "5 10.5         8        \n",
       "6 10.0         8        "
      ]
     },
     "metadata": {},
     "output_type": "display_data"
    }
   ],
   "source": [
    "cars_df[, 1:2]                          %>% head()"
   ]
  },
  {
   "cell_type": "code",
   "execution_count": 49,
   "metadata": {
    "slideshow": {
     "slide_type": "skip"
    }
   },
   "outputs": [
    {
     "data": {
      "text/html": [
       "<table>\n",
       "<thead><tr><th scope=col>Acceleration</th><th scope=col>Cylinders</th></tr></thead>\n",
       "<tbody>\n",
       "\t<tr><td>12.0</td><td>8   </td></tr>\n",
       "\t<tr><td>11.5</td><td>8   </td></tr>\n",
       "\t<tr><td>11.0</td><td>8   </td></tr>\n",
       "\t<tr><td>12.0</td><td>8   </td></tr>\n",
       "\t<tr><td>10.5</td><td>8   </td></tr>\n",
       "\t<tr><td>10.0</td><td>8   </td></tr>\n",
       "</tbody>\n",
       "</table>\n"
      ],
      "text/latex": [
       "\\begin{tabular}{r|ll}\n",
       " Acceleration & Cylinders\\\\\n",
       "\\hline\n",
       "\t 12.0 & 8   \\\\\n",
       "\t 11.5 & 8   \\\\\n",
       "\t 11.0 & 8   \\\\\n",
       "\t 12.0 & 8   \\\\\n",
       "\t 10.5 & 8   \\\\\n",
       "\t 10.0 & 8   \\\\\n",
       "\\end{tabular}\n"
      ],
      "text/markdown": [
       "\n",
       "Acceleration | Cylinders | \n",
       "|---|---|---|---|---|---|\n",
       "| 12.0 | 8    | \n",
       "| 11.5 | 8    | \n",
       "| 11.0 | 8    | \n",
       "| 12.0 | 8    | \n",
       "| 10.5 | 8    | \n",
       "| 10.0 | 8    | \n",
       "\n",
       "\n"
      ],
      "text/plain": [
       "  Acceleration Cylinders\n",
       "1 12.0         8        \n",
       "2 11.5         8        \n",
       "3 11.0         8        \n",
       "4 12.0         8        \n",
       "5 10.5         8        \n",
       "6 10.0         8        "
      ]
     },
     "metadata": {},
     "output_type": "display_data"
    }
   ],
   "source": [
    "cars_dt[, 1:2]                          %>% head()"
   ]
  },
  {
   "cell_type": "code",
   "execution_count": 50,
   "metadata": {
    "slideshow": {
     "slide_type": "-"
    }
   },
   "outputs": [
    {
     "data": {
      "text/html": [
       "<table>\n",
       "<thead><tr><th scope=col>Acceleration</th><th scope=col>Cylinders</th></tr></thead>\n",
       "<tbody>\n",
       "\t<tr><td>12.0</td><td>8   </td></tr>\n",
       "\t<tr><td>11.5</td><td>8   </td></tr>\n",
       "\t<tr><td>11.0</td><td>8   </td></tr>\n",
       "\t<tr><td>12.0</td><td>8   </td></tr>\n",
       "\t<tr><td>10.5</td><td>8   </td></tr>\n",
       "\t<tr><td>10.0</td><td>8   </td></tr>\n",
       "</tbody>\n",
       "</table>\n"
      ],
      "text/latex": [
       "\\begin{tabular}{r|ll}\n",
       " Acceleration & Cylinders\\\\\n",
       "\\hline\n",
       "\t 12.0 & 8   \\\\\n",
       "\t 11.5 & 8   \\\\\n",
       "\t 11.0 & 8   \\\\\n",
       "\t 12.0 & 8   \\\\\n",
       "\t 10.5 & 8   \\\\\n",
       "\t 10.0 & 8   \\\\\n",
       "\\end{tabular}\n"
      ],
      "text/markdown": [
       "\n",
       "Acceleration | Cylinders | \n",
       "|---|---|---|---|---|---|\n",
       "| 12.0 | 8    | \n",
       "| 11.5 | 8    | \n",
       "| 11.0 | 8    | \n",
       "| 12.0 | 8    | \n",
       "| 10.5 | 8    | \n",
       "| 10.0 | 8    | \n",
       "\n",
       "\n"
      ],
      "text/plain": [
       "  Acceleration Cylinders\n",
       "1 12.0         8        \n",
       "2 11.5         8        \n",
       "3 11.0         8        \n",
       "4 12.0         8        \n",
       "5 10.5         8        \n",
       "6 10.0         8        "
      ]
     },
     "metadata": {},
     "output_type": "display_data"
    }
   ],
   "source": [
    "select(cars_tbl, 1:2)                          %>% head()"
   ]
  },
  {
   "cell_type": "markdown",
   "metadata": {
    "slideshow": {
     "slide_type": "subslide"
    }
   },
   "source": [
    "Rows and columns:"
   ]
  },
  {
   "cell_type": "code",
   "execution_count": 51,
   "metadata": {
    "slideshow": {
     "slide_type": "skip"
    }
   },
   "outputs": [
    {
     "data": {
      "text/html": [
       "<table>\n",
       "<thead><tr><th></th><th scope=col>Acceleration</th><th scope=col>Cylinders</th></tr></thead>\n",
       "<tbody>\n",
       "\t<tr><th scope=row>3</th><td>11.0</td><td>8   </td></tr>\n",
       "\t<tr><th scope=row>4</th><td>12.0</td><td>8   </td></tr>\n",
       "\t<tr><th scope=row>5</th><td>10.5</td><td>8   </td></tr>\n",
       "\t<tr><th scope=row>6</th><td>10.0</td><td>8   </td></tr>\n",
       "</tbody>\n",
       "</table>\n"
      ],
      "text/latex": [
       "\\begin{tabular}{r|ll}\n",
       "  & Acceleration & Cylinders\\\\\n",
       "\\hline\n",
       "\t3 & 11.0 & 8   \\\\\n",
       "\t4 & 12.0 & 8   \\\\\n",
       "\t5 & 10.5 & 8   \\\\\n",
       "\t6 & 10.0 & 8   \\\\\n",
       "\\end{tabular}\n"
      ],
      "text/markdown": [
       "\n",
       "| <!--/--> | Acceleration | Cylinders | \n",
       "|---|---|---|---|\n",
       "| 3 | 11.0 | 8    | \n",
       "| 4 | 12.0 | 8    | \n",
       "| 5 | 10.5 | 8    | \n",
       "| 6 | 10.0 | 8    | \n",
       "\n",
       "\n"
      ],
      "text/plain": [
       "  Acceleration Cylinders\n",
       "3 11.0         8        \n",
       "4 12.0         8        \n",
       "5 10.5         8        \n",
       "6 10.0         8        "
      ]
     },
     "metadata": {},
     "output_type": "display_data"
    }
   ],
   "source": [
    "cars_df[3:6, 1:2]"
   ]
  },
  {
   "cell_type": "code",
   "execution_count": 52,
   "metadata": {
    "slideshow": {
     "slide_type": "skip"
    }
   },
   "outputs": [
    {
     "data": {
      "text/html": [
       "<table>\n",
       "<thead><tr><th scope=col>Acceleration</th><th scope=col>Cylinders</th></tr></thead>\n",
       "<tbody>\n",
       "\t<tr><td>11.0</td><td>8   </td></tr>\n",
       "\t<tr><td>12.0</td><td>8   </td></tr>\n",
       "\t<tr><td>10.5</td><td>8   </td></tr>\n",
       "\t<tr><td>10.0</td><td>8   </td></tr>\n",
       "</tbody>\n",
       "</table>\n"
      ],
      "text/latex": [
       "\\begin{tabular}{r|ll}\n",
       " Acceleration & Cylinders\\\\\n",
       "\\hline\n",
       "\t 11.0 & 8   \\\\\n",
       "\t 12.0 & 8   \\\\\n",
       "\t 10.5 & 8   \\\\\n",
       "\t 10.0 & 8   \\\\\n",
       "\\end{tabular}\n"
      ],
      "text/markdown": [
       "\n",
       "Acceleration | Cylinders | \n",
       "|---|---|---|---|\n",
       "| 11.0 | 8    | \n",
       "| 12.0 | 8    | \n",
       "| 10.5 | 8    | \n",
       "| 10.0 | 8    | \n",
       "\n",
       "\n"
      ],
      "text/plain": [
       "  Acceleration Cylinders\n",
       "1 11.0         8        \n",
       "2 12.0         8        \n",
       "3 10.5         8        \n",
       "4 10.0         8        "
      ]
     },
     "metadata": {},
     "output_type": "display_data"
    }
   ],
   "source": [
    "cars_dt[3:6, 1:2]"
   ]
  },
  {
   "cell_type": "code",
   "execution_count": 53,
   "metadata": {
    "slideshow": {
     "slide_type": "-"
    }
   },
   "outputs": [
    {
     "data": {
      "text/html": [
       "<table>\n",
       "<thead><tr><th scope=col>Acceleration</th><th scope=col>Cylinders</th></tr></thead>\n",
       "<tbody>\n",
       "\t<tr><td>11.0</td><td>8   </td></tr>\n",
       "\t<tr><td>12.0</td><td>8   </td></tr>\n",
       "\t<tr><td>10.5</td><td>8   </td></tr>\n",
       "\t<tr><td>10.0</td><td>8   </td></tr>\n",
       "</tbody>\n",
       "</table>\n"
      ],
      "text/latex": [
       "\\begin{tabular}{r|ll}\n",
       " Acceleration & Cylinders\\\\\n",
       "\\hline\n",
       "\t 11.0 & 8   \\\\\n",
       "\t 12.0 & 8   \\\\\n",
       "\t 10.5 & 8   \\\\\n",
       "\t 10.0 & 8   \\\\\n",
       "\\end{tabular}\n"
      ],
      "text/markdown": [
       "\n",
       "Acceleration | Cylinders | \n",
       "|---|---|---|---|\n",
       "| 11.0 | 8    | \n",
       "| 12.0 | 8    | \n",
       "| 10.5 | 8    | \n",
       "| 10.0 | 8    | \n",
       "\n",
       "\n"
      ],
      "text/plain": [
       "  Acceleration Cylinders\n",
       "1 11.0         8        \n",
       "2 12.0         8        \n",
       "3 10.5         8        \n",
       "4 10.0         8        "
      ]
     },
     "metadata": {},
     "output_type": "display_data"
    }
   ],
   "source": [
    "cars_tbl %>% \n",
    "    slice(3:6) %>% \n",
    "    select(1:2)"
   ]
  },
  {
   "cell_type": "markdown",
   "metadata": {
    "slideshow": {
     "slide_type": "fragment"
    }
   },
   "source": [
    "More complex indexing:"
   ]
  },
  {
   "cell_type": "code",
   "execution_count": 54,
   "metadata": {
    "slideshow": {
     "slide_type": "skip"
    }
   },
   "outputs": [
    {
     "data": {
      "text/html": [
       "<table>\n",
       "<thead><tr><th></th><th scope=col>Acceleration</th><th scope=col>Cylinders</th><th scope=col>Weight_in_lbs</th></tr></thead>\n",
       "<tbody>\n",
       "\t<tr><th scope=row>1</th><td>12  </td><td>8   </td><td>3504</td></tr>\n",
       "\t<tr><th scope=row>3</th><td>11  </td><td>8   </td><td>3436</td></tr>\n",
       "\t<tr><th scope=row>4</th><td>12  </td><td>8   </td><td>3433</td></tr>\n",
       "\t<tr><th scope=row>9</th><td>10  </td><td>8   </td><td>4425</td></tr>\n",
       "</tbody>\n",
       "</table>\n"
      ],
      "text/latex": [
       "\\begin{tabular}{r|lll}\n",
       "  & Acceleration & Cylinders & Weight\\_in\\_lbs\\\\\n",
       "\\hline\n",
       "\t1 & 12   & 8    & 3504\\\\\n",
       "\t3 & 11   & 8    & 3436\\\\\n",
       "\t4 & 12   & 8    & 3433\\\\\n",
       "\t9 & 10   & 8    & 4425\\\\\n",
       "\\end{tabular}\n"
      ],
      "text/markdown": [
       "\n",
       "| <!--/--> | Acceleration | Cylinders | Weight_in_lbs | \n",
       "|---|---|---|---|\n",
       "| 1 | 12   | 8    | 3504 | \n",
       "| 3 | 11   | 8    | 3436 | \n",
       "| 4 | 12   | 8    | 3433 | \n",
       "| 9 | 10   | 8    | 4425 | \n",
       "\n",
       "\n"
      ],
      "text/plain": [
       "  Acceleration Cylinders Weight_in_lbs\n",
       "1 12           8         3504         \n",
       "3 11           8         3436         \n",
       "4 12           8         3433         \n",
       "9 10           8         4425         "
      ]
     },
     "metadata": {},
     "output_type": "display_data"
    }
   ],
   "source": [
    "cars_df[c(1, 3:4, 9), c(1:2, 8)]"
   ]
  },
  {
   "cell_type": "code",
   "execution_count": 55,
   "metadata": {
    "slideshow": {
     "slide_type": "skip"
    }
   },
   "outputs": [
    {
     "data": {
      "text/html": [
       "<table>\n",
       "<thead><tr><th scope=col>Acceleration</th><th scope=col>Cylinders</th><th scope=col>Weight_in_lbs</th></tr></thead>\n",
       "<tbody>\n",
       "\t<tr><td>12  </td><td>8   </td><td>3504</td></tr>\n",
       "\t<tr><td>11  </td><td>8   </td><td>3436</td></tr>\n",
       "\t<tr><td>12  </td><td>8   </td><td>3433</td></tr>\n",
       "\t<tr><td>10  </td><td>8   </td><td>4425</td></tr>\n",
       "</tbody>\n",
       "</table>\n"
      ],
      "text/latex": [
       "\\begin{tabular}{r|lll}\n",
       " Acceleration & Cylinders & Weight\\_in\\_lbs\\\\\n",
       "\\hline\n",
       "\t 12   & 8    & 3504\\\\\n",
       "\t 11   & 8    & 3436\\\\\n",
       "\t 12   & 8    & 3433\\\\\n",
       "\t 10   & 8    & 4425\\\\\n",
       "\\end{tabular}\n"
      ],
      "text/markdown": [
       "\n",
       "Acceleration | Cylinders | Weight_in_lbs | \n",
       "|---|---|---|---|\n",
       "| 12   | 8    | 3504 | \n",
       "| 11   | 8    | 3436 | \n",
       "| 12   | 8    | 3433 | \n",
       "| 10   | 8    | 4425 | \n",
       "\n",
       "\n"
      ],
      "text/plain": [
       "  Acceleration Cylinders Weight_in_lbs\n",
       "1 12           8         3504         \n",
       "2 11           8         3436         \n",
       "3 12           8         3433         \n",
       "4 10           8         4425         "
      ]
     },
     "metadata": {},
     "output_type": "display_data"
    }
   ],
   "source": [
    "cars_dt[c(1, 3:4, 9), c(1:2, 8)]"
   ]
  },
  {
   "cell_type": "code",
   "execution_count": 56,
   "metadata": {
    "slideshow": {
     "slide_type": "-"
    }
   },
   "outputs": [
    {
     "data": {
      "text/html": [
       "<table>\n",
       "<thead><tr><th scope=col>Acceleration</th><th scope=col>Cylinders</th><th scope=col>Weight_in_lbs</th></tr></thead>\n",
       "<tbody>\n",
       "\t<tr><td>12  </td><td>8   </td><td>3504</td></tr>\n",
       "\t<tr><td>11  </td><td>8   </td><td>3436</td></tr>\n",
       "\t<tr><td>12  </td><td>8   </td><td>3433</td></tr>\n",
       "\t<tr><td>10  </td><td>8   </td><td>4425</td></tr>\n",
       "</tbody>\n",
       "</table>\n"
      ],
      "text/latex": [
       "\\begin{tabular}{r|lll}\n",
       " Acceleration & Cylinders & Weight\\_in\\_lbs\\\\\n",
       "\\hline\n",
       "\t 12   & 8    & 3504\\\\\n",
       "\t 11   & 8    & 3436\\\\\n",
       "\t 12   & 8    & 3433\\\\\n",
       "\t 10   & 8    & 4425\\\\\n",
       "\\end{tabular}\n"
      ],
      "text/markdown": [
       "\n",
       "Acceleration | Cylinders | Weight_in_lbs | \n",
       "|---|---|---|---|\n",
       "| 12   | 8    | 3504 | \n",
       "| 11   | 8    | 3436 | \n",
       "| 12   | 8    | 3433 | \n",
       "| 10   | 8    | 4425 | \n",
       "\n",
       "\n"
      ],
      "text/plain": [
       "  Acceleration Cylinders Weight_in_lbs\n",
       "1 12           8         3504         \n",
       "2 11           8         3436         \n",
       "3 12           8         3433         \n",
       "4 10           8         4425         "
      ]
     },
     "metadata": {},
     "output_type": "display_data"
    }
   ],
   "source": [
    "cars_tbl %>%\n",
    "    slice(c(1, 3:4, 9)) %>% \n",
    "    select(c(1:2, 8))"
   ]
  },
  {
   "cell_type": "markdown",
   "metadata": {
    "slideshow": {
     "slide_type": "subslide"
    }
   },
   "source": [
    "#### Intermezzo: the pipe operator\n",
    "\n",
    "The pipe (`%>%`) is a more readable way of composing functions. All it does is that it substitutes its left hand sides to the first argument of the function on its right, and shifts the other arguments by 1. It's easier to see through examples:"
   ]
  },
  {
   "cell_type": "code",
   "execution_count": 57,
   "metadata": {
    "slideshow": {
     "slide_type": "fragment"
    }
   },
   "outputs": [
    {
     "data": {
      "text/html": [
       "1.4142135623731"
      ],
      "text/latex": [
       "1.4142135623731"
      ],
      "text/markdown": [
       "1.4142135623731"
      ],
      "text/plain": [
       "[1] 1.414214"
      ]
     },
     "metadata": {},
     "output_type": "display_data"
    }
   ],
   "source": [
    "2 %>% sqrt()  # equivalent to sqrt(2)"
   ]
  },
  {
   "cell_type": "code",
   "execution_count": 58,
   "metadata": {
    "slideshow": {
     "slide_type": "fragment"
    }
   },
   "outputs": [
    {
     "data": {
      "text/html": [
       "0.346573590279973"
      ],
      "text/latex": [
       "0.346573590279973"
      ],
      "text/markdown": [
       "0.346573590279973"
      ],
      "text/plain": [
       "[1] 0.3465736"
      ]
     },
     "metadata": {},
     "output_type": "display_data"
    }
   ],
   "source": [
    "2 %>%\n",
    "  sqrt() %>%\n",
    "  log()  # equivalent to log(sqrt(2))"
   ]
  },
  {
   "cell_type": "code",
   "execution_count": 59,
   "metadata": {
    "slideshow": {
     "slide_type": "fragment"
    }
   },
   "outputs": [
    {
     "data": {
      "text/html": [
       "2"
      ],
      "text/latex": [
       "2"
      ],
      "text/markdown": [
       "2"
      ],
      "text/plain": [
       "[1] 2"
      ]
     },
     "metadata": {},
     "output_type": "display_data"
    }
   ],
   "source": [
    "100 %>% log(10)  # equivalent to log(100, 10)"
   ]
  },
  {
   "cell_type": "code",
   "execution_count": 60,
   "metadata": {
    "slideshow": {
     "slide_type": "fragment"
    }
   },
   "outputs": [
    {
     "data": {
      "text/html": [
       "0.5"
      ],
      "text/latex": [
       "0.5"
      ],
      "text/markdown": [
       "0.5"
      ],
      "text/plain": [
       "[1] 0.5"
      ]
     },
     "metadata": {},
     "output_type": "display_data"
    }
   ],
   "source": [
    "100 %>% log(10, .)  # equivalent to log(10, 100)"
   ]
  },
  {
   "cell_type": "markdown",
   "metadata": {
    "slideshow": {
     "slide_type": "fragment"
    }
   },
   "source": [
    "As you might have guessed, Tidyverse functions are designed to be nicely composable using the pipe."
   ]
  },
  {
   "cell_type": "markdown",
   "metadata": {
    "slideshow": {
     "slide_type": "subslide"
    }
   },
   "source": [
    "Based on column name:"
   ]
  },
  {
   "cell_type": "code",
   "execution_count": 61,
   "metadata": {
    "slideshow": {
     "slide_type": "skip"
    }
   },
   "outputs": [
    {
     "data": {
      "text/html": [
       "<table>\n",
       "<thead><tr><th></th><th scope=col>Horsepower</th><th scope=col>Name</th></tr></thead>\n",
       "<tbody>\n",
       "\t<tr><th scope=row>1</th><td>130                      </td><td>chevrolet chevelle malibu</td></tr>\n",
       "\t<tr><th scope=row>3</th><td>150                      </td><td>plymouth satellite       </td></tr>\n",
       "\t<tr><th scope=row>4</th><td>150                      </td><td>amc rebel sst            </td></tr>\n",
       "\t<tr><th scope=row>9</th><td>225                      </td><td>pontiac catalina         </td></tr>\n",
       "</tbody>\n",
       "</table>\n"
      ],
      "text/latex": [
       "\\begin{tabular}{r|ll}\n",
       "  & Horsepower & Name\\\\\n",
       "\\hline\n",
       "\t1 & 130                       & chevrolet chevelle malibu\\\\\n",
       "\t3 & 150                       & plymouth satellite       \\\\\n",
       "\t4 & 150                       & amc rebel sst            \\\\\n",
       "\t9 & 225                       & pontiac catalina         \\\\\n",
       "\\end{tabular}\n"
      ],
      "text/markdown": [
       "\n",
       "| <!--/--> | Horsepower | Name | \n",
       "|---|---|---|---|\n",
       "| 1 | 130                       | chevrolet chevelle malibu | \n",
       "| 3 | 150                       | plymouth satellite        | \n",
       "| 4 | 150                       | amc rebel sst             | \n",
       "| 9 | 225                       | pontiac catalina          | \n",
       "\n",
       "\n"
      ],
      "text/plain": [
       "  Horsepower Name                     \n",
       "1 130        chevrolet chevelle malibu\n",
       "3 150        plymouth satellite       \n",
       "4 150        amc rebel sst            \n",
       "9 225        pontiac catalina         "
      ]
     },
     "metadata": {},
     "output_type": "display_data"
    }
   ],
   "source": [
    "cars_df[c(1, 3:4, 9), c(\"Horsepower\", \"Name\")]"
   ]
  },
  {
   "cell_type": "code",
   "execution_count": 62,
   "metadata": {
    "slideshow": {
     "slide_type": "skip"
    }
   },
   "outputs": [
    {
     "data": {
      "text/html": [
       "<table>\n",
       "<thead><tr><th scope=col>Horsepower</th><th scope=col>Name</th></tr></thead>\n",
       "<tbody>\n",
       "\t<tr><td>130                      </td><td>chevrolet chevelle malibu</td></tr>\n",
       "\t<tr><td>150                      </td><td>plymouth satellite       </td></tr>\n",
       "\t<tr><td>150                      </td><td>amc rebel sst            </td></tr>\n",
       "\t<tr><td>225                      </td><td>pontiac catalina         </td></tr>\n",
       "</tbody>\n",
       "</table>\n"
      ],
      "text/latex": [
       "\\begin{tabular}{r|ll}\n",
       " Horsepower & Name\\\\\n",
       "\\hline\n",
       "\t 130                       & chevrolet chevelle malibu\\\\\n",
       "\t 150                       & plymouth satellite       \\\\\n",
       "\t 150                       & amc rebel sst            \\\\\n",
       "\t 225                       & pontiac catalina         \\\\\n",
       "\\end{tabular}\n"
      ],
      "text/markdown": [
       "\n",
       "Horsepower | Name | \n",
       "|---|---|---|---|\n",
       "| 130                       | chevrolet chevelle malibu | \n",
       "| 150                       | plymouth satellite        | \n",
       "| 150                       | amc rebel sst             | \n",
       "| 225                       | pontiac catalina          | \n",
       "\n",
       "\n"
      ],
      "text/plain": [
       "  Horsepower Name                     \n",
       "1 130        chevrolet chevelle malibu\n",
       "2 150        plymouth satellite       \n",
       "3 150        amc rebel sst            \n",
       "4 225        pontiac catalina         "
      ]
     },
     "metadata": {},
     "output_type": "display_data"
    }
   ],
   "source": [
    "cars_dt[c(1, 3:4, 9), .(Horsepower, Name)]"
   ]
  },
  {
   "cell_type": "code",
   "execution_count": 63,
   "metadata": {
    "slideshow": {
     "slide_type": "-"
    }
   },
   "outputs": [
    {
     "data": {
      "text/html": [
       "<table>\n",
       "<thead><tr><th scope=col>Horsepower</th><th scope=col>Name</th></tr></thead>\n",
       "<tbody>\n",
       "\t<tr><td>130                      </td><td>chevrolet chevelle malibu</td></tr>\n",
       "\t<tr><td>150                      </td><td>plymouth satellite       </td></tr>\n",
       "\t<tr><td>150                      </td><td>amc rebel sst            </td></tr>\n",
       "\t<tr><td>225                      </td><td>pontiac catalina         </td></tr>\n",
       "</tbody>\n",
       "</table>\n"
      ],
      "text/latex": [
       "\\begin{tabular}{r|ll}\n",
       " Horsepower & Name\\\\\n",
       "\\hline\n",
       "\t 130                       & chevrolet chevelle malibu\\\\\n",
       "\t 150                       & plymouth satellite       \\\\\n",
       "\t 150                       & amc rebel sst            \\\\\n",
       "\t 225                       & pontiac catalina         \\\\\n",
       "\\end{tabular}\n"
      ],
      "text/markdown": [
       "\n",
       "Horsepower | Name | \n",
       "|---|---|---|---|\n",
       "| 130                       | chevrolet chevelle malibu | \n",
       "| 150                       | plymouth satellite        | \n",
       "| 150                       | amc rebel sst             | \n",
       "| 225                       | pontiac catalina          | \n",
       "\n",
       "\n"
      ],
      "text/plain": [
       "  Horsepower Name                     \n",
       "1 130        chevrolet chevelle malibu\n",
       "2 150        plymouth satellite       \n",
       "3 150        amc rebel sst            \n",
       "4 225        pontiac catalina         "
      ]
     },
     "metadata": {},
     "output_type": "display_data"
    }
   ],
   "source": [
    "cars_tbl %>%\n",
    "    slice(c(1, 3:4, 9)) %>% \n",
    "    select(Horsepower, Name)"
   ]
  },
  {
   "cell_type": "markdown",
   "metadata": {
    "slideshow": {
     "slide_type": "fragment"
    }
   },
   "source": [
    "Based on conditions:"
   ]
  },
  {
   "cell_type": "code",
   "execution_count": 64,
   "metadata": {
    "slideshow": {
     "slide_type": "skip"
    }
   },
   "outputs": [
    {
     "data": {
      "text/html": [
       "<table>\n",
       "<thead><tr><th></th><th scope=col>Acceleration</th><th scope=col>Cylinders</th><th scope=col>Displacement</th><th scope=col>Horsepower</th><th scope=col>Miles_per_Gallon</th><th scope=col>Name</th><th scope=col>Origin</th><th scope=col>Weight_in_lbs</th><th scope=col>Year</th></tr></thead>\n",
       "<tbody>\n",
       "\t<tr><th scope=row>NA</th><td>  NA              </td><td>NA                </td><td>NA                </td><td>NA                </td><td>  NA              </td><td>NA                </td><td>NA                </td><td>  NA              </td><td>NA                </td></tr>\n",
       "\t<tr><th scope=row>NA.1</th><td>  NA              </td><td>NA                </td><td>NA                </td><td>NA                </td><td>  NA              </td><td>NA                </td><td>NA                </td><td>  NA              </td><td>NA                </td></tr>\n",
       "\t<tr><th scope=row>203</th><td>22.2              </td><td> 4                </td><td>85                </td><td>52                </td><td>29.0              </td><td>chevrolet chevette</td><td>USA               </td><td>2035              </td><td>1976-01-01        </td></tr>\n",
       "\t<tr><th scope=row>204</th><td>22.1              </td><td> 4                </td><td>98                </td><td>60                </td><td>24.5              </td><td>chevrolet woody   </td><td>USA               </td><td>2164              </td><td>1976-01-01        </td></tr>\n",
       "\t<tr><th scope=row>NA.2</th><td>  NA              </td><td>NA                </td><td>NA                </td><td>NA                </td><td>  NA              </td><td>NA                </td><td>NA                </td><td>  NA              </td><td>NA                </td></tr>\n",
       "\t<tr><th scope=row>NA.3</th><td>  NA              </td><td>NA                </td><td>NA                </td><td>NA                </td><td>  NA              </td><td>NA                </td><td>NA                </td><td>  NA              </td><td>NA                </td></tr>\n",
       "</tbody>\n",
       "</table>\n"
      ],
      "text/latex": [
       "\\begin{tabular}{r|lllllllll}\n",
       "  & Acceleration & Cylinders & Displacement & Horsepower & Miles\\_per\\_Gallon & Name & Origin & Weight\\_in\\_lbs & Year\\\\\n",
       "\\hline\n",
       "\tNA &   NA               & NA                 & NA                 & NA                 &   NA               & NA                 & NA                 &   NA               & NA                \\\\\n",
       "\tNA.1 &   NA               & NA                 & NA                 & NA                 &   NA               & NA                 & NA                 &   NA               & NA                \\\\\n",
       "\t203 & 22.2               &  4                 & 85                 & 52                 & 29.0               & chevrolet chevette & USA                & 2035               & 1976-01-01        \\\\\n",
       "\t204 & 22.1               &  4                 & 98                 & 60                 & 24.5               & chevrolet woody    & USA                & 2164               & 1976-01-01        \\\\\n",
       "\tNA.2 &   NA               & NA                 & NA                 & NA                 &   NA               & NA                 & NA                 &   NA               & NA                \\\\\n",
       "\tNA.3 &   NA               & NA                 & NA                 & NA                 &   NA               & NA                 & NA                 &   NA               & NA                \\\\\n",
       "\\end{tabular}\n"
      ],
      "text/markdown": [
       "\n",
       "| <!--/--> | Acceleration | Cylinders | Displacement | Horsepower | Miles_per_Gallon | Name | Origin | Weight_in_lbs | Year | \n",
       "|---|---|---|---|---|---|\n",
       "| NA |   NA               | NA                 | NA                 | NA                 |   NA               | NA                 | NA                 |   NA               | NA                 | \n",
       "| NA.1 |   NA               | NA                 | NA                 | NA                 |   NA               | NA                 | NA                 |   NA               | NA                 | \n",
       "| 203 | 22.2               |  4                 | 85                 | 52                 | 29.0               | chevrolet chevette | USA                | 2035               | 1976-01-01         | \n",
       "| 204 | 22.1               |  4                 | 98                 | 60                 | 24.5               | chevrolet woody    | USA                | 2164               | 1976-01-01         | \n",
       "| NA.2 |   NA               | NA                 | NA                 | NA                 |   NA               | NA                 | NA                 |   NA               | NA                 | \n",
       "| NA.3 |   NA               | NA                 | NA                 | NA                 |   NA               | NA                 | NA                 |   NA               | NA                 | \n",
       "\n",
       "\n"
      ],
      "text/plain": [
       "     Acceleration Cylinders Displacement Horsepower Miles_per_Gallon\n",
       "NA     NA         NA        NA           NA           NA            \n",
       "NA.1   NA         NA        NA           NA           NA            \n",
       "203  22.2          4        85           52         29.0            \n",
       "204  22.1          4        98           60         24.5            \n",
       "NA.2   NA         NA        NA           NA           NA            \n",
       "NA.3   NA         NA        NA           NA           NA            \n",
       "     Name               Origin Weight_in_lbs Year      \n",
       "NA   NA                 NA       NA          NA        \n",
       "NA.1 NA                 NA       NA          NA        \n",
       "203  chevrolet chevette USA    2035          1976-01-01\n",
       "204  chevrolet woody    USA    2164          1976-01-01\n",
       "NA.2 NA                 NA       NA          NA        \n",
       "NA.3 NA                 NA       NA          NA        "
      ]
     },
     "metadata": {},
     "output_type": "display_data"
    }
   ],
   "source": [
    "cars_df[cars_tbl$Origin == \"USA\" & cars_tbl$Horsepower < 62, ]  # You have to be careful with NAs here!"
   ]
  },
  {
   "cell_type": "code",
   "execution_count": 65,
   "metadata": {
    "slideshow": {
     "slide_type": "skip"
    }
   },
   "outputs": [
    {
     "data": {
      "text/html": [
       "<table>\n",
       "<thead><tr><th scope=col>Acceleration</th><th scope=col>Cylinders</th><th scope=col>Displacement</th><th scope=col>Horsepower</th><th scope=col>Miles_per_Gallon</th><th scope=col>Name</th><th scope=col>Origin</th><th scope=col>Weight_in_lbs</th><th scope=col>Year</th></tr></thead>\n",
       "<tbody>\n",
       "\t<tr><td>22.2              </td><td>4                 </td><td>85                </td><td>52                </td><td>29.0              </td><td>chevrolet chevette</td><td>USA               </td><td>2035              </td><td>1976-01-01        </td></tr>\n",
       "\t<tr><td>22.1              </td><td>4                 </td><td>98                </td><td>60                </td><td>24.5              </td><td>chevrolet woody   </td><td>USA               </td><td>2164              </td><td>1976-01-01        </td></tr>\n",
       "</tbody>\n",
       "</table>\n"
      ],
      "text/latex": [
       "\\begin{tabular}{r|lllllllll}\n",
       " Acceleration & Cylinders & Displacement & Horsepower & Miles\\_per\\_Gallon & Name & Origin & Weight\\_in\\_lbs & Year\\\\\n",
       "\\hline\n",
       "\t 22.2               & 4                  & 85                 & 52                 & 29.0               & chevrolet chevette & USA                & 2035               & 1976-01-01        \\\\\n",
       "\t 22.1               & 4                  & 98                 & 60                 & 24.5               & chevrolet woody    & USA                & 2164               & 1976-01-01        \\\\\n",
       "\\end{tabular}\n"
      ],
      "text/markdown": [
       "\n",
       "Acceleration | Cylinders | Displacement | Horsepower | Miles_per_Gallon | Name | Origin | Weight_in_lbs | Year | \n",
       "|---|---|\n",
       "| 22.2               | 4                  | 85                 | 52                 | 29.0               | chevrolet chevette | USA                | 2035               | 1976-01-01         | \n",
       "| 22.1               | 4                  | 98                 | 60                 | 24.5               | chevrolet woody    | USA                | 2164               | 1976-01-01         | \n",
       "\n",
       "\n"
      ],
      "text/plain": [
       "  Acceleration Cylinders Displacement Horsepower Miles_per_Gallon\n",
       "1 22.2         4         85           52         29.0            \n",
       "2 22.1         4         98           60         24.5            \n",
       "  Name               Origin Weight_in_lbs Year      \n",
       "1 chevrolet chevette USA    2035          1976-01-01\n",
       "2 chevrolet woody    USA    2164          1976-01-01"
      ]
     },
     "metadata": {},
     "output_type": "display_data"
    }
   ],
   "source": [
    "cars_dt[Origin == \"USA\" & Horsepower < 62]"
   ]
  },
  {
   "cell_type": "code",
   "execution_count": 66,
   "metadata": {
    "slideshow": {
     "slide_type": "-"
    }
   },
   "outputs": [
    {
     "data": {
      "text/html": [
       "<table>\n",
       "<thead><tr><th scope=col>Acceleration</th><th scope=col>Cylinders</th><th scope=col>Displacement</th><th scope=col>Horsepower</th><th scope=col>Miles_per_Gallon</th><th scope=col>Name</th><th scope=col>Origin</th><th scope=col>Weight_in_lbs</th><th scope=col>Year</th></tr></thead>\n",
       "<tbody>\n",
       "\t<tr><td>22.2              </td><td>4                 </td><td>85                </td><td>52                </td><td>29.0              </td><td>chevrolet chevette</td><td>USA               </td><td>2035              </td><td>1976-01-01        </td></tr>\n",
       "\t<tr><td>22.1              </td><td>4                 </td><td>98                </td><td>60                </td><td>24.5              </td><td>chevrolet woody   </td><td>USA               </td><td>2164              </td><td>1976-01-01        </td></tr>\n",
       "</tbody>\n",
       "</table>\n"
      ],
      "text/latex": [
       "\\begin{tabular}{r|lllllllll}\n",
       " Acceleration & Cylinders & Displacement & Horsepower & Miles\\_per\\_Gallon & Name & Origin & Weight\\_in\\_lbs & Year\\\\\n",
       "\\hline\n",
       "\t 22.2               & 4                  & 85                 & 52                 & 29.0               & chevrolet chevette & USA                & 2035               & 1976-01-01        \\\\\n",
       "\t 22.1               & 4                  & 98                 & 60                 & 24.5               & chevrolet woody    & USA                & 2164               & 1976-01-01        \\\\\n",
       "\\end{tabular}\n"
      ],
      "text/markdown": [
       "\n",
       "Acceleration | Cylinders | Displacement | Horsepower | Miles_per_Gallon | Name | Origin | Weight_in_lbs | Year | \n",
       "|---|---|\n",
       "| 22.2               | 4                  | 85                 | 52                 | 29.0               | chevrolet chevette | USA                | 2035               | 1976-01-01         | \n",
       "| 22.1               | 4                  | 98                 | 60                 | 24.5               | chevrolet woody    | USA                | 2164               | 1976-01-01         | \n",
       "\n",
       "\n"
      ],
      "text/plain": [
       "  Acceleration Cylinders Displacement Horsepower Miles_per_Gallon\n",
       "1 22.2         4         85           52         29.0            \n",
       "2 22.1         4         98           60         24.5            \n",
       "  Name               Origin Weight_in_lbs Year      \n",
       "1 chevrolet chevette USA    2035          1976-01-01\n",
       "2 chevrolet woody    USA    2164          1976-01-01"
      ]
     },
     "metadata": {},
     "output_type": "display_data"
    }
   ],
   "source": [
    "filter(cars_tbl, Origin == \"USA\" & Horsepower < 62)"
   ]
  },
  {
   "cell_type": "markdown",
   "metadata": {
    "slideshow": {
     "slide_type": "subslide"
    }
   },
   "source": [
    "These examples only cover a subset of slicing options, but they should be enough for most use cases."
   ]
  },
  {
   "cell_type": "markdown",
   "metadata": {
    "slideshow": {
     "slide_type": "slide"
    }
   },
   "source": [
    "### Creating columns"
   ]
  },
  {
   "cell_type": "code",
   "execution_count": 67,
   "metadata": {
    "slideshow": {
     "slide_type": "skip"
    }
   },
   "outputs": [],
   "source": [
    "cars_df$Weight_in_kg <- cars_df$Weight_in_lbs * 0.453592\n",
    "cars_df$l_per_100km <- 235.215 / cars_df$Miles_per_Gallon"
   ]
  },
  {
   "cell_type": "code",
   "execution_count": 68,
   "metadata": {
    "slideshow": {
     "slide_type": "skip"
    }
   },
   "outputs": [
    {
     "data": {},
     "metadata": {},
     "output_type": "display_data"
    },
    {
     "data": {},
     "metadata": {},
     "output_type": "display_data"
    }
   ],
   "source": [
    "cars_dt[, Weight_in_kg := Weight_in_lbs * 0.453592]\n",
    "cars_dt[, l_per_100km := 235.215 / Miles_per_Gallon]"
   ]
  },
  {
   "cell_type": "code",
   "execution_count": 69,
   "metadata": {
    "slideshow": {
     "slide_type": "-"
    }
   },
   "outputs": [],
   "source": [
    "cars_tbl <- mutate(cars_tbl,\n",
    "                   Weight_in_kg = Weight_in_lbs * 0.453592,\n",
    "                   l_per_100km = 235.215 / Miles_per_Gallon)"
   ]
  },
  {
   "cell_type": "code",
   "execution_count": 70,
   "metadata": {
    "slideshow": {
     "slide_type": "-"
    }
   },
   "outputs": [
    {
     "data": {
      "text/html": [
       "<table>\n",
       "<thead><tr><th scope=col>Acceleration</th><th scope=col>Cylinders</th><th scope=col>Displacement</th><th scope=col>Horsepower</th><th scope=col>Miles_per_Gallon</th><th scope=col>Name</th><th scope=col>Origin</th><th scope=col>Weight_in_lbs</th><th scope=col>Year</th><th scope=col>Weight_in_kg</th><th scope=col>l_per_100km</th></tr></thead>\n",
       "<tbody>\n",
       "\t<tr><td>12.0                     </td><td>8                        </td><td>307                      </td><td>130                      </td><td>18                       </td><td>chevrolet chevelle malibu</td><td>USA                      </td><td>3504                     </td><td>1970-01-01               </td><td>1589.386                 </td><td>13.06750                 </td></tr>\n",
       "\t<tr><td>11.5                     </td><td>8                        </td><td>350                      </td><td>165                      </td><td>15                       </td><td>buick skylark 320        </td><td>USA                      </td><td>3693                     </td><td>1970-01-01               </td><td>1675.115                 </td><td>15.68100                 </td></tr>\n",
       "\t<tr><td>11.0                     </td><td>8                        </td><td>318                      </td><td>150                      </td><td>18                       </td><td>plymouth satellite       </td><td>USA                      </td><td>3436                     </td><td>1970-01-01               </td><td>1558.542                 </td><td>13.06750                 </td></tr>\n",
       "\t<tr><td>12.0                     </td><td>8                        </td><td>304                      </td><td>150                      </td><td>16                       </td><td>amc rebel sst            </td><td>USA                      </td><td>3433                     </td><td>1970-01-01               </td><td>1557.181                 </td><td>14.70094                 </td></tr>\n",
       "\t<tr><td>10.5                     </td><td>8                        </td><td>302                      </td><td>140                      </td><td>17                       </td><td>ford torino              </td><td>USA                      </td><td>3449                     </td><td>1970-01-01               </td><td>1564.439                 </td><td>13.83618                 </td></tr>\n",
       "\t<tr><td>10.0                     </td><td>8                        </td><td>429                      </td><td>198                      </td><td>15                       </td><td>ford galaxie 500         </td><td>USA                      </td><td>4341                     </td><td>1970-01-01               </td><td>1969.043                 </td><td>15.68100                 </td></tr>\n",
       "</tbody>\n",
       "</table>\n"
      ],
      "text/latex": [
       "\\begin{tabular}{r|lllllllllll}\n",
       " Acceleration & Cylinders & Displacement & Horsepower & Miles\\_per\\_Gallon & Name & Origin & Weight\\_in\\_lbs & Year & Weight\\_in\\_kg & l\\_per\\_100km\\\\\n",
       "\\hline\n",
       "\t 12.0                      & 8                         & 307                       & 130                       & 18                        & chevrolet chevelle malibu & USA                       & 3504                      & 1970-01-01                & 1589.386                  & 13.06750                 \\\\\n",
       "\t 11.5                      & 8                         & 350                       & 165                       & 15                        & buick skylark 320         & USA                       & 3693                      & 1970-01-01                & 1675.115                  & 15.68100                 \\\\\n",
       "\t 11.0                      & 8                         & 318                       & 150                       & 18                        & plymouth satellite        & USA                       & 3436                      & 1970-01-01                & 1558.542                  & 13.06750                 \\\\\n",
       "\t 12.0                      & 8                         & 304                       & 150                       & 16                        & amc rebel sst             & USA                       & 3433                      & 1970-01-01                & 1557.181                  & 14.70094                 \\\\\n",
       "\t 10.5                      & 8                         & 302                       & 140                       & 17                        & ford torino               & USA                       & 3449                      & 1970-01-01                & 1564.439                  & 13.83618                 \\\\\n",
       "\t 10.0                      & 8                         & 429                       & 198                       & 15                        & ford galaxie 500          & USA                       & 4341                      & 1970-01-01                & 1969.043                  & 15.68100                 \\\\\n",
       "\\end{tabular}\n"
      ],
      "text/markdown": [
       "\n",
       "Acceleration | Cylinders | Displacement | Horsepower | Miles_per_Gallon | Name | Origin | Weight_in_lbs | Year | Weight_in_kg | l_per_100km | \n",
       "|---|---|---|---|---|---|\n",
       "| 12.0                      | 8                         | 307                       | 130                       | 18                        | chevrolet chevelle malibu | USA                       | 3504                      | 1970-01-01                | 1589.386                  | 13.06750                  | \n",
       "| 11.5                      | 8                         | 350                       | 165                       | 15                        | buick skylark 320         | USA                       | 3693                      | 1970-01-01                | 1675.115                  | 15.68100                  | \n",
       "| 11.0                      | 8                         | 318                       | 150                       | 18                        | plymouth satellite        | USA                       | 3436                      | 1970-01-01                | 1558.542                  | 13.06750                  | \n",
       "| 12.0                      | 8                         | 304                       | 150                       | 16                        | amc rebel sst             | USA                       | 3433                      | 1970-01-01                | 1557.181                  | 14.70094                  | \n",
       "| 10.5                      | 8                         | 302                       | 140                       | 17                        | ford torino               | USA                       | 3449                      | 1970-01-01                | 1564.439                  | 13.83618                  | \n",
       "| 10.0                      | 8                         | 429                       | 198                       | 15                        | ford galaxie 500          | USA                       | 4341                      | 1970-01-01                | 1969.043                  | 15.68100                  | \n",
       "\n",
       "\n"
      ],
      "text/plain": [
       "  Acceleration Cylinders Displacement Horsepower Miles_per_Gallon\n",
       "1 12.0         8         307          130        18              \n",
       "2 11.5         8         350          165        15              \n",
       "3 11.0         8         318          150        18              \n",
       "4 12.0         8         304          150        16              \n",
       "5 10.5         8         302          140        17              \n",
       "6 10.0         8         429          198        15              \n",
       "  Name                      Origin Weight_in_lbs Year       Weight_in_kg\n",
       "1 chevrolet chevelle malibu USA    3504          1970-01-01 1589.386    \n",
       "2 buick skylark 320         USA    3693          1970-01-01 1675.115    \n",
       "3 plymouth satellite        USA    3436          1970-01-01 1558.542    \n",
       "4 amc rebel sst             USA    3433          1970-01-01 1557.181    \n",
       "5 ford torino               USA    3449          1970-01-01 1564.439    \n",
       "6 ford galaxie 500          USA    4341          1970-01-01 1969.043    \n",
       "  l_per_100km\n",
       "1 13.06750   \n",
       "2 15.68100   \n",
       "3 13.06750   \n",
       "4 14.70094   \n",
       "5 13.83618   \n",
       "6 15.68100   "
      ]
     },
     "metadata": {},
     "output_type": "display_data"
    }
   ],
   "source": [
    "head(cars_tbl)"
   ]
  },
  {
   "cell_type": "markdown",
   "metadata": {
    "slideshow": {
     "slide_type": "slide"
    }
   },
   "source": [
    "### Aggregating data"
   ]
  },
  {
   "cell_type": "markdown",
   "metadata": {
    "slideshow": {
     "slide_type": "subslide"
    }
   },
   "source": [
    "Simple:"
   ]
  },
  {
   "cell_type": "code",
   "execution_count": 71,
   "metadata": {
    "slideshow": {
     "slide_type": "skip"
    }
   },
   "outputs": [
    {
     "data": {
      "text/html": [
       "<table>\n",
       "<thead><tr><th scope=col>Group.1</th><th scope=col>x</th></tr></thead>\n",
       "<tbody>\n",
       "\t<tr><td>Europe  </td><td>27.89143</td></tr>\n",
       "\t<tr><td>Japan   </td><td>30.45063</td></tr>\n",
       "\t<tr><td>USA     </td><td>20.08353</td></tr>\n",
       "</tbody>\n",
       "</table>\n"
      ],
      "text/latex": [
       "\\begin{tabular}{r|ll}\n",
       " Group.1 & x\\\\\n",
       "\\hline\n",
       "\t Europe   & 27.89143\\\\\n",
       "\t Japan    & 30.45063\\\\\n",
       "\t USA      & 20.08353\\\\\n",
       "\\end{tabular}\n"
      ],
      "text/markdown": [
       "\n",
       "Group.1 | x | \n",
       "|---|---|---|\n",
       "| Europe   | 27.89143 | \n",
       "| Japan    | 30.45063 | \n",
       "| USA      | 20.08353 | \n",
       "\n",
       "\n"
      ],
      "text/plain": [
       "  Group.1 x       \n",
       "1 Europe  27.89143\n",
       "2 Japan   30.45063\n",
       "3 USA     20.08353"
      ]
     },
     "metadata": {},
     "output_type": "display_data"
    }
   ],
   "source": [
    "aggregate(cars_df$Miles_per_Gallon,\n",
    "          by = list(cars_df$Origin),\n",
    "          FUN = function (x) mean(x, na.rm = TRUE))"
   ]
  },
  {
   "cell_type": "code",
   "execution_count": 72,
   "metadata": {
    "slideshow": {
     "slide_type": "skip"
    }
   },
   "outputs": [
    {
     "data": {
      "text/html": [
       "<table>\n",
       "<thead><tr><th scope=col>Origin</th><th scope=col>V1</th></tr></thead>\n",
       "<tbody>\n",
       "\t<tr><td>USA     </td><td>20.08353</td></tr>\n",
       "\t<tr><td>Europe  </td><td>27.89143</td></tr>\n",
       "\t<tr><td>Japan   </td><td>30.45063</td></tr>\n",
       "</tbody>\n",
       "</table>\n"
      ],
      "text/latex": [
       "\\begin{tabular}{r|ll}\n",
       " Origin & V1\\\\\n",
       "\\hline\n",
       "\t USA      & 20.08353\\\\\n",
       "\t Europe   & 27.89143\\\\\n",
       "\t Japan    & 30.45063\\\\\n",
       "\\end{tabular}\n"
      ],
      "text/markdown": [
       "\n",
       "Origin | V1 | \n",
       "|---|---|---|\n",
       "| USA      | 20.08353 | \n",
       "| Europe   | 27.89143 | \n",
       "| Japan    | 30.45063 | \n",
       "\n",
       "\n"
      ],
      "text/plain": [
       "  Origin V1      \n",
       "1 USA    20.08353\n",
       "2 Europe 27.89143\n",
       "3 Japan  30.45063"
      ]
     },
     "metadata": {},
     "output_type": "display_data"
    }
   ],
   "source": [
    "cars_dt[, mean(Miles_per_Gallon, na.rm = TRUE), by = Origin]"
   ]
  },
  {
   "cell_type": "code",
   "execution_count": 73,
   "metadata": {
    "slideshow": {
     "slide_type": "-"
    }
   },
   "outputs": [
    {
     "data": {
      "text/html": [
       "<table>\n",
       "<thead><tr><th scope=col>Origin</th><th scope=col>mean(Miles_per_Gallon, na.rm = TRUE)</th></tr></thead>\n",
       "<tbody>\n",
       "\t<tr><td>Europe  </td><td>27.89143</td></tr>\n",
       "\t<tr><td>Japan   </td><td>30.45063</td></tr>\n",
       "\t<tr><td>USA     </td><td>20.08353</td></tr>\n",
       "</tbody>\n",
       "</table>\n"
      ],
      "text/latex": [
       "\\begin{tabular}{r|ll}\n",
       " Origin & mean(Miles\\_per\\_Gallon, na.rm = TRUE)\\\\\n",
       "\\hline\n",
       "\t Europe   & 27.89143\\\\\n",
       "\t Japan    & 30.45063\\\\\n",
       "\t USA      & 20.08353\\\\\n",
       "\\end{tabular}\n"
      ],
      "text/markdown": [
       "\n",
       "Origin | mean(Miles_per_Gallon, na.rm = TRUE) | \n",
       "|---|---|---|\n",
       "| Europe   | 27.89143 | \n",
       "| Japan    | 30.45063 | \n",
       "| USA      | 20.08353 | \n",
       "\n",
       "\n"
      ],
      "text/plain": [
       "  Origin mean(Miles_per_Gallon, na.rm = TRUE)\n",
       "1 Europe 27.89143                            \n",
       "2 Japan  30.45063                            \n",
       "3 USA    20.08353                            "
      ]
     },
     "metadata": {},
     "output_type": "display_data"
    }
   ],
   "source": [
    "cars_tbl %>% \n",
    "    group_by(Origin) %>% \n",
    "    summarise(mean(Miles_per_Gallon, na.rm = TRUE))"
   ]
  },
  {
   "cell_type": "markdown",
   "metadata": {
    "slideshow": {
     "slide_type": "subslide"
    }
   },
   "source": [
    "Advanced:"
   ]
  },
  {
   "cell_type": "code",
   "execution_count": 74,
   "metadata": {
    "slideshow": {
     "slide_type": "skip"
    }
   },
   "outputs": [
    {
     "data": {
      "text/html": [
       "<table>\n",
       "<thead><tr><th scope=col>Origin</th><th scope=col>Cylinders</th><th scope=col>mpg</th><th scope=col>weight</th></tr></thead>\n",
       "<tbody>\n",
       "\t<tr><td>USA     </td><td>8       </td><td>14.96311</td><td>4105.194</td></tr>\n",
       "\t<tr><td>Europe  </td><td>4       </td><td>28.41111</td><td>2343.318</td></tr>\n",
       "\t<tr><td>Japan   </td><td>4       </td><td>31.59565</td><td>2153.493</td></tr>\n",
       "\t<tr><td>USA     </td><td>6       </td><td>19.66351</td><td>3213.905</td></tr>\n",
       "\t<tr><td>USA     </td><td>4       </td><td>27.84028</td><td>2437.167</td></tr>\n",
       "\t<tr><td>Japan   </td><td>3       </td><td>20.55000</td><td>2398.500</td></tr>\n",
       "\t<tr><td>Japan   </td><td>6       </td><td>23.88333</td><td>2882.000</td></tr>\n",
       "\t<tr><td>Europe  </td><td>6       </td><td>20.10000</td><td>3382.500</td></tr>\n",
       "\t<tr><td>Europe  </td><td>5       </td><td>27.36667</td><td>3103.333</td></tr>\n",
       "</tbody>\n",
       "</table>\n"
      ],
      "text/latex": [
       "\\begin{tabular}{r|llll}\n",
       " Origin & Cylinders & mpg & weight\\\\\n",
       "\\hline\n",
       "\t USA      & 8        & 14.96311 & 4105.194\\\\\n",
       "\t Europe   & 4        & 28.41111 & 2343.318\\\\\n",
       "\t Japan    & 4        & 31.59565 & 2153.493\\\\\n",
       "\t USA      & 6        & 19.66351 & 3213.905\\\\\n",
       "\t USA      & 4        & 27.84028 & 2437.167\\\\\n",
       "\t Japan    & 3        & 20.55000 & 2398.500\\\\\n",
       "\t Japan    & 6        & 23.88333 & 2882.000\\\\\n",
       "\t Europe   & 6        & 20.10000 & 3382.500\\\\\n",
       "\t Europe   & 5        & 27.36667 & 3103.333\\\\\n",
       "\\end{tabular}\n"
      ],
      "text/markdown": [
       "\n",
       "Origin | Cylinders | mpg | weight | \n",
       "|---|---|---|---|---|---|---|---|---|\n",
       "| USA      | 8        | 14.96311 | 4105.194 | \n",
       "| Europe   | 4        | 28.41111 | 2343.318 | \n",
       "| Japan    | 4        | 31.59565 | 2153.493 | \n",
       "| USA      | 6        | 19.66351 | 3213.905 | \n",
       "| USA      | 4        | 27.84028 | 2437.167 | \n",
       "| Japan    | 3        | 20.55000 | 2398.500 | \n",
       "| Japan    | 6        | 23.88333 | 2882.000 | \n",
       "| Europe   | 6        | 20.10000 | 3382.500 | \n",
       "| Europe   | 5        | 27.36667 | 3103.333 | \n",
       "\n",
       "\n"
      ],
      "text/plain": [
       "  Origin Cylinders mpg      weight  \n",
       "1 USA    8         14.96311 4105.194\n",
       "2 Europe 4         28.41111 2343.318\n",
       "3 Japan  4         31.59565 2153.493\n",
       "4 USA    6         19.66351 3213.905\n",
       "5 USA    4         27.84028 2437.167\n",
       "6 Japan  3         20.55000 2398.500\n",
       "7 Japan  6         23.88333 2882.000\n",
       "8 Europe 6         20.10000 3382.500\n",
       "9 Europe 5         27.36667 3103.333"
      ]
     },
     "metadata": {},
     "output_type": "display_data"
    }
   ],
   "source": [
    "cars_dt[\n",
    "    , \n",
    "    .(mpg = mean(Miles_per_Gallon, na.rm = TRUE),\n",
    "      weight = mean(Weight_in_lbs, na.rm = TRUE)),\n",
    "    by = .(Origin, Cylinders)\n",
    "]"
   ]
  },
  {
   "cell_type": "code",
   "execution_count": 75,
   "metadata": {
    "slideshow": {
     "slide_type": "-"
    }
   },
   "outputs": [
    {
     "data": {
      "text/html": [
       "<table>\n",
       "<thead><tr><th scope=col>Origin</th><th scope=col>Cylinders</th><th scope=col>mpg</th><th scope=col>weight</th></tr></thead>\n",
       "<tbody>\n",
       "\t<tr><td>Europe  </td><td>4       </td><td>28.41111</td><td>2343.318</td></tr>\n",
       "\t<tr><td>Europe  </td><td>5       </td><td>27.36667</td><td>3103.333</td></tr>\n",
       "\t<tr><td>Europe  </td><td>6       </td><td>20.10000</td><td>3382.500</td></tr>\n",
       "\t<tr><td>Japan   </td><td>3       </td><td>20.55000</td><td>2398.500</td></tr>\n",
       "\t<tr><td>Japan   </td><td>4       </td><td>31.59565</td><td>2153.493</td></tr>\n",
       "\t<tr><td>Japan   </td><td>6       </td><td>23.88333</td><td>2882.000</td></tr>\n",
       "\t<tr><td>USA     </td><td>4       </td><td>27.84028</td><td>2437.167</td></tr>\n",
       "\t<tr><td>USA     </td><td>6       </td><td>19.66351</td><td>3213.905</td></tr>\n",
       "\t<tr><td>USA     </td><td>8       </td><td>14.96311</td><td>4105.194</td></tr>\n",
       "</tbody>\n",
       "</table>\n"
      ],
      "text/latex": [
       "\\begin{tabular}{r|llll}\n",
       " Origin & Cylinders & mpg & weight\\\\\n",
       "\\hline\n",
       "\t Europe   & 4        & 28.41111 & 2343.318\\\\\n",
       "\t Europe   & 5        & 27.36667 & 3103.333\\\\\n",
       "\t Europe   & 6        & 20.10000 & 3382.500\\\\\n",
       "\t Japan    & 3        & 20.55000 & 2398.500\\\\\n",
       "\t Japan    & 4        & 31.59565 & 2153.493\\\\\n",
       "\t Japan    & 6        & 23.88333 & 2882.000\\\\\n",
       "\t USA      & 4        & 27.84028 & 2437.167\\\\\n",
       "\t USA      & 6        & 19.66351 & 3213.905\\\\\n",
       "\t USA      & 8        & 14.96311 & 4105.194\\\\\n",
       "\\end{tabular}\n"
      ],
      "text/markdown": [
       "\n",
       "Origin | Cylinders | mpg | weight | \n",
       "|---|---|---|---|---|---|---|---|---|\n",
       "| Europe   | 4        | 28.41111 | 2343.318 | \n",
       "| Europe   | 5        | 27.36667 | 3103.333 | \n",
       "| Europe   | 6        | 20.10000 | 3382.500 | \n",
       "| Japan    | 3        | 20.55000 | 2398.500 | \n",
       "| Japan    | 4        | 31.59565 | 2153.493 | \n",
       "| Japan    | 6        | 23.88333 | 2882.000 | \n",
       "| USA      | 4        | 27.84028 | 2437.167 | \n",
       "| USA      | 6        | 19.66351 | 3213.905 | \n",
       "| USA      | 8        | 14.96311 | 4105.194 | \n",
       "\n",
       "\n"
      ],
      "text/plain": [
       "  Origin Cylinders mpg      weight  \n",
       "1 Europe 4         28.41111 2343.318\n",
       "2 Europe 5         27.36667 3103.333\n",
       "3 Europe 6         20.10000 3382.500\n",
       "4 Japan  3         20.55000 2398.500\n",
       "5 Japan  4         31.59565 2153.493\n",
       "6 Japan  6         23.88333 2882.000\n",
       "7 USA    4         27.84028 2437.167\n",
       "8 USA    6         19.66351 3213.905\n",
       "9 USA    8         14.96311 4105.194"
      ]
     },
     "metadata": {},
     "output_type": "display_data"
    }
   ],
   "source": [
    "cars_tbl %>% \n",
    "    group_by(Origin, Cylinders) %>% \n",
    "    summarise(mpg = mean(Miles_per_Gallon, na.rm = TRUE),\n",
    "              weight = mean(Weight_in_lbs, na.rm = TRUE))"
   ]
  },
  {
   "cell_type": "markdown",
   "metadata": {
    "slideshow": {
     "slide_type": "subslide"
    }
   },
   "source": [
    "Again, it is only the tip of the iceberg."
   ]
  },
  {
   "cell_type": "markdown",
   "metadata": {
    "slideshow": {
     "slide_type": "slide"
    }
   },
   "source": [
    "### Joins"
   ]
  },
  {
   "cell_type": "code",
   "execution_count": 76,
   "metadata": {
    "slideshow": {
     "slide_type": "skip"
    }
   },
   "outputs": [],
   "source": [
    "capitals_df <- data.frame(\n",
    "    country = c(\"USA\", \"Japan\", \"Hungary\"),\n",
    "    capital = c(\"Washington DC\", \"Tokyo\", \"Budapest\")\n",
    ")\n",
    "capitals_dt <- data.table(\n",
    "    country = c(\"USA\", \"Japan\", \"Hungary\"),\n",
    "    capital = c(\"Washington DC\", \"Tokyo\", \"Budapest\")\n",
    ")"
   ]
  },
  {
   "cell_type": "code",
   "execution_count": 77,
   "metadata": {
    "slideshow": {
     "slide_type": "fragment"
    }
   },
   "outputs": [
    {
     "data": {
      "text/html": [
       "<table>\n",
       "<thead><tr><th scope=col>country</th><th scope=col>capital</th></tr></thead>\n",
       "<tbody>\n",
       "\t<tr><td>USA          </td><td>Washington DC</td></tr>\n",
       "\t<tr><td>Japan        </td><td>Tokyo        </td></tr>\n",
       "\t<tr><td>Hungary      </td><td>Budapest     </td></tr>\n",
       "</tbody>\n",
       "</table>\n"
      ],
      "text/latex": [
       "\\begin{tabular}{r|ll}\n",
       " country & capital\\\\\n",
       "\\hline\n",
       "\t USA           & Washington DC\\\\\n",
       "\t Japan         & Tokyo        \\\\\n",
       "\t Hungary       & Budapest     \\\\\n",
       "\\end{tabular}\n"
      ],
      "text/markdown": [
       "\n",
       "country | capital | \n",
       "|---|---|---|\n",
       "| USA           | Washington DC | \n",
       "| Japan         | Tokyo         | \n",
       "| Hungary       | Budapest      | \n",
       "\n",
       "\n"
      ],
      "text/plain": [
       "  country capital      \n",
       "1 USA     Washington DC\n",
       "2 Japan   Tokyo        \n",
       "3 Hungary Budapest     "
      ]
     },
     "metadata": {},
     "output_type": "display_data"
    }
   ],
   "source": [
    "capitals_tbl <- tibble(  # I know it' confusing, but it is a tibble\n",
    "    country = c(\"USA\", \"Japan\", \"Hungary\"),\n",
    "    capital = c(\"Washington DC\", \"Tokyo\", \"Budapest\")\n",
    ")\n",
    "capitals_tbl"
   ]
  },
  {
   "cell_type": "code",
   "execution_count": 78,
   "metadata": {
    "slideshow": {
     "slide_type": "skip"
    }
   },
   "outputs": [
    {
     "data": {
      "text/html": [
       "<table>\n",
       "<thead><tr><th scope=col>Origin</th><th scope=col>Acceleration</th><th scope=col>Cylinders</th><th scope=col>Displacement</th><th scope=col>Horsepower</th><th scope=col>Miles_per_Gallon</th><th scope=col>Name</th><th scope=col>Weight_in_lbs</th><th scope=col>Year</th><th scope=col>Weight_in_kg</th><th scope=col>l_per_100km</th><th scope=col>capital</th></tr></thead>\n",
       "<tbody>\n",
       "\t<tr><td>Japan                      </td><td>14.5                       </td><td>4                          </td><td>120                        </td><td>97                         </td><td>23.0                       </td><td>toyouta corona mark ii (sw)</td><td>2506                       </td><td>1972-01-01                 </td><td>1136.7016                  </td><td>10.226739                  </td><td>Tokyo                      </td></tr>\n",
       "\t<tr><td>Japan                      </td><td>14.5                       </td><td>4                          </td><td> 97                        </td><td>88                         </td><td>27.0                       </td><td>datsun pl510               </td><td>2130                       </td><td>1971-01-01                 </td><td> 966.1510                  </td><td> 8.711667                  </td><td>Tokyo                      </td></tr>\n",
       "\t<tr><td>Japan                      </td><td>18.5                       </td><td>4                          </td><td> 98                        </td><td>68                         </td><td>31.5                       </td><td>honda Accelerationord cvcc </td><td>2045                       </td><td>1977-01-01                 </td><td> 927.5956                  </td><td> 7.467143                  </td><td>Tokyo                      </td></tr>\n",
       "\t<tr><td>Japan                      </td><td>16.5                       </td><td>4                          </td><td> 97                        </td><td>88                         </td><td>27.0                       </td><td>toyota corolla 1600 (sw)   </td><td>2100                       </td><td>1972-01-01                 </td><td> 952.5432                  </td><td> 8.711667                  </td><td>Tokyo                      </td></tr>\n",
       "\t<tr><td>Japan                      </td><td>19.2                       </td><td>4                          </td><td> 85                        </td><td>65                         </td><td>31.8                       </td><td>datsun 210                 </td><td>2020                       </td><td>1979-01-01                 </td><td> 916.2558                  </td><td> 7.396698                  </td><td>Tokyo                      </td></tr>\n",
       "\t<tr><td>Japan                      </td><td>14.5                       </td><td>6                          </td><td>146                        </td><td>97                         </td><td>22.0                       </td><td>datsun 810                 </td><td>2815                       </td><td>1977-01-01                 </td><td>1276.8615                  </td><td>10.691591                  </td><td>Tokyo                      </td></tr>\n",
       "</tbody>\n",
       "</table>\n"
      ],
      "text/latex": [
       "\\begin{tabular}{r|llllllllllll}\n",
       " Origin & Acceleration & Cylinders & Displacement & Horsepower & Miles\\_per\\_Gallon & Name & Weight\\_in\\_lbs & Year & Weight\\_in\\_kg & l\\_per\\_100km & capital\\\\\n",
       "\\hline\n",
       "\t Japan                       & 14.5                        & 4                           & 120                         & 97                          & 23.0                        & toyouta corona mark ii (sw) & 2506                        & 1972-01-01                  & 1136.7016                   & 10.226739                   & Tokyo                      \\\\\n",
       "\t Japan                       & 14.5                        & 4                           &  97                         & 88                          & 27.0                        & datsun pl510                & 2130                        & 1971-01-01                  &  966.1510                   &  8.711667                   & Tokyo                      \\\\\n",
       "\t Japan                       & 18.5                        & 4                           &  98                         & 68                          & 31.5                        & honda Accelerationord cvcc  & 2045                        & 1977-01-01                  &  927.5956                   &  7.467143                   & Tokyo                      \\\\\n",
       "\t Japan                       & 16.5                        & 4                           &  97                         & 88                          & 27.0                        & toyota corolla 1600 (sw)    & 2100                        & 1972-01-01                  &  952.5432                   &  8.711667                   & Tokyo                      \\\\\n",
       "\t Japan                       & 19.2                        & 4                           &  85                         & 65                          & 31.8                        & datsun 210                  & 2020                        & 1979-01-01                  &  916.2558                   &  7.396698                   & Tokyo                      \\\\\n",
       "\t Japan                       & 14.5                        & 6                           & 146                         & 97                          & 22.0                        & datsun 810                  & 2815                        & 1977-01-01                  & 1276.8615                   & 10.691591                   & Tokyo                      \\\\\n",
       "\\end{tabular}\n"
      ],
      "text/markdown": [
       "\n",
       "Origin | Acceleration | Cylinders | Displacement | Horsepower | Miles_per_Gallon | Name | Weight_in_lbs | Year | Weight_in_kg | l_per_100km | capital | \n",
       "|---|---|---|---|---|---|\n",
       "| Japan                       | 14.5                        | 4                           | 120                         | 97                          | 23.0                        | toyouta corona mark ii (sw) | 2506                        | 1972-01-01                  | 1136.7016                   | 10.226739                   | Tokyo                       | \n",
       "| Japan                       | 14.5                        | 4                           |  97                         | 88                          | 27.0                        | datsun pl510                | 2130                        | 1971-01-01                  |  966.1510                   |  8.711667                   | Tokyo                       | \n",
       "| Japan                       | 18.5                        | 4                           |  98                         | 68                          | 31.5                        | honda Accelerationord cvcc  | 2045                        | 1977-01-01                  |  927.5956                   |  7.467143                   | Tokyo                       | \n",
       "| Japan                       | 16.5                        | 4                           |  97                         | 88                          | 27.0                        | toyota corolla 1600 (sw)    | 2100                        | 1972-01-01                  |  952.5432                   |  8.711667                   | Tokyo                       | \n",
       "| Japan                       | 19.2                        | 4                           |  85                         | 65                          | 31.8                        | datsun 210                  | 2020                        | 1979-01-01                  |  916.2558                   |  7.396698                   | Tokyo                       | \n",
       "| Japan                       | 14.5                        | 6                           | 146                         | 97                          | 22.0                        | datsun 810                  | 2815                        | 1977-01-01                  | 1276.8615                   | 10.691591                   | Tokyo                       | \n",
       "\n",
       "\n"
      ],
      "text/plain": [
       "  Origin Acceleration Cylinders Displacement Horsepower Miles_per_Gallon\n",
       "1 Japan  14.5         4         120          97         23.0            \n",
       "2 Japan  14.5         4          97          88         27.0            \n",
       "3 Japan  18.5         4          98          68         31.5            \n",
       "4 Japan  16.5         4          97          88         27.0            \n",
       "5 Japan  19.2         4          85          65         31.8            \n",
       "6 Japan  14.5         6         146          97         22.0            \n",
       "  Name                        Weight_in_lbs Year       Weight_in_kg l_per_100km\n",
       "1 toyouta corona mark ii (sw) 2506          1972-01-01 1136.7016    10.226739  \n",
       "2 datsun pl510                2130          1971-01-01  966.1510     8.711667  \n",
       "3 honda Accelerationord cvcc  2045          1977-01-01  927.5956     7.467143  \n",
       "4 toyota corolla 1600 (sw)    2100          1972-01-01  952.5432     8.711667  \n",
       "5 datsun 210                  2020          1979-01-01  916.2558     7.396698  \n",
       "6 datsun 810                  2815          1977-01-01 1276.8615    10.691591  \n",
       "  capital\n",
       "1 Tokyo  \n",
       "2 Tokyo  \n",
       "3 Tokyo  \n",
       "4 Tokyo  \n",
       "5 Tokyo  \n",
       "6 Tokyo  "
      ]
     },
     "metadata": {},
     "output_type": "display_data"
    }
   ],
   "source": [
    "merge(\n",
    "    cars_df,\n",
    "    capitals_df,\n",
    "    by.x = \"Origin\",\n",
    "    by.y = \"country\",\n",
    "    all.x = FALSE,\n",
    "    all.y = FALSE\n",
    ")                         %>%  head()"
   ]
  },
  {
   "cell_type": "code",
   "execution_count": 79,
   "metadata": {
    "slideshow": {
     "slide_type": "skip"
    }
   },
   "outputs": [
    {
     "data": {
      "text/html": [
       "<table>\n",
       "<thead><tr><th scope=col>Origin</th><th scope=col>Acceleration</th><th scope=col>Cylinders</th><th scope=col>Displacement</th><th scope=col>Horsepower</th><th scope=col>Miles_per_Gallon</th><th scope=col>Name</th><th scope=col>Weight_in_lbs</th><th scope=col>Year</th><th scope=col>Weight_in_kg</th><th scope=col>l_per_100km</th><th scope=col>capital</th></tr></thead>\n",
       "<tbody>\n",
       "\t<tr><td>Japan                </td><td>15.0                 </td><td>4                    </td><td>113                  </td><td>95                   </td><td>24                   </td><td>toyota corona mark ii</td><td>2372                 </td><td>1970-01-01           </td><td>1075.9202            </td><td>9.800625             </td><td>Tokyo                </td></tr>\n",
       "\t<tr><td>Japan                </td><td>14.5                 </td><td>4                    </td><td> 97                  </td><td>88                   </td><td>27                   </td><td>datsun pl510         </td><td>2130                 </td><td>1970-01-01           </td><td> 966.1510            </td><td>8.711667             </td><td>Tokyo                </td></tr>\n",
       "\t<tr><td>Japan                </td><td>14.5                 </td><td>4                    </td><td> 97                  </td><td>88                   </td><td>27                   </td><td>datsun pl510         </td><td>2130                 </td><td>1971-01-01           </td><td> 966.1510            </td><td>8.711667             </td><td>Tokyo                </td></tr>\n",
       "\t<tr><td>Japan                </td><td>14.0                 </td><td>4                    </td><td>113                  </td><td>95                   </td><td>25                   </td><td>toyota corona        </td><td>2228                 </td><td>1971-01-01           </td><td>1010.6030            </td><td>9.408600             </td><td>Tokyo                </td></tr>\n",
       "\t<tr><td>Japan                </td><td>19.0                 </td><td>4                    </td><td> 71                  </td><td>65                   </td><td>31                   </td><td>toyota corolla 1200  </td><td>1773                 </td><td>1971-01-01           </td><td> 804.2186            </td><td>7.587581             </td><td>Tokyo                </td></tr>\n",
       "\t<tr><td>Japan                </td><td>18.0                 </td><td>4                    </td><td> 72                  </td><td>69                   </td><td>35                   </td><td>datsun 1200          </td><td>1613                 </td><td>1971-01-01           </td><td> 731.6439            </td><td>6.720429             </td><td>Tokyo                </td></tr>\n",
       "</tbody>\n",
       "</table>\n"
      ],
      "text/latex": [
       "\\begin{tabular}{r|llllllllllll}\n",
       " Origin & Acceleration & Cylinders & Displacement & Horsepower & Miles\\_per\\_Gallon & Name & Weight\\_in\\_lbs & Year & Weight\\_in\\_kg & l\\_per\\_100km & capital\\\\\n",
       "\\hline\n",
       "\t Japan                 & 15.0                  & 4                     & 113                   & 95                    & 24                    & toyota corona mark ii & 2372                  & 1970-01-01            & 1075.9202             & 9.800625              & Tokyo                \\\\\n",
       "\t Japan                 & 14.5                  & 4                     &  97                   & 88                    & 27                    & datsun pl510          & 2130                  & 1970-01-01            &  966.1510             & 8.711667              & Tokyo                \\\\\n",
       "\t Japan                 & 14.5                  & 4                     &  97                   & 88                    & 27                    & datsun pl510          & 2130                  & 1971-01-01            &  966.1510             & 8.711667              & Tokyo                \\\\\n",
       "\t Japan                 & 14.0                  & 4                     & 113                   & 95                    & 25                    & toyota corona         & 2228                  & 1971-01-01            & 1010.6030             & 9.408600              & Tokyo                \\\\\n",
       "\t Japan                 & 19.0                  & 4                     &  71                   & 65                    & 31                    & toyota corolla 1200   & 1773                  & 1971-01-01            &  804.2186             & 7.587581              & Tokyo                \\\\\n",
       "\t Japan                 & 18.0                  & 4                     &  72                   & 69                    & 35                    & datsun 1200           & 1613                  & 1971-01-01            &  731.6439             & 6.720429              & Tokyo                \\\\\n",
       "\\end{tabular}\n"
      ],
      "text/markdown": [
       "\n",
       "Origin | Acceleration | Cylinders | Displacement | Horsepower | Miles_per_Gallon | Name | Weight_in_lbs | Year | Weight_in_kg | l_per_100km | capital | \n",
       "|---|---|---|---|---|---|\n",
       "| Japan                 | 15.0                  | 4                     | 113                   | 95                    | 24                    | toyota corona mark ii | 2372                  | 1970-01-01            | 1075.9202             | 9.800625              | Tokyo                 | \n",
       "| Japan                 | 14.5                  | 4                     |  97                   | 88                    | 27                    | datsun pl510          | 2130                  | 1970-01-01            |  966.1510             | 8.711667              | Tokyo                 | \n",
       "| Japan                 | 14.5                  | 4                     |  97                   | 88                    | 27                    | datsun pl510          | 2130                  | 1971-01-01            |  966.1510             | 8.711667              | Tokyo                 | \n",
       "| Japan                 | 14.0                  | 4                     | 113                   | 95                    | 25                    | toyota corona         | 2228                  | 1971-01-01            | 1010.6030             | 9.408600              | Tokyo                 | \n",
       "| Japan                 | 19.0                  | 4                     |  71                   | 65                    | 31                    | toyota corolla 1200   | 1773                  | 1971-01-01            |  804.2186             | 7.587581              | Tokyo                 | \n",
       "| Japan                 | 18.0                  | 4                     |  72                   | 69                    | 35                    | datsun 1200           | 1613                  | 1971-01-01            |  731.6439             | 6.720429              | Tokyo                 | \n",
       "\n",
       "\n"
      ],
      "text/plain": [
       "  Origin Acceleration Cylinders Displacement Horsepower Miles_per_Gallon\n",
       "1 Japan  15.0         4         113          95         24              \n",
       "2 Japan  14.5         4          97          88         27              \n",
       "3 Japan  14.5         4          97          88         27              \n",
       "4 Japan  14.0         4         113          95         25              \n",
       "5 Japan  19.0         4          71          65         31              \n",
       "6 Japan  18.0         4          72          69         35              \n",
       "  Name                  Weight_in_lbs Year       Weight_in_kg l_per_100km\n",
       "1 toyota corona mark ii 2372          1970-01-01 1075.9202    9.800625   \n",
       "2 datsun pl510          2130          1970-01-01  966.1510    8.711667   \n",
       "3 datsun pl510          2130          1971-01-01  966.1510    8.711667   \n",
       "4 toyota corona         2228          1971-01-01 1010.6030    9.408600   \n",
       "5 toyota corolla 1200   1773          1971-01-01  804.2186    7.587581   \n",
       "6 datsun 1200           1613          1971-01-01  731.6439    6.720429   \n",
       "  capital\n",
       "1 Tokyo  \n",
       "2 Tokyo  \n",
       "3 Tokyo  \n",
       "4 Tokyo  \n",
       "5 Tokyo  \n",
       "6 Tokyo  "
      ]
     },
     "metadata": {},
     "output_type": "display_data"
    }
   ],
   "source": [
    "merge(\n",
    "    cars_dt,\n",
    "    capitals_dt,\n",
    "    by.x = \"Origin\",\n",
    "    by.y = \"country\",\n",
    "    all.x = FALSE,\n",
    "    all.y = FALSE\n",
    ")                         %>%  head()"
   ]
  },
  {
   "cell_type": "code",
   "execution_count": 80,
   "metadata": {
    "slideshow": {
     "slide_type": "subslide"
    }
   },
   "outputs": [
    {
     "data": {
      "text/html": [
       "<table>\n",
       "<thead><tr><th scope=col>Acceleration</th><th scope=col>Cylinders</th><th scope=col>Displacement</th><th scope=col>Horsepower</th><th scope=col>Miles_per_Gallon</th><th scope=col>Name</th><th scope=col>Origin</th><th scope=col>Weight_in_lbs</th><th scope=col>Year</th><th scope=col>Weight_in_kg</th><th scope=col>l_per_100km</th><th scope=col>capital</th></tr></thead>\n",
       "<tbody>\n",
       "\t<tr><td>12.0                     </td><td>8                        </td><td>307                      </td><td>130                      </td><td>18                       </td><td>chevrolet chevelle malibu</td><td>USA                      </td><td>3504                     </td><td>1970-01-01               </td><td>1589.386                 </td><td>13.06750                 </td><td>Washington DC            </td></tr>\n",
       "\t<tr><td>11.5                     </td><td>8                        </td><td>350                      </td><td>165                      </td><td>15                       </td><td>buick skylark 320        </td><td>USA                      </td><td>3693                     </td><td>1970-01-01               </td><td>1675.115                 </td><td>15.68100                 </td><td>Washington DC            </td></tr>\n",
       "\t<tr><td>11.0                     </td><td>8                        </td><td>318                      </td><td>150                      </td><td>18                       </td><td>plymouth satellite       </td><td>USA                      </td><td>3436                     </td><td>1970-01-01               </td><td>1558.542                 </td><td>13.06750                 </td><td>Washington DC            </td></tr>\n",
       "\t<tr><td>12.0                     </td><td>8                        </td><td>304                      </td><td>150                      </td><td>16                       </td><td>amc rebel sst            </td><td>USA                      </td><td>3433                     </td><td>1970-01-01               </td><td>1557.181                 </td><td>14.70094                 </td><td>Washington DC            </td></tr>\n",
       "\t<tr><td>10.5                     </td><td>8                        </td><td>302                      </td><td>140                      </td><td>17                       </td><td>ford torino              </td><td>USA                      </td><td>3449                     </td><td>1970-01-01               </td><td>1564.439                 </td><td>13.83618                 </td><td>Washington DC            </td></tr>\n",
       "\t<tr><td>10.0                     </td><td>8                        </td><td>429                      </td><td>198                      </td><td>15                       </td><td>ford galaxie 500         </td><td>USA                      </td><td>4341                     </td><td>1970-01-01               </td><td>1969.043                 </td><td>15.68100                 </td><td>Washington DC            </td></tr>\n",
       "</tbody>\n",
       "</table>\n"
      ],
      "text/latex": [
       "\\begin{tabular}{r|llllllllllll}\n",
       " Acceleration & Cylinders & Displacement & Horsepower & Miles\\_per\\_Gallon & Name & Origin & Weight\\_in\\_lbs & Year & Weight\\_in\\_kg & l\\_per\\_100km & capital\\\\\n",
       "\\hline\n",
       "\t 12.0                      & 8                         & 307                       & 130                       & 18                        & chevrolet chevelle malibu & USA                       & 3504                      & 1970-01-01                & 1589.386                  & 13.06750                  & Washington DC            \\\\\n",
       "\t 11.5                      & 8                         & 350                       & 165                       & 15                        & buick skylark 320         & USA                       & 3693                      & 1970-01-01                & 1675.115                  & 15.68100                  & Washington DC            \\\\\n",
       "\t 11.0                      & 8                         & 318                       & 150                       & 18                        & plymouth satellite        & USA                       & 3436                      & 1970-01-01                & 1558.542                  & 13.06750                  & Washington DC            \\\\\n",
       "\t 12.0                      & 8                         & 304                       & 150                       & 16                        & amc rebel sst             & USA                       & 3433                      & 1970-01-01                & 1557.181                  & 14.70094                  & Washington DC            \\\\\n",
       "\t 10.5                      & 8                         & 302                       & 140                       & 17                        & ford torino               & USA                       & 3449                      & 1970-01-01                & 1564.439                  & 13.83618                  & Washington DC            \\\\\n",
       "\t 10.0                      & 8                         & 429                       & 198                       & 15                        & ford galaxie 500          & USA                       & 4341                      & 1970-01-01                & 1969.043                  & 15.68100                  & Washington DC            \\\\\n",
       "\\end{tabular}\n"
      ],
      "text/markdown": [
       "\n",
       "Acceleration | Cylinders | Displacement | Horsepower | Miles_per_Gallon | Name | Origin | Weight_in_lbs | Year | Weight_in_kg | l_per_100km | capital | \n",
       "|---|---|---|---|---|---|\n",
       "| 12.0                      | 8                         | 307                       | 130                       | 18                        | chevrolet chevelle malibu | USA                       | 3504                      | 1970-01-01                | 1589.386                  | 13.06750                  | Washington DC             | \n",
       "| 11.5                      | 8                         | 350                       | 165                       | 15                        | buick skylark 320         | USA                       | 3693                      | 1970-01-01                | 1675.115                  | 15.68100                  | Washington DC             | \n",
       "| 11.0                      | 8                         | 318                       | 150                       | 18                        | plymouth satellite        | USA                       | 3436                      | 1970-01-01                | 1558.542                  | 13.06750                  | Washington DC             | \n",
       "| 12.0                      | 8                         | 304                       | 150                       | 16                        | amc rebel sst             | USA                       | 3433                      | 1970-01-01                | 1557.181                  | 14.70094                  | Washington DC             | \n",
       "| 10.5                      | 8                         | 302                       | 140                       | 17                        | ford torino               | USA                       | 3449                      | 1970-01-01                | 1564.439                  | 13.83618                  | Washington DC             | \n",
       "| 10.0                      | 8                         | 429                       | 198                       | 15                        | ford galaxie 500          | USA                       | 4341                      | 1970-01-01                | 1969.043                  | 15.68100                  | Washington DC             | \n",
       "\n",
       "\n"
      ],
      "text/plain": [
       "  Acceleration Cylinders Displacement Horsepower Miles_per_Gallon\n",
       "1 12.0         8         307          130        18              \n",
       "2 11.5         8         350          165        15              \n",
       "3 11.0         8         318          150        18              \n",
       "4 12.0         8         304          150        16              \n",
       "5 10.5         8         302          140        17              \n",
       "6 10.0         8         429          198        15              \n",
       "  Name                      Origin Weight_in_lbs Year       Weight_in_kg\n",
       "1 chevrolet chevelle malibu USA    3504          1970-01-01 1589.386    \n",
       "2 buick skylark 320         USA    3693          1970-01-01 1675.115    \n",
       "3 plymouth satellite        USA    3436          1970-01-01 1558.542    \n",
       "4 amc rebel sst             USA    3433          1970-01-01 1557.181    \n",
       "5 ford torino               USA    3449          1970-01-01 1564.439    \n",
       "6 ford galaxie 500          USA    4341          1970-01-01 1969.043    \n",
       "  l_per_100km capital      \n",
       "1 13.06750    Washington DC\n",
       "2 15.68100    Washington DC\n",
       "3 13.06750    Washington DC\n",
       "4 14.70094    Washington DC\n",
       "5 13.83618    Washington DC\n",
       "6 15.68100    Washington DC"
      ]
     },
     "metadata": {},
     "output_type": "display_data"
    }
   ],
   "source": [
    "inner_join(\n",
    "    cars_tbl,\n",
    "    capitals_tbl,\n",
    "    by = c(\"Origin\" = \"country\")\n",
    ")                         %>%  head()"
   ]
  },
  {
   "cell_type": "markdown",
   "metadata": {
    "slideshow": {
     "slide_type": "fragment"
    }
   },
   "source": [
    " - all of the tools can do basic joins (left, right, inner, outer)\n",
    " - tidiverse can do it in a very readable way\n",
    " - data.table can do much more and much more quicly (e.g. non-equi-joins)"
   ]
  },
  {
   "cell_type": "markdown",
   "metadata": {
    "slideshow": {
     "slide_type": "slide"
    }
   },
   "source": [
    "### Reordering a dataset"
   ]
  },
  {
   "cell_type": "code",
   "execution_count": 81,
   "metadata": {
    "slideshow": {
     "slide_type": "skip"
    }
   },
   "outputs": [],
   "source": [
    "cars_df <- cars_df[order(cars_df$Origin, -cars_df$Displacement), ]"
   ]
  },
  {
   "cell_type": "code",
   "execution_count": 82,
   "metadata": {
    "slideshow": {
     "slide_type": "skip"
    }
   },
   "outputs": [],
   "source": [
    "setorder(cars_dt, Origin, -Displacement)"
   ]
  },
  {
   "cell_type": "code",
   "execution_count": 83,
   "metadata": {
    "slideshow": {
     "slide_type": "fragment"
    }
   },
   "outputs": [],
   "source": [
    "cars_tbl <- arrange(cars_tbl, Origin, -Displacement)"
   ]
  },
  {
   "cell_type": "code",
   "execution_count": 84,
   "metadata": {
    "slideshow": {
     "slide_type": "-"
    }
   },
   "outputs": [
    {
     "data": {
      "text/html": [
       "<table>\n",
       "<thead><tr><th scope=col>Acceleration</th><th scope=col>Cylinders</th><th scope=col>Displacement</th><th scope=col>Horsepower</th><th scope=col>Miles_per_Gallon</th><th scope=col>Name</th><th scope=col>Origin</th><th scope=col>Weight_in_lbs</th><th scope=col>Year</th><th scope=col>Weight_in_kg</th><th scope=col>l_per_100km</th></tr></thead>\n",
       "<tbody>\n",
       "\t<tr><td>20.1              </td><td>5                 </td><td>183               </td><td> 77               </td><td>25.4              </td><td>mercedes benz 300d</td><td>Europe            </td><td>3530              </td><td>1979-01-01        </td><td>1601.180          </td><td> 9.260433         </td></tr>\n",
       "\t<tr><td>16.7              </td><td>6                 </td><td>168               </td><td>120               </td><td>16.5              </td><td>mercedes-benz 280s</td><td>Europe            </td><td>3820              </td><td>1976-01-01        </td><td>1732.721          </td><td>14.255455         </td></tr>\n",
       "\t<tr><td>13.6              </td><td>6                 </td><td>163               </td><td>125               </td><td>17.0              </td><td>volvo 264gl       </td><td>Europe            </td><td>3140              </td><td>1978-01-01        </td><td>1424.279          </td><td>13.836176         </td></tr>\n",
       "\t<tr><td>15.8              </td><td>6                 </td><td>163               </td><td>133               </td><td>16.2              </td><td>peugeot 604sl     </td><td>Europe            </td><td>3410              </td><td>1978-01-01        </td><td>1546.749          </td><td>14.519444         </td></tr>\n",
       "\t<tr><td>21.8              </td><td>4                 </td><td>146               </td><td> 67               </td><td>30.0              </td><td>mercedes-benz 240d</td><td>Europe            </td><td>3250              </td><td>1980-01-01        </td><td>1474.174          </td><td> 7.840500         </td></tr>\n",
       "\t<tr><td>19.6              </td><td>6                 </td><td>145               </td><td> 76               </td><td>30.7              </td><td>volvo diesel      </td><td>Europe            </td><td>3160              </td><td>1982-01-01        </td><td>1433.351          </td><td> 7.661726         </td></tr>\n",
       "</tbody>\n",
       "</table>\n"
      ],
      "text/latex": [
       "\\begin{tabular}{r|lllllllllll}\n",
       " Acceleration & Cylinders & Displacement & Horsepower & Miles\\_per\\_Gallon & Name & Origin & Weight\\_in\\_lbs & Year & Weight\\_in\\_kg & l\\_per\\_100km\\\\\n",
       "\\hline\n",
       "\t 20.1               & 5                  & 183                &  77                & 25.4               & mercedes benz 300d & Europe             & 3530               & 1979-01-01         & 1601.180           &  9.260433         \\\\\n",
       "\t 16.7               & 6                  & 168                & 120                & 16.5               & mercedes-benz 280s & Europe             & 3820               & 1976-01-01         & 1732.721           & 14.255455         \\\\\n",
       "\t 13.6               & 6                  & 163                & 125                & 17.0               & volvo 264gl        & Europe             & 3140               & 1978-01-01         & 1424.279           & 13.836176         \\\\\n",
       "\t 15.8               & 6                  & 163                & 133                & 16.2               & peugeot 604sl      & Europe             & 3410               & 1978-01-01         & 1546.749           & 14.519444         \\\\\n",
       "\t 21.8               & 4                  & 146                &  67                & 30.0               & mercedes-benz 240d & Europe             & 3250               & 1980-01-01         & 1474.174           &  7.840500         \\\\\n",
       "\t 19.6               & 6                  & 145                &  76                & 30.7               & volvo diesel       & Europe             & 3160               & 1982-01-01         & 1433.351           &  7.661726         \\\\\n",
       "\\end{tabular}\n"
      ],
      "text/markdown": [
       "\n",
       "Acceleration | Cylinders | Displacement | Horsepower | Miles_per_Gallon | Name | Origin | Weight_in_lbs | Year | Weight_in_kg | l_per_100km | \n",
       "|---|---|---|---|---|---|\n",
       "| 20.1               | 5                  | 183                |  77                | 25.4               | mercedes benz 300d | Europe             | 3530               | 1979-01-01         | 1601.180           |  9.260433          | \n",
       "| 16.7               | 6                  | 168                | 120                | 16.5               | mercedes-benz 280s | Europe             | 3820               | 1976-01-01         | 1732.721           | 14.255455          | \n",
       "| 13.6               | 6                  | 163                | 125                | 17.0               | volvo 264gl        | Europe             | 3140               | 1978-01-01         | 1424.279           | 13.836176          | \n",
       "| 15.8               | 6                  | 163                | 133                | 16.2               | peugeot 604sl      | Europe             | 3410               | 1978-01-01         | 1546.749           | 14.519444          | \n",
       "| 21.8               | 4                  | 146                |  67                | 30.0               | mercedes-benz 240d | Europe             | 3250               | 1980-01-01         | 1474.174           |  7.840500          | \n",
       "| 19.6               | 6                  | 145                |  76                | 30.7               | volvo diesel       | Europe             | 3160               | 1982-01-01         | 1433.351           |  7.661726          | \n",
       "\n",
       "\n"
      ],
      "text/plain": [
       "  Acceleration Cylinders Displacement Horsepower Miles_per_Gallon\n",
       "1 20.1         5         183           77        25.4            \n",
       "2 16.7         6         168          120        16.5            \n",
       "3 13.6         6         163          125        17.0            \n",
       "4 15.8         6         163          133        16.2            \n",
       "5 21.8         4         146           67        30.0            \n",
       "6 19.6         6         145           76        30.7            \n",
       "  Name               Origin Weight_in_lbs Year       Weight_in_kg l_per_100km\n",
       "1 mercedes benz 300d Europe 3530          1979-01-01 1601.180      9.260433  \n",
       "2 mercedes-benz 280s Europe 3820          1976-01-01 1732.721     14.255455  \n",
       "3 volvo 264gl        Europe 3140          1978-01-01 1424.279     13.836176  \n",
       "4 peugeot 604sl      Europe 3410          1978-01-01 1546.749     14.519444  \n",
       "5 mercedes-benz 240d Europe 3250          1980-01-01 1474.174      7.840500  \n",
       "6 volvo diesel       Europe 3160          1982-01-01 1433.351      7.661726  "
      ]
     },
     "metadata": {},
     "output_type": "display_data"
    }
   ],
   "source": [
    "head(cars_tbl)"
   ]
  },
  {
   "cell_type": "markdown",
   "metadata": {
    "slideshow": {
     "slide_type": "slide"
    }
   },
   "source": [
    "### Let's put it all together!\n",
    "\n",
    "Task: List the median weight and fuel consumption of cars heavier than 1200 kg by capital of origin and number of cylinders. Calculate the consumption per kg (I know it does not make much sense) of the medians in each category. Order it by number of cylinders (decreasing) and capital."
   ]
  },
  {
   "cell_type": "code",
   "execution_count": 85,
   "metadata": {
    "slideshow": {
     "slide_type": "skip"
    }
   },
   "outputs": [
    {
     "data": {},
     "metadata": {},
     "output_type": "display_data"
    },
    {
     "data": {
      "text/html": [
       "<table>\n",
       "<thead><tr><th scope=col>Cylinders</th><th scope=col>capital</th><th scope=col>weight</th><th scope=col>consumption</th><th scope=col>consumption_per_kg</th></tr></thead>\n",
       "<tbody>\n",
       "\t<tr><td>8            </td><td>Washington DC</td><td>1876.737     </td><td>16.801071    </td><td>0.008952279  </td></tr>\n",
       "\t<tr><td>6            </td><td>Tokyo        </td><td>1317.685     </td><td>10.205610    </td><td>0.007745107  </td></tr>\n",
       "\t<tr><td>6            </td><td>Washington DC</td><td>1480.751     </td><td>12.379737    </td><td>0.008360444  </td></tr>\n",
       "\t<tr><td>4            </td><td>Tokyo        </td><td>1225.606     </td><td> 7.893121    </td><td>0.006440180  </td></tr>\n",
       "\t<tr><td>4            </td><td>Washington DC</td><td>1265.522     </td><td> 9.224118    </td><td>0.007288787  </td></tr>\n",
       "\t<tr><td>3            </td><td>Tokyo        </td><td>1233.770     </td><td>10.940233    </td><td>0.008867318  </td></tr>\n",
       "</tbody>\n",
       "</table>\n"
      ],
      "text/latex": [
       "\\begin{tabular}{r|lllll}\n",
       " Cylinders & capital & weight & consumption & consumption\\_per\\_kg\\\\\n",
       "\\hline\n",
       "\t 8             & Washington DC & 1876.737      & 16.801071     & 0.008952279  \\\\\n",
       "\t 6             & Tokyo         & 1317.685      & 10.205610     & 0.007745107  \\\\\n",
       "\t 6             & Washington DC & 1480.751      & 12.379737     & 0.008360444  \\\\\n",
       "\t 4             & Tokyo         & 1225.606      &  7.893121     & 0.006440180  \\\\\n",
       "\t 4             & Washington DC & 1265.522      &  9.224118     & 0.007288787  \\\\\n",
       "\t 3             & Tokyo         & 1233.770      & 10.940233     & 0.008867318  \\\\\n",
       "\\end{tabular}\n"
      ],
      "text/markdown": [
       "\n",
       "Cylinders | capital | weight | consumption | consumption_per_kg | \n",
       "|---|---|---|---|---|---|\n",
       "| 8             | Washington DC | 1876.737      | 16.801071     | 0.008952279   | \n",
       "| 6             | Tokyo         | 1317.685      | 10.205610     | 0.007745107   | \n",
       "| 6             | Washington DC | 1480.751      | 12.379737     | 0.008360444   | \n",
       "| 4             | Tokyo         | 1225.606      |  7.893121     | 0.006440180   | \n",
       "| 4             | Washington DC | 1265.522      |  9.224118     | 0.007288787   | \n",
       "| 3             | Tokyo         | 1233.770      | 10.940233     | 0.008867318   | \n",
       "\n",
       "\n"
      ],
      "text/plain": [
       "  Cylinders capital       weight   consumption consumption_per_kg\n",
       "1 8         Washington DC 1876.737 16.801071   0.008952279       \n",
       "2 6         Tokyo         1317.685 10.205610   0.007745107       \n",
       "3 6         Washington DC 1480.751 12.379737   0.008360444       \n",
       "4 4         Tokyo         1225.606  7.893121   0.006440180       \n",
       "5 4         Washington DC 1265.522  9.224118   0.007288787       \n",
       "6 3         Tokyo         1233.770 10.940233   0.008867318       "
      ]
     },
     "metadata": {},
     "output_type": "display_data"
    }
   ],
   "source": [
    "dt <- merge(\n",
    "    cars_dt[Weight_in_kg > 1200],\n",
    "    capitals_dt,\n",
    "    by.x = \"Origin\",\n",
    "    by.y = \"country\",\n",
    "    all.x = FALSE,\n",
    "    all.y = FALSE\n",
    ")\n",
    "dt_coll <- dt[\n",
    "    ,\n",
    "    .(weight = median(Weight_in_kg, na.rm = TRUE),\n",
    "      consumption = median(l_per_100km, na.rm = TRUE)),\n",
    "    by = .(Cylinders, capital)\n",
    "]\n",
    "dt_coll[, consumption_per_kg := consumption / weight]\n",
    "setorder(dt_coll, -Cylinders, capital)\n",
    "dt_coll"
   ]
  },
  {
   "cell_type": "code",
   "execution_count": 86,
   "metadata": {
    "slideshow": {
     "slide_type": "fragment"
    }
   },
   "outputs": [
    {
     "data": {
      "text/html": [
       "<table>\n",
       "<thead><tr><th scope=col>Cylinders</th><th scope=col>capital</th><th scope=col>weight</th><th scope=col>consumption</th><th scope=col>consumption_per_kg</th></tr></thead>\n",
       "<tbody>\n",
       "\t<tr><td>8            </td><td>Washington DC</td><td>1876.737     </td><td>16.801071    </td><td>0.008952279  </td></tr>\n",
       "\t<tr><td>6            </td><td>Tokyo        </td><td>1317.685     </td><td>10.205610    </td><td>0.007745107  </td></tr>\n",
       "\t<tr><td>6            </td><td>Washington DC</td><td>1480.751     </td><td>12.379737    </td><td>0.008360444  </td></tr>\n",
       "\t<tr><td>4            </td><td>Tokyo        </td><td>1225.606     </td><td> 7.893121    </td><td>0.006440180  </td></tr>\n",
       "\t<tr><td>4            </td><td>Washington DC</td><td>1265.522     </td><td> 9.224118    </td><td>0.007288787  </td></tr>\n",
       "\t<tr><td>3            </td><td>Tokyo        </td><td>1233.770     </td><td>10.940233    </td><td>0.008867318  </td></tr>\n",
       "</tbody>\n",
       "</table>\n"
      ],
      "text/latex": [
       "\\begin{tabular}{r|lllll}\n",
       " Cylinders & capital & weight & consumption & consumption\\_per\\_kg\\\\\n",
       "\\hline\n",
       "\t 8             & Washington DC & 1876.737      & 16.801071     & 0.008952279  \\\\\n",
       "\t 6             & Tokyo         & 1317.685      & 10.205610     & 0.007745107  \\\\\n",
       "\t 6             & Washington DC & 1480.751      & 12.379737     & 0.008360444  \\\\\n",
       "\t 4             & Tokyo         & 1225.606      &  7.893121     & 0.006440180  \\\\\n",
       "\t 4             & Washington DC & 1265.522      &  9.224118     & 0.007288787  \\\\\n",
       "\t 3             & Tokyo         & 1233.770      & 10.940233     & 0.008867318  \\\\\n",
       "\\end{tabular}\n"
      ],
      "text/markdown": [
       "\n",
       "Cylinders | capital | weight | consumption | consumption_per_kg | \n",
       "|---|---|---|---|---|---|\n",
       "| 8             | Washington DC | 1876.737      | 16.801071     | 0.008952279   | \n",
       "| 6             | Tokyo         | 1317.685      | 10.205610     | 0.007745107   | \n",
       "| 6             | Washington DC | 1480.751      | 12.379737     | 0.008360444   | \n",
       "| 4             | Tokyo         | 1225.606      |  7.893121     | 0.006440180   | \n",
       "| 4             | Washington DC | 1265.522      |  9.224118     | 0.007288787   | \n",
       "| 3             | Tokyo         | 1233.770      | 10.940233     | 0.008867318   | \n",
       "\n",
       "\n"
      ],
      "text/plain": [
       "  Cylinders capital       weight   consumption consumption_per_kg\n",
       "1 8         Washington DC 1876.737 16.801071   0.008952279       \n",
       "2 6         Tokyo         1317.685 10.205610   0.007745107       \n",
       "3 6         Washington DC 1480.751 12.379737   0.008360444       \n",
       "4 4         Tokyo         1225.606  7.893121   0.006440180       \n",
       "5 4         Washington DC 1265.522  9.224118   0.007288787       \n",
       "6 3         Tokyo         1233.770 10.940233   0.008867318       "
      ]
     },
     "metadata": {},
     "output_type": "display_data"
    }
   ],
   "source": [
    "cars_tbl %>% \n",
    "    filter(Weight_in_kg > 1200) %>% \n",
    "    inner_join(capitals_tbl, by = c(\"Origin\" = \"country\")) %>% \n",
    "    group_by(Cylinders, capital) %>% \n",
    "    summarize(weight = median(Weight_in_kg, na.rm = TRUE),\n",
    "              consumption = median(l_per_100km, na.rm = TRUE)) %>% \n",
    "    mutate(consumption_per_kg = consumption / weight) %>% \n",
    "    arrange(-Cylinders, capital)"
   ]
  },
  {
   "cell_type": "markdown",
   "metadata": {
    "slideshow": {
     "slide_type": "subslide"
    }
   },
   "source": [
    "Note: storing your data in data frames (or data tables or tibbles) is not only useful for data read from some file. **I would suggest building a dataframe from your randomly generated vectors for the simulation exercises** instead of working simply with vectors, as it usually makes your workflow easier to understand and reduces the chance of bugs in your code."
   ]
  },
  {
   "cell_type": "markdown",
   "metadata": {
    "slideshow": {
     "slide_type": "slide"
    }
   },
   "source": [
    "# Data visualization"
   ]
  },
  {
   "cell_type": "markdown",
   "metadata": {
    "slideshow": {
     "slide_type": "fragment"
    }
   },
   "source": [
    " - Multiple ways and packages (surprise, surprise...)\n",
    " \n",
    " \n",
    " - However, `ggplot2` is the clear favourite of most R users\n",
    "    - is part of the tidyverse ecosystem\n",
    "    - very powerful\n",
    "    - grammar of graphics\n",
    "    \n",
    "    \n",
    " - Other options:\n",
    "    - Base R graphics (painful, but very customizable)\n",
    "    - `lattice` (somewhat better than base R)\n",
    "    - `vegalite` (grammar of graphics, compiles to vega-lite (JSON), easy to share online)\n",
    " \n",
    " - In this lesson we are going to use `ggplot2`"
   ]
  },
  {
   "cell_type": "code",
   "execution_count": 87,
   "metadata": {
    "slideshow": {
     "slide_type": "fragment"
    }
   },
   "outputs": [],
   "source": [
    "library(ggplot2)"
   ]
  },
  {
   "cell_type": "markdown",
   "metadata": {
    "slideshow": {
     "slide_type": "subslide"
    }
   },
   "source": [
    "Creating the plot:"
   ]
  },
  {
   "cell_type": "code",
   "execution_count": 88,
   "metadata": {
    "slideshow": {
     "slide_type": "skip"
    }
   },
   "outputs": [],
   "source": [
    "# The data should be in long/tidy format!\n",
    "ggplot(cars_tbl)                 %>% ggsave(\"./plots/plot1.png\", ., width = 6, height = 4)"
   ]
  },
  {
   "cell_type": "code",
   "execution_count": null,
   "metadata": {
    "slideshow": {
     "slide_type": "subslide"
    }
   },
   "outputs": [],
   "source": [
    "# The data should be in long/tidy format!\n",
    "ggplot(cars_tbl)"
   ]
  },
  {
   "cell_type": "markdown",
   "metadata": {
    "slideshow": {
     "slide_type": "fragment"
    }
   },
   "source": [
    "<img src=\"https://raw.githubusercontent.com/stanmart/mnb_dataviz/master/plots//plot1.png\" width=\"600\" align=\"left\"/>"
   ]
  },
  {
   "cell_type": "markdown",
   "metadata": {
    "slideshow": {
     "slide_type": "subslide"
    }
   },
   "source": [
    "Adding an element:"
   ]
  },
  {
   "cell_type": "code",
   "execution_count": 90,
   "metadata": {
    "slideshow": {
     "slide_type": "skip"
    }
   },
   "outputs": [
    {
     "name": "stderr",
     "output_type": "stream",
     "text": [
      "Warning message:\n",
      "\"Removed 14 rows containing missing values (geom_point).\""
     ]
    }
   ],
   "source": [
    "( # Only the stuff between the outer parntheses is necessary!\n",
    "    \n",
    "ggplot(cars_tbl) +\n",
    "    geom_point(aes(x = Horsepower, y = l_per_100km))\n",
    "\n",
    ") %>% ggsave(filename = \"./plots/plot2.png\", plot = ., width = 6, height = 4)"
   ]
  },
  {
   "cell_type": "code",
   "execution_count": null,
   "metadata": {
    "slideshow": {
     "slide_type": "subslide"
    }
   },
   "outputs": [],
   "source": [
    "ggplot(cars_tbl) +\n",
    "    geom_point(aes(x = Horsepower, y = l_per_100km))"
   ]
  },
  {
   "cell_type": "markdown",
   "metadata": {
    "slideshow": {
     "slide_type": "fragment"
    }
   },
   "source": [
    "<img src=\"https://raw.githubusercontent.com/stanmart/mnb_dataviz/master/plots//plot2.png\" width=\"600\" align=\"left\"/>"
   ]
  },
  {
   "cell_type": "markdown",
   "metadata": {
    "slideshow": {
     "slide_type": "subslide"
    }
   },
   "source": [
    "Two more aesthetics (data - visual property connection):"
   ]
  },
  {
   "cell_type": "code",
   "execution_count": 92,
   "metadata": {
    "slideshow": {
     "slide_type": "skip"
    }
   },
   "outputs": [
    {
     "name": "stderr",
     "output_type": "stream",
     "text": [
      "Warning message:\n",
      "\"Removed 14 rows containing missing values (geom_point).\""
     ]
    }
   ],
   "source": [
    "(\n",
    "\n",
    "ggplot(cars_tbl) +\n",
    "    geom_point(aes(x = Horsepower, y = l_per_100km, color = Origin, shape = factor(Cylinders)))\n",
    "\n",
    ") %>% ggsave(filename = \"./plots/plot3.png\", plot = ., width = 6, height = 4)"
   ]
  },
  {
   "cell_type": "code",
   "execution_count": null,
   "metadata": {
    "slideshow": {
     "slide_type": "subslide"
    }
   },
   "outputs": [],
   "source": [
    "ggplot(cars_tbl) +\n",
    "    geom_point(aes(x = Horsepower, y = l_per_100km, color = Origin, shape = factor(Cylinders)))"
   ]
  },
  {
   "cell_type": "markdown",
   "metadata": {
    "slideshow": {
     "slide_type": "fragment"
    }
   },
   "source": [
    "<img src=\"https://raw.githubusercontent.com/stanmart/mnb_dataviz/master/plots//plot3.png\" width=\"600\" align=\"left\"/>"
   ]
  },
  {
   "cell_type": "markdown",
   "metadata": {
    "slideshow": {
     "slide_type": "subslide"
    }
   },
   "source": [
    "Adding another element:"
   ]
  },
  {
   "cell_type": "code",
   "execution_count": 94,
   "metadata": {
    "jupyter": {
     "outputs_hidden": true
    },
    "slideshow": {
     "slide_type": "skip"
    }
   },
   "outputs": [
    {
     "name": "stderr",
     "output_type": "stream",
     "text": [
      "Warning message:\n",
      "\"Removed 14 rows containing non-finite values (stat_smooth).\"Warning message:\n",
      "\"Removed 14 rows containing missing values (geom_point).\""
     ]
    }
   ],
   "source": [
    "(\n",
    "\n",
    "ggplot(cars_tbl) +\n",
    "    geom_point(aes(x = Horsepower, y = l_per_100km, color = Origin, shape = factor(Cylinders)), alpha = 0.5) +\n",
    "    stat_smooth(aes(x = Horsepower, y = l_per_100km, color = Origin), method = \"lm\")\n",
    "\n",
    ") %>% ggsave(filename = \"./plots/plot4.png\", plot = ., width = 6, height = 4)"
   ]
  },
  {
   "cell_type": "code",
   "execution_count": null,
   "metadata": {
    "slideshow": {
     "slide_type": "subslide"
    }
   },
   "outputs": [],
   "source": [
    "ggplot(cars_tbl) +\n",
    "    geom_point(aes(x = Horsepower, y = l_per_100km, color = Origin, shape = factor(Cylinders)), alpha = 0.5) +\n",
    "    stat_smooth(aes(x = Horsepower, y = l_per_100km, color = Origin), method = \"lm\")"
   ]
  },
  {
   "cell_type": "markdown",
   "metadata": {
    "slideshow": {
     "slide_type": "fragment"
    }
   },
   "source": [
    "<img src=\"https://raw.githubusercontent.com/stanmart/mnb_dataviz/master/plots//plot4.png\" width=\"600\" align=\"left\"/>"
   ]
  },
  {
   "cell_type": "markdown",
   "metadata": {
    "slideshow": {
     "slide_type": "subslide"
    }
   },
   "source": [
    "Faceting:"
   ]
  },
  {
   "cell_type": "code",
   "execution_count": 96,
   "metadata": {
    "jupyter": {
     "source_hidden": true
    },
    "slideshow": {
     "slide_type": "skip"
    }
   },
   "outputs": [
    {
     "name": "stderr",
     "output_type": "stream",
     "text": [
      "Warning message:\n",
      "\"Removed 14 rows containing non-finite values (stat_smooth).\"Warning message in qt((1 - level)/2, df):\n",
      "\"NaNs produced\"Warning message:\n",
      "\"Removed 14 rows containing missing values (geom_point).\""
     ]
    }
   ],
   "source": [
    "(\n",
    "\n",
    "ggplot(cars_tbl) +\n",
    "    geom_point(aes(x = Horsepower, y = l_per_100km, color = Origin, shape = factor(Cylinders)), alpha = 0.5) +\n",
    "    stat_smooth(aes(x = Horsepower, y = l_per_100km, color = Origin), method = \"lm\") +\n",
    "    facet_wrap(~ factor(Year))\n",
    "\n",
    ") %>% ggsave(filename = \"./plots/plot5.png\", plot = ., width = 6, height = 4)"
   ]
  },
  {
   "cell_type": "code",
   "execution_count": null,
   "metadata": {
    "slideshow": {
     "slide_type": "subslide"
    }
   },
   "outputs": [],
   "source": [
    "ggplot(cars_tbl) +\n",
    "    geom_point(aes(x = Horsepower, y = l_per_100km, color = Origin, shape = factor(Cylinders)), alpha = 0.5) +\n",
    "    stat_smooth(aes(x = Horsepower, y = l_per_100km, color = Origin), method = \"lm\") +\n",
    "    facet_wrap(~ factor(Year))"
   ]
  },
  {
   "cell_type": "markdown",
   "metadata": {
    "slideshow": {
     "slide_type": "fragment"
    }
   },
   "source": [
    "<img src=\"https://raw.githubusercontent.com/stanmart/mnb_dataviz/master/plots//plot5.png\" width=\"600\" align=\"left\"/>"
   ]
  },
  {
   "cell_type": "markdown",
   "metadata": {
    "slideshow": {
     "slide_type": "subslide"
    }
   },
   "source": [
    "Adding fluff:"
   ]
  },
  {
   "cell_type": "code",
   "execution_count": 98,
   "metadata": {
    "slideshow": {
     "slide_type": "skip"
    }
   },
   "outputs": [
    {
     "name": "stderr",
     "output_type": "stream",
     "text": [
      "Warning message:\n",
      "\"Removed 14 rows containing non-finite values (stat_smooth).\"Warning message in qt((1 - level)/2, df):\n",
      "\"NaNs produced\"Warning message:\n",
      "\"Removed 14 rows containing missing values (geom_point).\""
     ]
    }
   ],
   "source": [
    "(\n",
    "\n",
    "ggplot(cars_tbl) +\n",
    "    geom_point(aes(x = Horsepower, y = l_per_100km, color = Origin, shape = factor(Cylinders)),\n",
    "               alpha = 0.5) +\n",
    "    stat_smooth(aes(x = Horsepower, y = l_per_100km, color = Origin),\n",
    "                method = \"lm\") +\n",
    "    facet_wrap(~ factor(Year), ncol = 4) +\n",
    "    ggtitle(\"Horsepower and consumption by year\") +\n",
    "    xlab(\"Horsepower\") +\n",
    "    ylab(\"Consumption (l / 100 km)\") +\n",
    "    theme_bw()\n",
    "\n",
    ") %>% ggsave(filename = \"./plots/plot6.png\", plot = ., width = 6, height = 4)"
   ]
  },
  {
   "cell_type": "code",
   "execution_count": null,
   "metadata": {
    "slideshow": {
     "slide_type": "subslide"
    }
   },
   "outputs": [],
   "source": [
    "ggplot(cars_tbl) +\n",
    "    geom_point(aes(x = Horsepower, y = l_per_100km, color = Origin, shape = factor(Cylinders)),\n",
    "               alpha = 0.5) +\n",
    "    stat_smooth(aes(x = Horsepower, y = l_per_100km, color = Origin),\n",
    "                method = \"lm\") +\n",
    "    facet_wrap(~ factor(Year), ncol = 4) +\n",
    "    ggtitle(\"Horsepower and consumption by year\") +\n",
    "    xlab(\"Horsepower\") +\n",
    "    ylab(\"Consumption (l / 100 km)\") +\n",
    "    theme_bw()"
   ]
  },
  {
   "cell_type": "markdown",
   "metadata": {
    "slideshow": {
     "slide_type": "subslide"
    }
   },
   "source": [
    "<img src=\"https://raw.githubusercontent.com/stanmart/mnb_dataviz/master/plots//plot6.png\" width=\"600\" align=\"left\"/>"
   ]
  },
  {
   "cell_type": "markdown",
   "metadata": {
    "slideshow": {
     "slide_type": "subslide"
    }
   },
   "source": [
    "Saving the plot:"
   ]
  },
  {
   "cell_type": "code",
   "execution_count": 100,
   "metadata": {
    "slideshow": {
     "slide_type": "-"
    }
   },
   "outputs": [
    {
     "name": "stderr",
     "output_type": "stream",
     "text": [
      "Saving 6.67 x 6.67 in image\n",
      "Warning message:\n",
      "\"Removed 14 rows containing non-finite values (stat_smooth).\"Warning message in qt((1 - level)/2, df):\n",
      "\"NaNs produced\"Warning message:\n",
      "\"Removed 14 rows containing missing values (geom_point).\""
     ]
    }
   ],
   "source": [
    "p <- ggplot(cars_tbl) +\n",
    "    geom_point(aes(x = Horsepower, y = l_per_100km, color = Origin, shape = factor(Cylinders)),\n",
    "               alpha = 0.5) +\n",
    "    stat_smooth(aes(x = Horsepower, y = l_per_100km, color = Origin),\n",
    "                method = \"lm\") +\n",
    "    facet_wrap(~ factor(Year), ncol = 4) +\n",
    "    ggtitle(\"Horsepower and consumption by year\") +\n",
    "    xlab(\"Horsepower\") +\n",
    "    ylab(\"Consumption (l / 100 km)\") +\n",
    "    theme_bw()\n",
    "\n",
    "ggsave(\"cars.png\", p)"
   ]
  },
  {
   "cell_type": "markdown",
   "metadata": {
    "slideshow": {
     "slide_type": "subslide"
    }
   },
   "source": [
    "And many many more plot objects and faceting options:"
   ]
  },
  {
   "cell_type": "code",
   "execution_count": 138,
   "metadata": {
    "slideshow": {
     "slide_type": "fragment"
    }
   },
   "outputs": [
    {
     "data": {
      "text/html": [
       "'geom_abline, geom_area, geom_bar, geom_bin2d, geom_blank, geom_boxplot, geom_col, geom_contour, geom_count, geom_crossbar, geom_curve, geom_density, geom_density_2d, geom_density2d, geom_dotplot, geom_errorbar, geom_errorbarh, geom_freqpoly, geom_hex, geom_histogram, geom_hline, geom_jitter, geom_label, geom_line, geom_linerange, geom_map, geom_path, geom_point, geom_pointrange, geom_polygon, geom_qq, geom_qq_line, geom_quantile, geom_raster, geom_rect, geom_ribbon, geom_rug, geom_segment, geom_sf, geom_sf_label, geom_sf_text, geom_smooth, geom_spoke, geom_step, geom_text, geom_tile, geom_violin, geom_vline'"
      ],
      "text/latex": [
       "'geom\\_abline, geom\\_area, geom\\_bar, geom\\_bin2d, geom\\_blank, geom\\_boxplot, geom\\_col, geom\\_contour, geom\\_count, geom\\_crossbar, geom\\_curve, geom\\_density, geom\\_density\\_2d, geom\\_density2d, geom\\_dotplot, geom\\_errorbar, geom\\_errorbarh, geom\\_freqpoly, geom\\_hex, geom\\_histogram, geom\\_hline, geom\\_jitter, geom\\_label, geom\\_line, geom\\_linerange, geom\\_map, geom\\_path, geom\\_point, geom\\_pointrange, geom\\_polygon, geom\\_qq, geom\\_qq\\_line, geom\\_quantile, geom\\_raster, geom\\_rect, geom\\_ribbon, geom\\_rug, geom\\_segment, geom\\_sf, geom\\_sf\\_label, geom\\_sf\\_text, geom\\_smooth, geom\\_spoke, geom\\_step, geom\\_text, geom\\_tile, geom\\_violin, geom\\_vline'"
      ],
      "text/markdown": [
       "'geom_abline, geom_area, geom_bar, geom_bin2d, geom_blank, geom_boxplot, geom_col, geom_contour, geom_count, geom_crossbar, geom_curve, geom_density, geom_density_2d, geom_density2d, geom_dotplot, geom_errorbar, geom_errorbarh, geom_freqpoly, geom_hex, geom_histogram, geom_hline, geom_jitter, geom_label, geom_line, geom_linerange, geom_map, geom_path, geom_point, geom_pointrange, geom_polygon, geom_qq, geom_qq_line, geom_quantile, geom_raster, geom_rect, geom_ribbon, geom_rug, geom_segment, geom_sf, geom_sf_label, geom_sf_text, geom_smooth, geom_spoke, geom_step, geom_text, geom_tile, geom_violin, geom_vline'"
      ],
      "text/plain": [
       "[1] \"geom_abline, geom_area, geom_bar, geom_bin2d, geom_blank, geom_boxplot, geom_col, geom_contour, geom_count, geom_crossbar, geom_curve, geom_density, geom_density_2d, geom_density2d, geom_dotplot, geom_errorbar, geom_errorbarh, geom_freqpoly, geom_hex, geom_histogram, geom_hline, geom_jitter, geom_label, geom_line, geom_linerange, geom_map, geom_path, geom_point, geom_pointrange, geom_polygon, geom_qq, geom_qq_line, geom_quantile, geom_raster, geom_rect, geom_ribbon, geom_rug, geom_segment, geom_sf, geom_sf_label, geom_sf_text, geom_smooth, geom_spoke, geom_step, geom_text, geom_tile, geom_violin, geom_vline\""
      ]
     },
     "metadata": {},
     "output_type": "display_data"
    }
   ],
   "source": [
    "ls(\"package:ggplot2\")[grep(\"^geom_\", ls(\"package:ggplot2\"))] %>% paste(collapse = \", \")"
   ]
  },
  {
   "cell_type": "code",
   "execution_count": 139,
   "metadata": {
    "slideshow": {
     "slide_type": "fragment"
    }
   },
   "outputs": [
    {
     "data": {
      "text/html": [
       "'stat_bin, stat_bin_2d, stat_bin_hex, stat_bin2d, stat_binhex, stat_boxplot, stat_contour, stat_count, stat_density, stat_density_2d, stat_density2d, stat_ecdf, stat_ellipse, stat_function, stat_identity, stat_qq, stat_qq_line, stat_quantile, stat_sf, stat_sf_coordinates, stat_smooth, stat_spoke, stat_sum, stat_summary, stat_summary_2d, stat_summary_bin, stat_summary_hex, stat_summary2d, stat_unique, stat_ydensity'"
      ],
      "text/latex": [
       "'stat\\_bin, stat\\_bin\\_2d, stat\\_bin\\_hex, stat\\_bin2d, stat\\_binhex, stat\\_boxplot, stat\\_contour, stat\\_count, stat\\_density, stat\\_density\\_2d, stat\\_density2d, stat\\_ecdf, stat\\_ellipse, stat\\_function, stat\\_identity, stat\\_qq, stat\\_qq\\_line, stat\\_quantile, stat\\_sf, stat\\_sf\\_coordinates, stat\\_smooth, stat\\_spoke, stat\\_sum, stat\\_summary, stat\\_summary\\_2d, stat\\_summary\\_bin, stat\\_summary\\_hex, stat\\_summary2d, stat\\_unique, stat\\_ydensity'"
      ],
      "text/markdown": [
       "'stat_bin, stat_bin_2d, stat_bin_hex, stat_bin2d, stat_binhex, stat_boxplot, stat_contour, stat_count, stat_density, stat_density_2d, stat_density2d, stat_ecdf, stat_ellipse, stat_function, stat_identity, stat_qq, stat_qq_line, stat_quantile, stat_sf, stat_sf_coordinates, stat_smooth, stat_spoke, stat_sum, stat_summary, stat_summary_2d, stat_summary_bin, stat_summary_hex, stat_summary2d, stat_unique, stat_ydensity'"
      ],
      "text/plain": [
       "[1] \"stat_bin, stat_bin_2d, stat_bin_hex, stat_bin2d, stat_binhex, stat_boxplot, stat_contour, stat_count, stat_density, stat_density_2d, stat_density2d, stat_ecdf, stat_ellipse, stat_function, stat_identity, stat_qq, stat_qq_line, stat_quantile, stat_sf, stat_sf_coordinates, stat_smooth, stat_spoke, stat_sum, stat_summary, stat_summary_2d, stat_summary_bin, stat_summary_hex, stat_summary2d, stat_unique, stat_ydensity\""
      ]
     },
     "metadata": {},
     "output_type": "display_data"
    }
   ],
   "source": [
    "ls(\"package:ggplot2\")[grep(\"^stat_\", ls(\"package:ggplot2\"))] %>% paste(collapse = \", \")"
   ]
  },
  {
   "cell_type": "code",
   "execution_count": 140,
   "metadata": {
    "slideshow": {
     "slide_type": "fragment"
    }
   },
   "outputs": [
    {
     "data": {
      "text/html": [
       "'facet_grid, facet_null, facet_wrap'"
      ],
      "text/latex": [
       "'facet\\_grid, facet\\_null, facet\\_wrap'"
      ],
      "text/markdown": [
       "'facet_grid, facet_null, facet_wrap'"
      ],
      "text/plain": [
       "[1] \"facet_grid, facet_null, facet_wrap\""
      ]
     },
     "metadata": {},
     "output_type": "display_data"
    }
   ],
   "source": [
    "ls(\"package:ggplot2\")[grep(\"^facet_\", ls(\"package:ggplot2\"))] %>% paste(collapse = \", \")"
   ]
  },
  {
   "cell_type": "markdown",
   "metadata": {
    "slideshow": {
     "slide_type": "slide"
    }
   },
   "source": [
    "# Regressions"
   ]
  },
  {
   "cell_type": "markdown",
   "metadata": {
    "slideshow": {
     "slide_type": "fragment"
    }
   },
   "source": [
    "Running a linear regression:"
   ]
  },
  {
   "cell_type": "code",
   "execution_count": 104,
   "metadata": {},
   "outputs": [],
   "source": [
    "model_1 <- lm(Acceleration ~ Displacement + Horsepower, data = cars_tbl)"
   ]
  },
  {
   "cell_type": "code",
   "execution_count": 105,
   "metadata": {
    "slideshow": {
     "slide_type": "fragment"
    }
   },
   "outputs": [
    {
     "data": {
      "text/html": [
       "'lm'"
      ],
      "text/latex": [
       "'lm'"
      ],
      "text/markdown": [
       "'lm'"
      ],
      "text/plain": [
       "[1] \"lm\""
      ]
     },
     "metadata": {},
     "output_type": "display_data"
    }
   ],
   "source": [
    "class(model_1)"
   ]
  },
  {
   "cell_type": "markdown",
   "metadata": {
    "slideshow": {
     "slide_type": "fragment"
    }
   },
   "source": [
    "It estimates the model but does not calculate the standard errors"
   ]
  },
  {
   "cell_type": "code",
   "execution_count": 106,
   "metadata": {
    "slideshow": {
     "slide_type": "-"
    }
   },
   "outputs": [
    {
     "data": {
      "text/plain": [
       "\n",
       "Call:\n",
       "lm(formula = Acceleration ~ Displacement + Horsepower, data = cars_tbl)\n",
       "\n",
       "Coefficients:\n",
       " (Intercept)  Displacement    Horsepower  \n",
       "   21.362212      0.009405     -0.073376  \n"
      ]
     },
     "metadata": {},
     "output_type": "display_data"
    }
   ],
   "source": [
    "model_1"
   ]
  },
  {
   "cell_type": "markdown",
   "metadata": {
    "slideshow": {
     "slide_type": "subslide"
    }
   },
   "source": [
    "We would usually like those as well"
   ]
  },
  {
   "cell_type": "code",
   "execution_count": 107,
   "metadata": {
    "scrolled": true,
    "slideshow": {
     "slide_type": "-"
    }
   },
   "outputs": [
    {
     "data": {
      "text/plain": [
       "\n",
       "Call:\n",
       "lm(formula = Acceleration ~ Displacement + Horsepower, data = cars_tbl)\n",
       "\n",
       "Residuals:\n",
       "    Min      1Q  Median      3Q     Max \n",
       "-5.9297 -1.2085 -0.2448  1.0821  8.4404 \n",
       "\n",
       "Coefficients:\n",
       "              Estimate Std. Error t value Pr(>|t|)    \n",
       "(Intercept)  21.362212   0.312520  68.355  < 2e-16 ***\n",
       "Displacement  0.009405   0.002130   4.415  1.3e-05 ***\n",
       "Horsepower   -0.073376   0.005785 -12.684  < 2e-16 ***\n",
       "---\n",
       "Signif. codes:  0 '***' 0.001 '**' 0.01 '*' 0.05 '.' 0.1 ' ' 1\n",
       "\n",
       "Residual standard error: 1.968 on 397 degrees of freedom\n",
       "  (6 observations deleted due to missingness)\n",
       "Multiple R-squared:   0.51,\tAdjusted R-squared:  0.5076 \n",
       "F-statistic: 206.6 on 2 and 397 DF,  p-value: < 2.2e-16\n"
      ]
     },
     "metadata": {},
     "output_type": "display_data"
    }
   ],
   "source": [
    "summary(model_1)"
   ]
  },
  {
   "cell_type": "markdown",
   "metadata": {
    "slideshow": {
     "slide_type": "subslide"
    }
   },
   "source": [
    "We can use factor variables as well"
   ]
  },
  {
   "cell_type": "code",
   "execution_count": 108,
   "metadata": {
    "slideshow": {
     "slide_type": "-"
    }
   },
   "outputs": [],
   "source": [
    "# Cylinders is a continuous variable:\n",
    "model_2 <- lm(Acceleration ~ Displacement + Horsepower + Cylinders, data = cars_tbl)\n",
    "# Cylinder is a factor variable with appropriate dummies\n",
    "model_3 <- lm(Acceleration ~ Displacement + Horsepower + factor(Cylinders), data = cars_tbl)"
   ]
  },
  {
   "cell_type": "markdown",
   "metadata": {
    "slideshow": {
     "slide_type": "slide"
    }
   },
   "source": [
    "## The model object has various attributes"
   ]
  },
  {
   "cell_type": "markdown",
   "metadata": {
    "slideshow": {
     "slide_type": "fragment"
    }
   },
   "source": [
    "We can get the coefficients"
   ]
  },
  {
   "cell_type": "code",
   "execution_count": 109,
   "metadata": {
    "slideshow": {
     "slide_type": "fragment"
    }
   },
   "outputs": [
    {
     "data": {
      "text/html": [
       "<dl class=dl-horizontal>\n",
       "\t<dt>(Intercept)</dt>\n",
       "\t\t<dd>21.362211690154</dd>\n",
       "\t<dt>Displacement</dt>\n",
       "\t\t<dd>0.00940451802902183</dd>\n",
       "\t<dt>Horsepower</dt>\n",
       "\t\t<dd>-0.073376146530136</dd>\n",
       "</dl>\n"
      ],
      "text/latex": [
       "\\begin{description*}\n",
       "\\item[(Intercept)] 21.362211690154\n",
       "\\item[Displacement] 0.00940451802902183\n",
       "\\item[Horsepower] -0.073376146530136\n",
       "\\end{description*}\n"
      ],
      "text/markdown": [
       "(Intercept)\n",
       ":   21.362211690154Displacement\n",
       ":   0.00940451802902183Horsepower\n",
       ":   -0.073376146530136\n",
       "\n"
      ],
      "text/plain": [
       " (Intercept) Displacement   Horsepower \n",
       "21.362211690  0.009404518 -0.073376147 "
      ]
     },
     "metadata": {},
     "output_type": "display_data"
    }
   ],
   "source": [
    "model_1$coefficients"
   ]
  },
  {
   "cell_type": "code",
   "execution_count": 110,
   "metadata": {
    "slideshow": {
     "slide_type": "fragment"
    }
   },
   "outputs": [
    {
     "data": {
      "text/html": [
       "<table>\n",
       "<thead><tr><th></th><th scope=col>Estimate</th><th scope=col>Std. Error</th><th scope=col>t value</th><th scope=col>Pr(&gt;|t|)</th></tr></thead>\n",
       "<tbody>\n",
       "\t<tr><th scope=row>(Intercept)</th><td>21.362211690 </td><td>0.312519848  </td><td> 68.354736   </td><td>1.112850e-221</td></tr>\n",
       "\t<tr><th scope=row>Displacement</th><td> 0.009404518 </td><td>0.002130209  </td><td>  4.414834   </td><td> 1.304748e-05</td></tr>\n",
       "\t<tr><th scope=row>Horsepower</th><td>-0.073376147 </td><td>0.005784983  </td><td>-12.683899   </td><td> 3.475454e-31</td></tr>\n",
       "</tbody>\n",
       "</table>\n"
      ],
      "text/latex": [
       "\\begin{tabular}{r|llll}\n",
       "  & Estimate & Std. Error & t value & Pr(>\\textbar{}t\\textbar{})\\\\\n",
       "\\hline\n",
       "\t(Intercept) & 21.362211690  & 0.312519848   &  68.354736    & 1.112850e-221\\\\\n",
       "\tDisplacement &  0.009404518  & 0.002130209   &   4.414834    &  1.304748e-05\\\\\n",
       "\tHorsepower & -0.073376147  & 0.005784983   & -12.683899    &  3.475454e-31\\\\\n",
       "\\end{tabular}\n"
      ],
      "text/markdown": [
       "\n",
       "| <!--/--> | Estimate | Std. Error | t value | Pr(>|t|) | \n",
       "|---|---|---|\n",
       "| (Intercept) | 21.362211690  | 0.312519848   |  68.354736    | 1.112850e-221 | \n",
       "| Displacement |  0.009404518  | 0.002130209   |   4.414834    |  1.304748e-05 | \n",
       "| Horsepower | -0.073376147  | 0.005784983   | -12.683899    |  3.475454e-31 | \n",
       "\n",
       "\n"
      ],
      "text/plain": [
       "             Estimate     Std. Error  t value    Pr(>|t|)     \n",
       "(Intercept)  21.362211690 0.312519848  68.354736 1.112850e-221\n",
       "Displacement  0.009404518 0.002130209   4.414834  1.304748e-05\n",
       "Horsepower   -0.073376147 0.005784983 -12.683899  3.475454e-31"
      ]
     },
     "metadata": {},
     "output_type": "display_data"
    }
   ],
   "source": [
    "summary(model_1)$coefficients"
   ]
  },
  {
   "cell_type": "code",
   "execution_count": 111,
   "metadata": {
    "slideshow": {
     "slide_type": "fragment"
    }
   },
   "outputs": [
    {
     "data": {
      "text/html": [
       "4.41483392504693"
      ],
      "text/latex": [
       "4.41483392504693"
      ],
      "text/markdown": [
       "4.41483392504693"
      ],
      "text/plain": [
       "[1] 4.414834"
      ]
     },
     "metadata": {},
     "output_type": "display_data"
    }
   ],
   "source": [
    "coef_mat <- summary(model_1)$coefficients  # it is a matrix\n",
    "coef_mat[\"Displacement\", \"t value\"]"
   ]
  },
  {
   "cell_type": "markdown",
   "metadata": {
    "slideshow": {
     "slide_type": "subslide"
    }
   },
   "source": [
    "Log likelihoods"
   ]
  },
  {
   "cell_type": "code",
   "execution_count": 112,
   "metadata": {},
   "outputs": [
    {
     "data": {
      "text/html": [
       "0.510037264511146"
      ],
      "text/latex": [
       "0.510037264511146"
      ],
      "text/markdown": [
       "0.510037264511146"
      ],
      "text/plain": [
       "[1] 0.5100373"
      ]
     },
     "metadata": {},
     "output_type": "display_data"
    }
   ],
   "source": [
    "summary(model_1)$r.squared"
   ]
  },
  {
   "cell_type": "markdown",
   "metadata": {
    "slideshow": {
     "slide_type": "fragment"
    }
   },
   "source": [
    "Or F statistics"
   ]
  },
  {
   "cell_type": "code",
   "execution_count": 113,
   "metadata": {},
   "outputs": [
    {
     "data": {
      "text/html": [
       "<dl class=dl-horizontal>\n",
       "\t<dt>value</dt>\n",
       "\t\t<dd>206.632851178874</dd>\n",
       "\t<dt>numdf</dt>\n",
       "\t\t<dd>2</dd>\n",
       "\t<dt>dendf</dt>\n",
       "\t\t<dd>397</dd>\n",
       "</dl>\n"
      ],
      "text/latex": [
       "\\begin{description*}\n",
       "\\item[value] 206.632851178874\n",
       "\\item[numdf] 2\n",
       "\\item[dendf] 397\n",
       "\\end{description*}\n"
      ],
      "text/markdown": [
       "value\n",
       ":   206.632851178874numdf\n",
       ":   2dendf\n",
       ":   397\n",
       "\n"
      ],
      "text/plain": [
       "   value    numdf    dendf \n",
       "206.6329   2.0000 397.0000 "
      ]
     },
     "metadata": {},
     "output_type": "display_data"
    }
   ],
   "source": [
    "summary(model_1)$fstatistic"
   ]
  },
  {
   "cell_type": "markdown",
   "metadata": {
    "slideshow": {
     "slide_type": "subslide"
    }
   },
   "source": [
    "We can use factor variables as well"
   ]
  },
  {
   "cell_type": "code",
   "execution_count": 114,
   "metadata": {
    "slideshow": {
     "slide_type": "-"
    }
   },
   "outputs": [],
   "source": [
    "# Cylinders is a continuous variable:\n",
    "model_2 <- lm(Acceleration ~ Displacement + Horsepower + Cylinders, data = cars_tbl)\n",
    "# Cylinder is a factor variable with appropriate dummies\n",
    "model_3 <- lm(Acceleration ~ Displacement + Horsepower + factor(Cylinders), data = cars_tbl)"
   ]
  },
  {
   "cell_type": "markdown",
   "metadata": {
    "slideshow": {
     "slide_type": "subslide"
    }
   },
   "source": [
    "## Prediction"
   ]
  },
  {
   "cell_type": "markdown",
   "metadata": {
    "slideshow": {
     "slide_type": "fragment"
    }
   },
   "source": [
    "The `predict` function returns a vector"
   ]
  },
  {
   "cell_type": "code",
   "execution_count": 120,
   "metadata": {
    "slideshow": {
     "slide_type": "-"
    }
   },
   "outputs": [
    {
     "data": {
      "text/html": [
       "<dl class=dl-horizontal>\n",
       "\t<dt>1</dt>\n",
       "\t\t<dd>17.4434468222561</dd>\n",
       "\t<dt>2</dt>\n",
       "\t\t<dd>14.1083491770633</dd>\n",
       "\t<dt>3</dt>\n",
       "\t\t<dd>13.6917378354318</dd>\n",
       "\t<dt>4</dt>\n",
       "\t\t<dd>13.1041519647527</dd>\n",
       "\t<dt>5</dt>\n",
       "\t\t<dd>17.8413029573441</dd>\n",
       "</dl>\n"
      ],
      "text/latex": [
       "\\begin{description*}\n",
       "\\item[1] 17.4434468222561\n",
       "\\item[2] 14.1083491770633\n",
       "\\item[3] 13.6917378354318\n",
       "\\item[4] 13.1041519647527\n",
       "\\item[5] 17.8413029573441\n",
       "\\end{description*}\n"
      ],
      "text/markdown": [
       "1\n",
       ":   17.44344682225612\n",
       ":   14.10834917706333\n",
       ":   13.69173783543184\n",
       ":   13.10415196475275\n",
       ":   17.8413029573441\n",
       "\n"
      ],
      "text/plain": [
       "       1        2        3        4        5 \n",
       "17.44345 14.10835 13.69174 13.10415 17.84130 "
      ]
     },
     "metadata": {},
     "output_type": "display_data"
    }
   ],
   "source": [
    "y_hat <- predict(model_2)\n",
    "y_hat[1:5]"
   ]
  },
  {
   "cell_type": "markdown",
   "metadata": {},
   "source": [
    "You have to be careful with missing values, though!"
   ]
  },
  {
   "cell_type": "code",
   "execution_count": 116,
   "metadata": {
    "slideshow": {
     "slide_type": "-"
    }
   },
   "outputs": [
    {
     "data": {
      "text/html": [
       "400"
      ],
      "text/latex": [
       "400"
      ],
      "text/markdown": [
       "400"
      ],
      "text/plain": [
       "[1] 400"
      ]
     },
     "metadata": {},
     "output_type": "display_data"
    },
    {
     "data": {
      "text/html": [
       "406"
      ],
      "text/latex": [
       "406"
      ],
      "text/markdown": [
       "406"
      ],
      "text/plain": [
       "[1] 406"
      ]
     },
     "metadata": {},
     "output_type": "display_data"
    }
   ],
   "source": [
    "length(y_hat)\n",
    "nrow(cars_tbl)"
   ]
  },
  {
   "cell_type": "markdown",
   "metadata": {
    "slideshow": {
     "slide_type": "subslide"
    }
   },
   "source": [
    "Predictions can easily be added to a dataframe.\n",
    "\n",
    "Note the newdata argument. It could be any dataframe with the required coloumns (out of sample predictions). It is required here  so that predict returns a vector with 406 values (padded with `NA`s) instead of 400."
   ]
  },
  {
   "cell_type": "code",
   "execution_count": 117,
   "metadata": {},
   "outputs": [
    {
     "data": {
      "text/html": [
       "<table>\n",
       "<thead><tr><th scope=col>Acceleration</th><th scope=col>Cylinders</th><th scope=col>Displacement</th><th scope=col>Horsepower</th><th scope=col>Miles_per_Gallon</th><th scope=col>Name</th><th scope=col>Origin</th><th scope=col>Weight_in_lbs</th><th scope=col>Year</th><th scope=col>Weight_in_kg</th><th scope=col>l_per_100km</th><th scope=col>predicted_acceleration</th></tr></thead>\n",
       "<tbody>\n",
       "\t<tr><td>20.1              </td><td>5                 </td><td>183               </td><td> 77               </td><td>25.4              </td><td>mercedes benz 300d</td><td>Europe            </td><td>3530              </td><td>1979-01-01        </td><td>1601.180          </td><td> 9.260433         </td><td>17.44345          </td></tr>\n",
       "\t<tr><td>16.7              </td><td>6                 </td><td>168               </td><td>120               </td><td>16.5              </td><td>mercedes-benz 280s</td><td>Europe            </td><td>3820              </td><td>1976-01-01        </td><td>1732.721          </td><td>14.255455         </td><td>14.10835          </td></tr>\n",
       "\t<tr><td>13.6              </td><td>6                 </td><td>163               </td><td>125               </td><td>17.0              </td><td>volvo 264gl       </td><td>Europe            </td><td>3140              </td><td>1978-01-01        </td><td>1424.279          </td><td>13.836176         </td><td>13.69174          </td></tr>\n",
       "\t<tr><td>15.8              </td><td>6                 </td><td>163               </td><td>133               </td><td>16.2              </td><td>peugeot 604sl     </td><td>Europe            </td><td>3410              </td><td>1978-01-01        </td><td>1546.749          </td><td>14.519444         </td><td>13.10415          </td></tr>\n",
       "\t<tr><td>21.8              </td><td>4                 </td><td>146               </td><td> 67               </td><td>30.0              </td><td>mercedes-benz 240d</td><td>Europe            </td><td>3250              </td><td>1980-01-01        </td><td>1474.174          </td><td> 7.840500         </td><td>17.84130          </td></tr>\n",
       "\t<tr><td>19.6              </td><td>6                 </td><td>145               </td><td> 76               </td><td>30.7              </td><td>volvo diesel      </td><td>Europe            </td><td>3160              </td><td>1982-01-01        </td><td>1433.351          </td><td> 7.661726         </td><td>17.11297          </td></tr>\n",
       "</tbody>\n",
       "</table>\n"
      ],
      "text/latex": [
       "\\begin{tabular}{r|llllllllllll}\n",
       " Acceleration & Cylinders & Displacement & Horsepower & Miles\\_per\\_Gallon & Name & Origin & Weight\\_in\\_lbs & Year & Weight\\_in\\_kg & l\\_per\\_100km & predicted\\_acceleration\\\\\n",
       "\\hline\n",
       "\t 20.1               & 5                  & 183                &  77                & 25.4               & mercedes benz 300d & Europe             & 3530               & 1979-01-01         & 1601.180           &  9.260433          & 17.44345          \\\\\n",
       "\t 16.7               & 6                  & 168                & 120                & 16.5               & mercedes-benz 280s & Europe             & 3820               & 1976-01-01         & 1732.721           & 14.255455          & 14.10835          \\\\\n",
       "\t 13.6               & 6                  & 163                & 125                & 17.0               & volvo 264gl        & Europe             & 3140               & 1978-01-01         & 1424.279           & 13.836176          & 13.69174          \\\\\n",
       "\t 15.8               & 6                  & 163                & 133                & 16.2               & peugeot 604sl      & Europe             & 3410               & 1978-01-01         & 1546.749           & 14.519444          & 13.10415          \\\\\n",
       "\t 21.8               & 4                  & 146                &  67                & 30.0               & mercedes-benz 240d & Europe             & 3250               & 1980-01-01         & 1474.174           &  7.840500          & 17.84130          \\\\\n",
       "\t 19.6               & 6                  & 145                &  76                & 30.7               & volvo diesel       & Europe             & 3160               & 1982-01-01         & 1433.351           &  7.661726          & 17.11297          \\\\\n",
       "\\end{tabular}\n"
      ],
      "text/markdown": [
       "\n",
       "Acceleration | Cylinders | Displacement | Horsepower | Miles_per_Gallon | Name | Origin | Weight_in_lbs | Year | Weight_in_kg | l_per_100km | predicted_acceleration | \n",
       "|---|---|---|---|---|---|\n",
       "| 20.1               | 5                  | 183                |  77                | 25.4               | mercedes benz 300d | Europe             | 3530               | 1979-01-01         | 1601.180           |  9.260433          | 17.44345           | \n",
       "| 16.7               | 6                  | 168                | 120                | 16.5               | mercedes-benz 280s | Europe             | 3820               | 1976-01-01         | 1732.721           | 14.255455          | 14.10835           | \n",
       "| 13.6               | 6                  | 163                | 125                | 17.0               | volvo 264gl        | Europe             | 3140               | 1978-01-01         | 1424.279           | 13.836176          | 13.69174           | \n",
       "| 15.8               | 6                  | 163                | 133                | 16.2               | peugeot 604sl      | Europe             | 3410               | 1978-01-01         | 1546.749           | 14.519444          | 13.10415           | \n",
       "| 21.8               | 4                  | 146                |  67                | 30.0               | mercedes-benz 240d | Europe             | 3250               | 1980-01-01         | 1474.174           |  7.840500          | 17.84130           | \n",
       "| 19.6               | 6                  | 145                |  76                | 30.7               | volvo diesel       | Europe             | 3160               | 1982-01-01         | 1433.351           |  7.661726          | 17.11297           | \n",
       "\n",
       "\n"
      ],
      "text/plain": [
       "  Acceleration Cylinders Displacement Horsepower Miles_per_Gallon\n",
       "1 20.1         5         183           77        25.4            \n",
       "2 16.7         6         168          120        16.5            \n",
       "3 13.6         6         163          125        17.0            \n",
       "4 15.8         6         163          133        16.2            \n",
       "5 21.8         4         146           67        30.0            \n",
       "6 19.6         6         145           76        30.7            \n",
       "  Name               Origin Weight_in_lbs Year       Weight_in_kg l_per_100km\n",
       "1 mercedes benz 300d Europe 3530          1979-01-01 1601.180      9.260433  \n",
       "2 mercedes-benz 280s Europe 3820          1976-01-01 1732.721     14.255455  \n",
       "3 volvo 264gl        Europe 3140          1978-01-01 1424.279     13.836176  \n",
       "4 peugeot 604sl      Europe 3410          1978-01-01 1546.749     14.519444  \n",
       "5 mercedes-benz 240d Europe 3250          1980-01-01 1474.174      7.840500  \n",
       "6 volvo diesel       Europe 3160          1982-01-01 1433.351      7.661726  \n",
       "  predicted_acceleration\n",
       "1 17.44345              \n",
       "2 14.10835              \n",
       "3 13.69174              \n",
       "4 13.10415              \n",
       "5 17.84130              \n",
       "6 17.11297              "
      ]
     },
     "metadata": {},
     "output_type": "display_data"
    }
   ],
   "source": [
    "cars_tbl <- mutate(cars_tbl, predicted_acceleration = predict(model_2, newdata = cars_tbl))\n",
    "head(cars_tbl)"
   ]
  },
  {
   "cell_type": "markdown",
   "metadata": {
    "slideshow": {
     "slide_type": "subslide"
    }
   },
   "source": [
    "Similarly to `lm` (linear model), there are a host of other estimation functions. Some of the most useful are\n",
    " - `glm`: generalized linear models (probit, logit, Poisson, etc.)\n",
    " - `plm`: panel linear model (from the `plm` package)\n",
    " - `felm`: fixed effect models with possible instruments (from the `lfe` package)\n",
    "\n",
    "The nice thing is that `summary`, `predict` and similar functions work on the objects returned by these functions as well. (Technically R does single dispatch on the class of the object) You will also find coefficient vectors, R squared values, log-likelihoods (whenever applicable of course) similarly to linear models."
   ]
  },
  {
   "cell_type": "markdown",
   "metadata": {
    "slideshow": {
     "slide_type": "subslide"
    }
   },
   "source": [
    "## Making nice regression tables: `stargazer`\n",
    "\n",
    "Yes, it is *really* named after the first starship of Captain Picard."
   ]
  },
  {
   "cell_type": "code",
   "execution_count": 118,
   "metadata": {
    "slideshow": {
     "slide_type": "-"
    }
   },
   "outputs": [
    {
     "name": "stderr",
     "output_type": "stream",
     "text": [
      "\n",
      "Please cite as: \n",
      "\n",
      " Hlavac, Marek (2018). stargazer: Well-Formatted Regression and Summary Statistics Tables.\n",
      " R package version 5.2.2. https://CRAN.R-project.org/package=stargazer \n",
      "\n"
     ]
    }
   ],
   "source": [
    "library(stargazer)"
   ]
  },
  {
   "cell_type": "code",
   "execution_count": 132,
   "metadata": {
    "slideshow": {
     "slide_type": "subslide"
    }
   },
   "outputs": [
    {
     "name": "stdout",
     "output_type": "stream",
     "text": [
      "\n",
      "=============================================================================================\n",
      "                                               Dependent variable:                           \n",
      "                    -------------------------------------------------------------------------\n",
      "                                                  Acceleration                               \n",
      "                              (1)                      (2)                      (3)          \n",
      "---------------------------------------------------------------------------------------------\n",
      "Displacement                0.009***                 0.010***                 0.009**        \n",
      "                            (0.002)                  (0.004)                  (0.004)        \n",
      "                                                                                             \n",
      "Horsepower                 -0.073***                -0.073***                -0.068***       \n",
      "                            (0.006)                  (0.006)                  (0.006)        \n",
      "                                                                                             \n",
      "Cylinders                                             -0.029                                 \n",
      "                                                     (0.188)                                 \n",
      "                                                                                             \n",
      "factor(Cylinders)4                                                             1.608         \n",
      "                                                                              (1.016)        \n",
      "                                                                                             \n",
      "factor(Cylinders)5                                                            3.586**        \n",
      "                                                                              (1.533)        \n",
      "                                                                                             \n",
      "factor(Cylinders)6                                                             1.838         \n",
      "                                                                              (1.137)        \n",
      "                                                                                             \n",
      "factor(Cylinders)8                                                             1.119         \n",
      "                                                                              (1.318)        \n",
      "                                                                                             \n",
      "Constant                   21.362***                21.436***                19.295***       \n",
      "                            (0.313)                  (0.574)                  (1.105)        \n",
      "                                                                                             \n",
      "---------------------------------------------------------------------------------------------\n",
      "Observations                  400                      400                      400          \n",
      "R2                           0.510                    0.510                    0.521         \n",
      "Adjusted R2                  0.508                    0.506                    0.514         \n",
      "Residual Std. Error     1.968 (df = 397)         1.971 (df = 396)        1.956 (df = 393)    \n",
      "F Statistic         206.633*** (df = 2; 397) 137.424*** (df = 3; 396) 71.244*** (df = 6; 393)\n",
      "=============================================================================================\n",
      "Note:                                                             *p<0.1; **p<0.05; ***p<0.01\n"
     ]
    }
   ],
   "source": [
    "stargazer(model_1, model_2, model_3, type = \"text\")"
   ]
  },
  {
   "cell_type": "markdown",
   "metadata": {
    "slideshow": {
     "slide_type": "slide"
    }
   },
   "source": [
    "**Notable skipped things in this session:**\n",
    " - `NA`/`NaN` handling\n",
    " - named lists and vectors\n",
    " - working with dates and times\n",
    " - matrices\n",
    " - object classes\n",
    " - statistical tests\n",
    " \n",
    "But once you understand the basic workings of R, you can simply look these up in the documentation."
   ]
  },
  {
   "cell_type": "markdown",
   "metadata": {
    "slideshow": {
     "slide_type": "fragment"
    }
   },
   "source": [
    "**Further reading:**\n",
    "\n",
    " - The notes for this tutorial contain the non-tidyverse solutions for the data manipulation tasks\n",
    " - For beginners, Hadley Wickham's [R for Data Science](https://r4ds.had.co.nz/) is a wonderful book (available for free online)\n",
    " - If you would like to see how deep the rabbit hole goes, Hadley's other book, [Advanced R](https://adv-r.hadley.nz/) is a great next step (also available for free online)"
   ]
  },
  {
   "cell_type": "markdown",
   "metadata": {
    "slideshow": {
     "slide_type": "fragment"
    }
   },
   "source": [
    "And of course do not hesitate to write us if you have any questions regarding R!"
   ]
  },
  {
   "cell_type": "markdown",
   "metadata": {
    "slideshow": {
     "slide_type": "slide"
    }
   },
   "source": [
    "# Thank you!"
   ]
  }
 ],
 "metadata": {
  "celltoolbar": "Slideshow",
  "kernelspec": {
   "display_name": "R",
   "language": "R",
   "name": "ir"
  },
  "language_info": {
   "codemirror_mode": "r",
   "file_extension": ".r",
   "mimetype": "text/x-r-source",
   "name": "R",
   "pygments_lexer": "r",
   "version": "3.5.3"
  }
 },
 "nbformat": 4,
 "nbformat_minor": 4
}
